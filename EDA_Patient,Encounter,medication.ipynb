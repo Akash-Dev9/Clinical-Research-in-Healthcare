{
  "nbformat": 4,
  "nbformat_minor": 0,
  "metadata": {
    "colab": {
      "name": "EDA Patient,Encounter,medication.ipynb",
      "provenance": [],
      "collapsed_sections": [],
      "toc_visible": true
    },
    "kernelspec": {
      "name": "python3",
      "display_name": "Python 3"
    },
    "language_info": {
      "name": "python"
    },
    "accelerator": "GPU"
  },
  "cells": [
    {
      "cell_type": "code",
      "metadata": {
        "id": "tTabcMo_S-LI"
      },
      "source": [
        "import pandas as pd\n",
        "import numpy as np\n",
        "import matplotlib.pyplot as plt\n",
        "import warnings\n",
        "import seaborn as sns"
      ],
      "execution_count": null,
      "outputs": []
    },
    {
      "cell_type": "code",
      "metadata": {
        "id": "cTE1Tmh8TrAM"
      },
      "source": [
        "patients=pd.read_csv('/content/drive/MyDrive/datasets/patients.csv')\n",
        "encounters=pd.read_csv('/content/drive/MyDrive/datasets/encounters.csv')\n",
        "medication=pd.read_csv('/content/drive/MyDrive/datasets/medications.csv')"
      ],
      "execution_count": null,
      "outputs": []
    },
    {
      "cell_type": "code",
      "metadata": {
        "colab": {
          "base_uri": "https://localhost:8080/"
        },
        "id": "swlBonjtTrHw",
        "outputId": "17fe6640-868a-40a8-81ea-2d30e269ec88"
      },
      "source": [
        "print('The shape of patients table:',patients.shape)\n",
        "print('The shape of encounters table:',encounters.shape)\n",
        "print('The shape of medication table:',medication.shape)"
      ],
      "execution_count": null,
      "outputs": [
        {
          "output_type": "stream",
          "text": [
            "The shape of patients table: (11628, 25)\n",
            "The shape of encounters table: (1414254, 14)\n",
            "The shape of medication table: (556392, 13)\n"
          ],
          "name": "stdout"
        }
      ]
    },
    {
      "cell_type": "code",
      "metadata": {
        "colab": {
          "base_uri": "https://localhost:8080/"
        },
        "id": "NZJorYCfU--8",
        "outputId": "0a72cedc-b44d-4ef1-975b-de603ead61e4"
      },
      "source": [
        "print('The name of the patients table columns:',patients.columns)\n",
        "print('The name of the encounters table columns:',encounters.columns)\n",
        "print('The name of the medication table columns:',medication.columns)"
      ],
      "execution_count": null,
      "outputs": [
        {
          "output_type": "stream",
          "text": [
            "The name of the patients table columns: Index(['Id', 'BIRTHDATE', 'DEATHDATE', 'SSN', 'DRIVERS', 'PASSPORT', 'PREFIX',\n",
            "       'FIRST', 'LAST', 'SUFFIX', 'MAIDEN', 'MARITAL', 'RACE', 'ETHNICITY',\n",
            "       'GENDER', 'BIRTHPLACE', 'ADDRESS', 'CITY', 'STATE', 'COUNTY', 'ZIP',\n",
            "       'LAT', 'LON', 'HEALTHCARE_EXPENSES', 'HEALTHCARE_COVERAGE'],\n",
            "      dtype='object')\n",
            "The name of the encounters table columns: Index(['Id', 'START', 'STOP', 'PATIENT', 'PROVIDER', 'PAYER', 'ENCOUNTERCLASS',\n",
            "       'CODE', 'DESCRIPTION', 'BASE_ENCOUNTER_COST', 'TOTAL_CLAIM_COST',\n",
            "       'PAYER_COVERAGE', 'REASONCODE', 'REASONDESCRIPTION'],\n",
            "      dtype='object')\n",
            "The name of the medication table columns: Index(['START', 'STOP', 'PATIENT', 'PAYER', 'ENCOUNTER', 'CODE', 'DESCRIPTION',\n",
            "       'BASE_COST', 'PAYER_COVERAGE', 'DISPENSES', 'TOTALCOST', 'REASONCODE',\n",
            "       'REASONDESCRIPTION'],\n",
            "      dtype='object')\n"
          ],
          "name": "stdout"
        }
      ]
    },
    {
      "cell_type": "code",
      "metadata": {
        "colab": {
          "base_uri": "https://localhost:8080/"
        },
        "id": "NhhkOPc3TrN2",
        "outputId": "8265db16-2b41-4a7b-b0f1-78e79b389bc3"
      },
      "source": [
        "pat_enc=pd.merge(patients,encounters,how='outer')\n",
        "pat_enc.shape"
      ],
      "execution_count": null,
      "outputs": [
        {
          "output_type": "execute_result",
          "data": {
            "text/plain": [
              "(1425882, 38)"
            ]
          },
          "metadata": {
            "tags": []
          },
          "execution_count": 89
        }
      ]
    },
    {
      "cell_type": "code",
      "metadata": {
        "colab": {
          "base_uri": "https://localhost:8080/"
        },
        "id": "C4xOLRG3XDq3",
        "outputId": "d9a9dd8c-a4ba-404a-e2b5-270c50e3d323"
      },
      "source": [
        "pat_enc.columns"
      ],
      "execution_count": null,
      "outputs": [
        {
          "output_type": "execute_result",
          "data": {
            "text/plain": [
              "Index(['Id', 'BIRTHDATE', 'DEATHDATE', 'SSN', 'DRIVERS', 'PASSPORT', 'PREFIX',\n",
              "       'FIRST', 'LAST', 'SUFFIX', 'MAIDEN', 'MARITAL', 'RACE', 'ETHNICITY',\n",
              "       'GENDER', 'BIRTHPLACE', 'ADDRESS', 'CITY', 'STATE', 'COUNTY', 'ZIP',\n",
              "       'LAT', 'LON', 'HEALTHCARE_EXPENSES', 'HEALTHCARE_COVERAGE', 'START',\n",
              "       'STOP', 'PATIENT', 'PROVIDER', 'PAYER', 'ENCOUNTERCLASS', 'CODE',\n",
              "       'DESCRIPTION', 'BASE_ENCOUNTER_COST', 'TOTAL_CLAIM_COST',\n",
              "       'PAYER_COVERAGE', 'REASONCODE', 'REASONDESCRIPTION'],\n",
              "      dtype='object')"
            ]
          },
          "metadata": {
            "tags": []
          },
          "execution_count": 90
        }
      ]
    },
    {
      "cell_type": "code",
      "metadata": {
        "colab": {
          "base_uri": "https://localhost:8080/",
          "height": 233
        },
        "id": "VwcWN3hxXR52",
        "outputId": "2b4be1b0-1a78-451f-d8aa-726cf25186e1"
      },
      "source": [
        "pat_enc.head(n=2)"
      ],
      "execution_count": null,
      "outputs": [
        {
          "output_type": "execute_result",
          "data": {
            "text/html": [
              "<div>\n",
              "<style scoped>\n",
              "    .dataframe tbody tr th:only-of-type {\n",
              "        vertical-align: middle;\n",
              "    }\n",
              "\n",
              "    .dataframe tbody tr th {\n",
              "        vertical-align: top;\n",
              "    }\n",
              "\n",
              "    .dataframe thead th {\n",
              "        text-align: right;\n",
              "    }\n",
              "</style>\n",
              "<table border=\"1\" class=\"dataframe\">\n",
              "  <thead>\n",
              "    <tr style=\"text-align: right;\">\n",
              "      <th></th>\n",
              "      <th>Id</th>\n",
              "      <th>BIRTHDATE</th>\n",
              "      <th>DEATHDATE</th>\n",
              "      <th>SSN</th>\n",
              "      <th>DRIVERS</th>\n",
              "      <th>PASSPORT</th>\n",
              "      <th>PREFIX</th>\n",
              "      <th>FIRST</th>\n",
              "      <th>LAST</th>\n",
              "      <th>SUFFIX</th>\n",
              "      <th>MAIDEN</th>\n",
              "      <th>MARITAL</th>\n",
              "      <th>RACE</th>\n",
              "      <th>ETHNICITY</th>\n",
              "      <th>GENDER</th>\n",
              "      <th>BIRTHPLACE</th>\n",
              "      <th>ADDRESS</th>\n",
              "      <th>CITY</th>\n",
              "      <th>STATE</th>\n",
              "      <th>COUNTY</th>\n",
              "      <th>ZIP</th>\n",
              "      <th>LAT</th>\n",
              "      <th>LON</th>\n",
              "      <th>HEALTHCARE_EXPENSES</th>\n",
              "      <th>HEALTHCARE_COVERAGE</th>\n",
              "      <th>START</th>\n",
              "      <th>STOP</th>\n",
              "      <th>PATIENT</th>\n",
              "      <th>PROVIDER</th>\n",
              "      <th>PAYER</th>\n",
              "      <th>ENCOUNTERCLASS</th>\n",
              "      <th>CODE</th>\n",
              "      <th>DESCRIPTION</th>\n",
              "      <th>BASE_ENCOUNTER_COST</th>\n",
              "      <th>TOTAL_CLAIM_COST</th>\n",
              "      <th>PAYER_COVERAGE</th>\n",
              "      <th>REASONCODE</th>\n",
              "      <th>REASONDESCRIPTION</th>\n",
              "    </tr>\n",
              "  </thead>\n",
              "  <tbody>\n",
              "    <tr>\n",
              "      <th>0</th>\n",
              "      <td>360a1024-645a-4c50-b94c-1689b34beace</td>\n",
              "      <td>1964-02-06</td>\n",
              "      <td>NaN</td>\n",
              "      <td>999-17-6800</td>\n",
              "      <td>S99989157</td>\n",
              "      <td>X56122130X</td>\n",
              "      <td>Mr.</td>\n",
              "      <td>Toby274</td>\n",
              "      <td>Weissnat378</td>\n",
              "      <td>NaN</td>\n",
              "      <td>NaN</td>\n",
              "      <td>M</td>\n",
              "      <td>white</td>\n",
              "      <td>nonhispanic</td>\n",
              "      <td>M</td>\n",
              "      <td>Boston  Massachusetts  US</td>\n",
              "      <td>158 Dickens Run Apt 28</td>\n",
              "      <td>Peabody</td>\n",
              "      <td>Massachusetts</td>\n",
              "      <td>Essex County</td>\n",
              "      <td>1940.0</td>\n",
              "      <td>42.528637</td>\n",
              "      <td>-70.978363</td>\n",
              "      <td>1151953.87</td>\n",
              "      <td>3977.08</td>\n",
              "      <td>NaN</td>\n",
              "      <td>NaN</td>\n",
              "      <td>NaN</td>\n",
              "      <td>NaN</td>\n",
              "      <td>NaN</td>\n",
              "      <td>NaN</td>\n",
              "      <td>NaN</td>\n",
              "      <td>NaN</td>\n",
              "      <td>NaN</td>\n",
              "      <td>NaN</td>\n",
              "      <td>NaN</td>\n",
              "      <td>NaN</td>\n",
              "      <td>NaN</td>\n",
              "    </tr>\n",
              "    <tr>\n",
              "      <th>1</th>\n",
              "      <td>2d0a9468-9cc7-47c6-a757-2944fb7a754d</td>\n",
              "      <td>2000-09-28</td>\n",
              "      <td>NaN</td>\n",
              "      <td>999-29-7379</td>\n",
              "      <td>S99924139</td>\n",
              "      <td>NaN</td>\n",
              "      <td>Mr.</td>\n",
              "      <td>Don899</td>\n",
              "      <td>Kris249</td>\n",
              "      <td>NaN</td>\n",
              "      <td>NaN</td>\n",
              "      <td>NaN</td>\n",
              "      <td>black</td>\n",
              "      <td>nonhispanic</td>\n",
              "      <td>M</td>\n",
              "      <td>Boston  Massachusetts  US</td>\n",
              "      <td>1040 Rogahn Well Apt 6</td>\n",
              "      <td>Norwell</td>\n",
              "      <td>Massachusetts</td>\n",
              "      <td>Plymouth County</td>\n",
              "      <td>NaN</td>\n",
              "      <td>42.137960</td>\n",
              "      <td>-70.790171</td>\n",
              "      <td>451545.13</td>\n",
              "      <td>5476.16</td>\n",
              "      <td>NaN</td>\n",
              "      <td>NaN</td>\n",
              "      <td>NaN</td>\n",
              "      <td>NaN</td>\n",
              "      <td>NaN</td>\n",
              "      <td>NaN</td>\n",
              "      <td>NaN</td>\n",
              "      <td>NaN</td>\n",
              "      <td>NaN</td>\n",
              "      <td>NaN</td>\n",
              "      <td>NaN</td>\n",
              "      <td>NaN</td>\n",
              "      <td>NaN</td>\n",
              "    </tr>\n",
              "  </tbody>\n",
              "</table>\n",
              "</div>"
            ],
            "text/plain": [
              "                                     Id  ... REASONDESCRIPTION\n",
              "0  360a1024-645a-4c50-b94c-1689b34beace  ...               NaN\n",
              "1  2d0a9468-9cc7-47c6-a757-2944fb7a754d  ...               NaN\n",
              "\n",
              "[2 rows x 38 columns]"
            ]
          },
          "metadata": {
            "tags": []
          },
          "execution_count": 91
        }
      ]
    },
    {
      "cell_type": "code",
      "metadata": {
        "id": "OcJcDgPoXG5a"
      },
      "source": [
        "pat_enc_df=pat_enc[['FIRST','MARITAL','RACE','ETHNICITY','GENDER','CITY','STATE','COUNTY',\n",
        "                    'HEALTHCARE_EXPENSES','HEALTHCARE_COVERAGE','PATIENT','PROVIDER','PAYER','DESCRIPTION']]"
      ],
      "execution_count": null,
      "outputs": []
    },
    {
      "cell_type": "code",
      "metadata": {
        "colab": {
          "base_uri": "https://localhost:8080/"
        },
        "id": "8FGfOFrsYm6Y",
        "outputId": "109ef591-5a5a-4543-abec-f94e494d642c"
      },
      "source": [
        "pat_enc_df.columns"
      ],
      "execution_count": null,
      "outputs": [
        {
          "output_type": "execute_result",
          "data": {
            "text/plain": [
              "Index(['FIRST', 'MARITAL', 'RACE', 'ETHNICITY', 'GENDER', 'CITY', 'STATE',\n",
              "       'COUNTY', 'HEALTHCARE_EXPENSES', 'HEALTHCARE_COVERAGE', 'PATIENT',\n",
              "       'PROVIDER', 'PAYER', 'DESCRIPTION'],\n",
              "      dtype='object')"
            ]
          },
          "metadata": {
            "tags": []
          },
          "execution_count": 93
        }
      ]
    },
    {
      "cell_type": "code",
      "metadata": {
        "colab": {
          "base_uri": "https://localhost:8080/",
          "height": 142
        },
        "id": "OxEgg3-QeQep",
        "outputId": "99a40a4c-b0e0-4d8b-d5fa-20b876f4c5e3"
      },
      "source": [
        "pat_enc_df[['RACE','ETHNICITY']].groupby('ETHNICITY').count().sort_values('ETHNICITY',ascending=False)"
      ],
      "execution_count": null,
      "outputs": [
        {
          "output_type": "execute_result",
          "data": {
            "text/html": [
              "<div>\n",
              "<style scoped>\n",
              "    .dataframe tbody tr th:only-of-type {\n",
              "        vertical-align: middle;\n",
              "    }\n",
              "\n",
              "    .dataframe tbody tr th {\n",
              "        vertical-align: top;\n",
              "    }\n",
              "\n",
              "    .dataframe thead th {\n",
              "        text-align: right;\n",
              "    }\n",
              "</style>\n",
              "<table border=\"1\" class=\"dataframe\">\n",
              "  <thead>\n",
              "    <tr style=\"text-align: right;\">\n",
              "      <th></th>\n",
              "      <th>RACE</th>\n",
              "    </tr>\n",
              "    <tr>\n",
              "      <th>ETHNICITY</th>\n",
              "      <th></th>\n",
              "    </tr>\n",
              "  </thead>\n",
              "  <tbody>\n",
              "    <tr>\n",
              "      <th>nonhispanic</th>\n",
              "      <td>10318</td>\n",
              "    </tr>\n",
              "    <tr>\n",
              "      <th>hispanic</th>\n",
              "      <td>1310</td>\n",
              "    </tr>\n",
              "  </tbody>\n",
              "</table>\n",
              "</div>"
            ],
            "text/plain": [
              "              RACE\n",
              "ETHNICITY         \n",
              "nonhispanic  10318\n",
              "hispanic      1310"
            ]
          },
          "metadata": {
            "tags": []
          },
          "execution_count": 94
        }
      ]
    },
    {
      "cell_type": "markdown",
      "metadata": {
        "id": "4hwRjDjWexbe"
      },
      "source": [
        "Ethnicity is the fact or state of belonging to a social group that has a common national or cultural tradition \n",
        "\n",
        "---\n",
        "\n",
        "\n",
        "\n",
        "1.   Non-Hispanic Whites (also referred to as Anglo-​Americans) are European Americans, Middle Eastern Americans, and North African\n",
        "2.   Hispanic or Latino to refer to a person of Cuban, Mexican,South or Central\n",
        "American, or other Spanish culture or origin regardless of race and states that Hispanics or Latinos can be of any race, any ancestry, any ethnicity. \n",
        "\n",
        "---\n",
        "\n",
        "We can see its not a mixture of one particular group of people ,as per the data set the health condition data as per by ethnicity we can say that 95% of data belongs from UNITED STATES of AMERICA\n",
        "\n"
      ]
    },
    {
      "cell_type": "code",
      "metadata": {
        "colab": {
          "base_uri": "https://localhost:8080/",
          "height": 142
        },
        "id": "129NStdyhFOx",
        "outputId": "2840927b-bbf2-4199-b8f7-2991443cf94e"
      },
      "source": [
        "pat_enc_df[['ETHNICITY','GENDER']].groupby('GENDER').count().sort_values('ETHNICITY',ascending=False)"
      ],
      "execution_count": null,
      "outputs": [
        {
          "output_type": "execute_result",
          "data": {
            "text/html": [
              "<div>\n",
              "<style scoped>\n",
              "    .dataframe tbody tr th:only-of-type {\n",
              "        vertical-align: middle;\n",
              "    }\n",
              "\n",
              "    .dataframe tbody tr th {\n",
              "        vertical-align: top;\n",
              "    }\n",
              "\n",
              "    .dataframe thead th {\n",
              "        text-align: right;\n",
              "    }\n",
              "</style>\n",
              "<table border=\"1\" class=\"dataframe\">\n",
              "  <thead>\n",
              "    <tr style=\"text-align: right;\">\n",
              "      <th></th>\n",
              "      <th>ETHNICITY</th>\n",
              "    </tr>\n",
              "    <tr>\n",
              "      <th>GENDER</th>\n",
              "      <th></th>\n",
              "    </tr>\n",
              "  </thead>\n",
              "  <tbody>\n",
              "    <tr>\n",
              "      <th>F</th>\n",
              "      <td>5921</td>\n",
              "    </tr>\n",
              "    <tr>\n",
              "      <th>M</th>\n",
              "      <td>5707</td>\n",
              "    </tr>\n",
              "  </tbody>\n",
              "</table>\n",
              "</div>"
            ],
            "text/plain": [
              "        ETHNICITY\n",
              "GENDER           \n",
              "F            5921\n",
              "M            5707"
            ]
          },
          "metadata": {
            "tags": []
          },
          "execution_count": 95
        }
      ]
    },
    {
      "cell_type": "code",
      "metadata": {
        "colab": {
          "base_uri": "https://localhost:8080/",
          "height": 514
        },
        "id": "p9JuKBp3e_F9",
        "outputId": "30116e3f-1167-4e97-eb9e-d7ca27d74874"
      },
      "source": [
        "\n",
        "pat_enc_df[['ETHNICITY','COUNTY']].groupby('COUNTY').count().sort_values('COUNTY',ascending=False)"
      ],
      "execution_count": null,
      "outputs": [
        {
          "output_type": "execute_result",
          "data": {
            "text/html": [
              "<div>\n",
              "<style scoped>\n",
              "    .dataframe tbody tr th:only-of-type {\n",
              "        vertical-align: middle;\n",
              "    }\n",
              "\n",
              "    .dataframe tbody tr th {\n",
              "        vertical-align: top;\n",
              "    }\n",
              "\n",
              "    .dataframe thead th {\n",
              "        text-align: right;\n",
              "    }\n",
              "</style>\n",
              "<table border=\"1\" class=\"dataframe\">\n",
              "  <thead>\n",
              "    <tr style=\"text-align: right;\">\n",
              "      <th></th>\n",
              "      <th>ETHNICITY</th>\n",
              "    </tr>\n",
              "    <tr>\n",
              "      <th>COUNTY</th>\n",
              "      <th></th>\n",
              "    </tr>\n",
              "  </thead>\n",
              "  <tbody>\n",
              "    <tr>\n",
              "      <th>Worcester County</th>\n",
              "      <td>1459</td>\n",
              "    </tr>\n",
              "    <tr>\n",
              "      <th>Suffolk County</th>\n",
              "      <td>1295</td>\n",
              "    </tr>\n",
              "    <tr>\n",
              "      <th>Plymouth County</th>\n",
              "      <td>893</td>\n",
              "    </tr>\n",
              "    <tr>\n",
              "      <th>Norfolk County</th>\n",
              "      <td>1144</td>\n",
              "    </tr>\n",
              "    <tr>\n",
              "      <th>Nantucket County</th>\n",
              "      <td>13</td>\n",
              "    </tr>\n",
              "    <tr>\n",
              "      <th>Middlesex County</th>\n",
              "      <td>2621</td>\n",
              "    </tr>\n",
              "    <tr>\n",
              "      <th>Hampshire County</th>\n",
              "      <td>320</td>\n",
              "    </tr>\n",
              "    <tr>\n",
              "      <th>Hampden County</th>\n",
              "      <td>768</td>\n",
              "    </tr>\n",
              "    <tr>\n",
              "      <th>Franklin County</th>\n",
              "      <td>118</td>\n",
              "    </tr>\n",
              "    <tr>\n",
              "      <th>Essex County</th>\n",
              "      <td>1310</td>\n",
              "    </tr>\n",
              "    <tr>\n",
              "      <th>Dukes County</th>\n",
              "      <td>29</td>\n",
              "    </tr>\n",
              "    <tr>\n",
              "      <th>Bristol County</th>\n",
              "      <td>1015</td>\n",
              "    </tr>\n",
              "    <tr>\n",
              "      <th>Berkshire County</th>\n",
              "      <td>251</td>\n",
              "    </tr>\n",
              "    <tr>\n",
              "      <th>Barnstable County</th>\n",
              "      <td>392</td>\n",
              "    </tr>\n",
              "  </tbody>\n",
              "</table>\n",
              "</div>"
            ],
            "text/plain": [
              "                   ETHNICITY\n",
              "COUNTY                      \n",
              "Worcester County        1459\n",
              "Suffolk County          1295\n",
              "Plymouth County          893\n",
              "Norfolk County          1144\n",
              "Nantucket County          13\n",
              "Middlesex County        2621\n",
              "Hampshire County         320\n",
              "Hampden County           768\n",
              "Franklin County          118\n",
              "Essex County            1310\n",
              "Dukes County              29\n",
              "Bristol County          1015\n",
              "Berkshire County         251\n",
              "Barnstable County        392"
            ]
          },
          "metadata": {
            "tags": []
          },
          "execution_count": 96
        }
      ]
    },
    {
      "cell_type": "code",
      "metadata": {
        "colab": {
          "base_uri": "https://localhost:8080/",
          "height": 483
        },
        "id": "sPGdjGOAjhYR",
        "outputId": "456b9099-b080-476c-bc85-337175a56e4d"
      },
      "source": [
        "plt.figure(figsize=(8,8))\n",
        "pat_enc_df.COUNTY[pat_enc_df.GENDER=='M'].value_counts().plot(kind='pie',autopct='%1.1f%%')"
      ],
      "execution_count": null,
      "outputs": [
        {
          "output_type": "execute_result",
          "data": {
            "text/plain": [
              "<matplotlib.axes._subplots.AxesSubplot at 0x7fef27076190>"
            ]
          },
          "metadata": {
            "tags": []
          },
          "execution_count": 97
        },
        {
          "output_type": "display_data",
          "data": {
            "image/png": "[encoded data removed]",
            "text/plain": [
              "<Figure size 576x576 with 1 Axes>"
            ]
          },
          "metadata": {
            "tags": []
          }
        }
      ]
    },
    {
      "cell_type": "code",
      "metadata": {
        "colab": {
          "base_uri": "https://localhost:8080/",
          "height": 483
        },
        "id": "5nSCd0VrlBuu",
        "outputId": "e3e87b6c-81f6-40cb-941a-360694c84b28"
      },
      "source": [
        "plt.figure(figsize=(8,8))\n",
        "pat_enc_df.COUNTY[pat_enc_df.GENDER=='F'].value_counts().plot(kind='pie',autopct='%1.1f%%')"
      ],
      "execution_count": null,
      "outputs": [
        {
          "output_type": "execute_result",
          "data": {
            "text/plain": [
              "<matplotlib.axes._subplots.AxesSubplot at 0x7fef26ffb890>"
            ]
          },
          "metadata": {
            "tags": []
          },
          "execution_count": 98
        },
        {
          "output_type": "display_data",
          "data": {
            "image/png": "[encoded data removed]",
            "text/plain": [
              "<Figure size 576x576 with 1 Axes>"
            ]
          },
          "metadata": {
            "tags": []
          }
        }
      ]
    },
    {
      "cell_type": "markdown",
      "metadata": {
        "id": "wDpc_MKPlMPS"
      },
      "source": [
        "The ratio between male and female is almost equal not much difference in terms of percentage between the gender within the country"
      ]
    },
    {
      "cell_type": "code",
      "metadata": {
        "colab": {
          "base_uri": "https://localhost:8080/",
          "height": 267
        },
        "id": "4_Jixn80LNS7",
        "outputId": "6a157926-1835-41b0-9396-79dda64f05cc"
      },
      "source": [
        "medication.head(n=2)"
      ],
      "execution_count": null,
      "outputs": [
        {
          "output_type": "execute_result",
          "data": {
            "text/html": [
              "<div>\n",
              "<style scoped>\n",
              "    .dataframe tbody tr th:only-of-type {\n",
              "        vertical-align: middle;\n",
              "    }\n",
              "\n",
              "    .dataframe tbody tr th {\n",
              "        vertical-align: top;\n",
              "    }\n",
              "\n",
              "    .dataframe thead th {\n",
              "        text-align: right;\n",
              "    }\n",
              "</style>\n",
              "<table border=\"1\" class=\"dataframe\">\n",
              "  <thead>\n",
              "    <tr style=\"text-align: right;\">\n",
              "      <th></th>\n",
              "      <th>START</th>\n",
              "      <th>STOP</th>\n",
              "      <th>PATIENT</th>\n",
              "      <th>PAYER</th>\n",
              "      <th>ENCOUNTER</th>\n",
              "      <th>CODE</th>\n",
              "      <th>DESCRIPTION</th>\n",
              "      <th>BASE_COST</th>\n",
              "      <th>PAYER_COVERAGE</th>\n",
              "      <th>DISPENSES</th>\n",
              "      <th>TOTALCOST</th>\n",
              "      <th>REASONCODE</th>\n",
              "      <th>REASONDESCRIPTION</th>\n",
              "    </tr>\n",
              "  </thead>\n",
              "  <tbody>\n",
              "    <tr>\n",
              "      <th>0</th>\n",
              "      <td>1993-04-29</td>\n",
              "      <td>1993-05-13</td>\n",
              "      <td>2d0a9468-9cc7-47c6-a757-2944fb7a754d</td>\n",
              "      <td>5059a55e-5d6e-34d1-b6cb-d83d16e57bcf</td>\n",
              "      <td>4548cd8e-7578-46b5-8028-2b2164b00b6d</td>\n",
              "      <td>562251</td>\n",
              "      <td>Amoxicillin 250 MG / Clavulanate 125 MG Oral T...</td>\n",
              "      <td>39.19</td>\n",
              "      <td>0.0</td>\n",
              "      <td>1</td>\n",
              "      <td>39.19</td>\n",
              "      <td>444814009.0</td>\n",
              "      <td>Viral sinusitis (disorder)</td>\n",
              "    </tr>\n",
              "    <tr>\n",
              "      <th>1</th>\n",
              "      <td>1996-02-02</td>\n",
              "      <td>1996-02-09</td>\n",
              "      <td>2d0a9468-9cc7-47c6-a757-2944fb7a754d</td>\n",
              "      <td>5059a55e-5d6e-34d1-b6cb-d83d16e57bcf</td>\n",
              "      <td>3c6727fd-c572-481c-85ae-9832b147a021</td>\n",
              "      <td>562251</td>\n",
              "      <td>Amoxicillin 250 MG / Clavulanate 125 MG Oral T...</td>\n",
              "      <td>64.34</td>\n",
              "      <td>0.0</td>\n",
              "      <td>1</td>\n",
              "      <td>64.34</td>\n",
              "      <td>444814009.0</td>\n",
              "      <td>Viral sinusitis (disorder)</td>\n",
              "    </tr>\n",
              "  </tbody>\n",
              "</table>\n",
              "</div>"
            ],
            "text/plain": [
              "        START        STOP  ...   REASONCODE           REASONDESCRIPTION\n",
              "0  1993-04-29  1993-05-13  ...  444814009.0  Viral sinusitis (disorder)\n",
              "1  1996-02-02  1996-02-09  ...  444814009.0  Viral sinusitis (disorder)\n",
              "\n",
              "[2 rows x 13 columns]"
            ]
          },
          "metadata": {
            "tags": []
          },
          "execution_count": 99
        }
      ]
    },
    {
      "cell_type": "code",
      "metadata": {
        "colab": {
          "base_uri": "https://localhost:8080/",
          "height": 235
        },
        "id": "J8nc6PGaK4Oe",
        "outputId": "dc497a70-ff14-4719-bd96-4ca4bad23bf3"
      },
      "source": [
        "medication[['REASONDESCRIPTION','DESCRIPTION']].groupby('DESCRIPTION').count() \\\n",
        ".sort_values('REASONDESCRIPTION',ascending=False).head()"
      ],
      "execution_count": null,
      "outputs": [
        {
          "output_type": "execute_result",
          "data": {
            "text/html": [
              "<div>\n",
              "<style scoped>\n",
              "    .dataframe tbody tr th:only-of-type {\n",
              "        vertical-align: middle;\n",
              "    }\n",
              "\n",
              "    .dataframe tbody tr th {\n",
              "        vertical-align: top;\n",
              "    }\n",
              "\n",
              "    .dataframe thead th {\n",
              "        text-align: right;\n",
              "    }\n",
              "</style>\n",
              "<table border=\"1\" class=\"dataframe\">\n",
              "  <thead>\n",
              "    <tr style=\"text-align: right;\">\n",
              "      <th></th>\n",
              "      <th>REASONDESCRIPTION</th>\n",
              "    </tr>\n",
              "    <tr>\n",
              "      <th>DESCRIPTION</th>\n",
              "      <th></th>\n",
              "    </tr>\n",
              "  </thead>\n",
              "  <tbody>\n",
              "    <tr>\n",
              "      <th>Hydrochlorothiazide 25 MG Oral Tablet</th>\n",
              "      <td>48165</td>\n",
              "    </tr>\n",
              "    <tr>\n",
              "      <th>insulin human  isophane 70 UNT/ML / Regular Insulin  Human 30 UNT/ML Injectable Suspension [Humulin]</th>\n",
              "      <td>36727</td>\n",
              "    </tr>\n",
              "    <tr>\n",
              "      <th>amLODIPine 5 MG / Hydrochlorothiazide 12.5 MG / Olmesartan medoxomil 20 MG Oral Tablet</th>\n",
              "      <td>32477</td>\n",
              "    </tr>\n",
              "    <tr>\n",
              "      <th>Atenolol 50 MG / Chlorthalidone 25 MG Oral Tablet</th>\n",
              "      <td>31789</td>\n",
              "    </tr>\n",
              "    <tr>\n",
              "      <th>1 ML Epoetin Alfa 4000 UNT/ML Injection [Epogen]</th>\n",
              "      <td>28019</td>\n",
              "    </tr>\n",
              "  </tbody>\n",
              "</table>\n",
              "</div>"
            ],
            "text/plain": [
              "                                                    REASONDESCRIPTION\n",
              "DESCRIPTION                                                          \n",
              "Hydrochlorothiazide 25 MG Oral Tablet                           48165\n",
              "insulin human  isophane 70 UNT/ML / Regular Ins...              36727\n",
              "amLODIPine 5 MG / Hydrochlorothiazide 12.5 MG /...              32477\n",
              "Atenolol 50 MG / Chlorthalidone 25 MG Oral Tablet               31789\n",
              "1 ML Epoetin Alfa 4000 UNT/ML Injection [Epogen]                28019"
            ]
          },
          "metadata": {
            "tags": []
          },
          "execution_count": 100
        }
      ]
    },
    {
      "cell_type": "markdown",
      "metadata": {
        "id": "GAvN7JjYeUlS"
      },
      "source": [
        "Medication such as :\n",
        "\n",
        "Hydrochlorothiazide 25 MG/amLODIPine 5 MG-To treat Blood Pressure.\n",
        "insulin human isophane 70 UNT/ML / Regular Insulin Human 30- To control high blood sugar in adults with diabetes mellitus.\n",
        "Atenolol and chlorthalidone-To treat hypertension.\n",
        "Epoetin Alfa 4000 -To treat anemia (a lower than normal number of red blood cells) in people with chronic kidney failure (condition in which the kidneys slowly and permanently stop working over a period of time)"
      ]
    },
    {
      "cell_type": "code",
      "metadata": {
        "colab": {
          "base_uri": "https://localhost:8080/",
          "height": 235
        },
        "id": "-eLh9m5QeLss",
        "outputId": "060c657c-771b-4f76-f993-2597cd47ab19"
      },
      "source": [
        "medication[['DESCRIPTION','TOTALCOST']].groupby('DESCRIPTION').count() \\\n",
        ".sort_values('TOTALCOST',ascending=False).head()"
      ],
      "execution_count": null,
      "outputs": [
        {
          "output_type": "execute_result",
          "data": {
            "text/html": [
              "<div>\n",
              "<style scoped>\n",
              "    .dataframe tbody tr th:only-of-type {\n",
              "        vertical-align: middle;\n",
              "    }\n",
              "\n",
              "    .dataframe tbody tr th {\n",
              "        vertical-align: top;\n",
              "    }\n",
              "\n",
              "    .dataframe thead th {\n",
              "        text-align: right;\n",
              "    }\n",
              "</style>\n",
              "<table border=\"1\" class=\"dataframe\">\n",
              "  <thead>\n",
              "    <tr style=\"text-align: right;\">\n",
              "      <th></th>\n",
              "      <th>TOTALCOST</th>\n",
              "    </tr>\n",
              "    <tr>\n",
              "      <th>DESCRIPTION</th>\n",
              "      <th></th>\n",
              "    </tr>\n",
              "  </thead>\n",
              "  <tbody>\n",
              "    <tr>\n",
              "      <th>Hydrochlorothiazide 25 MG Oral Tablet</th>\n",
              "      <td>48165</td>\n",
              "    </tr>\n",
              "    <tr>\n",
              "      <th>insulin human  isophane 70 UNT/ML / Regular Insulin  Human 30 UNT/ML Injectable Suspension [Humulin]</th>\n",
              "      <td>36727</td>\n",
              "    </tr>\n",
              "    <tr>\n",
              "      <th>amLODIPine 5 MG / Hydrochlorothiazide 12.5 MG / Olmesartan medoxomil 20 MG Oral Tablet</th>\n",
              "      <td>32477</td>\n",
              "    </tr>\n",
              "    <tr>\n",
              "      <th>Atenolol 50 MG / Chlorthalidone 25 MG Oral Tablet</th>\n",
              "      <td>31789</td>\n",
              "    </tr>\n",
              "    <tr>\n",
              "      <th>Acetaminophen 325 MG Oral Tablet</th>\n",
              "      <td>28688</td>\n",
              "    </tr>\n",
              "  </tbody>\n",
              "</table>\n",
              "</div>"
            ],
            "text/plain": [
              "                                                    TOTALCOST\n",
              "DESCRIPTION                                                  \n",
              "Hydrochlorothiazide 25 MG Oral Tablet                   48165\n",
              "insulin human  isophane 70 UNT/ML / Regular Ins...      36727\n",
              "amLODIPine 5 MG / Hydrochlorothiazide 12.5 MG /...      32477\n",
              "Atenolol 50 MG / Chlorthalidone 25 MG Oral Tablet       31789\n",
              "Acetaminophen 325 MG Oral Tablet                        28688"
            ]
          },
          "metadata": {
            "tags": []
          },
          "execution_count": 101
        }
      ]
    },
    {
      "cell_type": "markdown",
      "metadata": {
        "id": "QfJp7rDqeYzV"
      },
      "source": [
        "Medication for diabetes ,hypertension,kidney problem cost more than any other occurence"
      ]
    },
    {
      "cell_type": "code",
      "metadata": {
        "colab": {
          "base_uri": "https://localhost:8080/",
          "height": 235
        },
        "id": "cxgDI_qReFQR",
        "outputId": "779b0946-2766-4b19-e89d-008aac8d272e"
      },
      "source": [
        "medication[['REASONDESCRIPTION','TOTALCOST']].groupby('REASONDESCRIPTION').count() \\\n",
        ".sort_values('TOTALCOST',ascending=False).head()"
      ],
      "execution_count": null,
      "outputs": [
        {
          "output_type": "execute_result",
          "data": {
            "text/html": [
              "<div>\n",
              "<style scoped>\n",
              "    .dataframe tbody tr th:only-of-type {\n",
              "        vertical-align: middle;\n",
              "    }\n",
              "\n",
              "    .dataframe tbody tr th {\n",
              "        vertical-align: top;\n",
              "    }\n",
              "\n",
              "    .dataframe thead th {\n",
              "        text-align: right;\n",
              "    }\n",
              "</style>\n",
              "<table border=\"1\" class=\"dataframe\">\n",
              "  <thead>\n",
              "    <tr style=\"text-align: right;\">\n",
              "      <th></th>\n",
              "      <th>TOTALCOST</th>\n",
              "    </tr>\n",
              "    <tr>\n",
              "      <th>REASONDESCRIPTION</th>\n",
              "      <th></th>\n",
              "    </tr>\n",
              "  </thead>\n",
              "  <tbody>\n",
              "    <tr>\n",
              "      <th>Hypertension</th>\n",
              "      <td>129417</td>\n",
              "    </tr>\n",
              "    <tr>\n",
              "      <th>Diabetes</th>\n",
              "      <td>64750</td>\n",
              "    </tr>\n",
              "    <tr>\n",
              "      <th>Childhood asthma</th>\n",
              "      <td>47698</td>\n",
              "    </tr>\n",
              "    <tr>\n",
              "      <th>Anemia (disorder)</th>\n",
              "      <td>28019</td>\n",
              "    </tr>\n",
              "    <tr>\n",
              "      <th>Acute bronchitis (disorder)</th>\n",
              "      <td>26230</td>\n",
              "    </tr>\n",
              "  </tbody>\n",
              "</table>\n",
              "</div>"
            ],
            "text/plain": [
              "                             TOTALCOST\n",
              "REASONDESCRIPTION                     \n",
              "Hypertension                    129417\n",
              "Diabetes                         64750\n",
              "Childhood asthma                 47698\n",
              "Anemia (disorder)                28019\n",
              "Acute bronchitis (disorder)      26230"
            ]
          },
          "metadata": {
            "tags": []
          },
          "execution_count": 102
        }
      ]
    },
    {
      "cell_type": "markdown",
      "metadata": {
        "id": "IXFp9gN4emP6"
      },
      "source": [
        "**Hypertension,Diabetes ,Childhood asthma ,Anemia (disorder),Acute bronchitis (disorder)**\n",
        "\n",
        "---\n",
        "Patient encountering mostly with diabetes,kindey,hypertension,asthma issue which is very much frequent in human life and medical companies must focus on such product which might boost companies share and such medication is often to continue life long.\n",
        "\n",
        "---\n",
        "We have seen in covid-19 80% people who are suffering from such condition often seems struggling for immunity,which might be challenges for medical companies as well as for our doctors to find out the overall solution for such cases."
      ]
    },
    {
      "cell_type": "code",
      "metadata": {
        "id": "QXBMGRN7eFYL"
      },
      "source": [
        ""
      ],
      "execution_count": null,
      "outputs": []
    }
  ]
}