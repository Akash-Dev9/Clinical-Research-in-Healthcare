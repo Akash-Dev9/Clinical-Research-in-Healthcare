{
  "nbformat": 4,
  "nbformat_minor": 0,
  "metadata": {
    "colab": {
      "name": "EDA Encounter & condition.ipynb",
      "provenance": [],
      "collapsed_sections": []
    },
    "kernelspec": {
      "name": "python3",
      "display_name": "Python 3"
    },
    "language_info": {
      "name": "python"
    }
  },
  "cells": [
    {
      "cell_type": "code",
      "metadata": {
        "id": "igZva0a71fhr"
      },
      "source": [
        "import pandas as pd\n",
        "import numpy as np\n",
        "import matplotlib.pyplot as plt\n",
        "import seaborn as sns\n",
        "import warnings"
      ],
      "execution_count": null,
      "outputs": []
    },
    {
      "cell_type": "code",
      "metadata": {
        "id": "i1tiYMKi2F_f"
      },
      "source": [
        "encounters=pd.read_csv('/content/drive/MyDrive/datasets/encounters.csv')\n",
        "condition=pd.read_csv('/content/drive/MyDrive/datasets/conditions.csv')"
      ],
      "execution_count": null,
      "outputs": []
    },
    {
      "cell_type": "code",
      "metadata": {
        "colab": {
          "base_uri": "https://localhost:8080/"
        },
        "id": "e6w4CsuM46S2",
        "outputId": "872af932-4ff4-453b-aaad-d018916814bd"
      },
      "source": [
        "print('The Shape for encounters table:',encounters.shape)\n",
        "print('The Shape for condition table:',condition.shape)"
      ],
      "execution_count": null,
      "outputs": [
        {
          "output_type": "stream",
          "text": [
            "The Shape for encounters table: (1414254, 14)\n",
            "The Shape for condition table: (256007, 6)\n"
          ],
          "name": "stdout"
        }
      ]
    },
    {
      "cell_type": "code",
      "metadata": {
        "colab": {
          "base_uri": "https://localhost:8080/"
        },
        "id": "6xLE5GTg2lPz",
        "outputId": "1492ec41-b775-46d3-9eef-f6af7b465578"
      },
      "source": [
        "print('The Columns name for encounters:',encounters.columns)\n",
        "print('The Columns name for condition:',condition.columns)"
      ],
      "execution_count": null,
      "outputs": [
        {
          "output_type": "stream",
          "text": [
            "The Columns name for encounters: Index(['Id', 'START', 'STOP', 'PATIENT', 'PROVIDER', 'PAYER', 'ENCOUNTERCLASS',\n",
            "       'CODE', 'DESCRIPTION', 'BASE_ENCOUNTER_COST', 'TOTAL_CLAIM_COST',\n",
            "       'PAYER_COVERAGE', 'REASONCODE', 'REASONDESCRIPTION'],\n",
            "      dtype='object')\n",
            "The Columns name for condition: Index(['START', 'STOP', 'PATIENT', 'ENCOUNTER', 'CODE', 'DESCRIPTION'], dtype='object')\n"
          ],
          "name": "stdout"
        }
      ]
    },
    {
      "cell_type": "code",
      "metadata": {
        "id": "avXgfDxp3hdS"
      },
      "source": [
        "final_col=pd.merge(encounters,condition,how='outer')\n",
        "final_col1=final_col[['PATIENT','ENCOUNTERCLASS','DESCRIPTION','BASE_ENCOUNTER_COST','TOTAL_CLAIM_COST',\n",
        "                      'PAYER_COVERAGE','REASONDESCRIPTION','ENCOUNTER']]"
      ],
      "execution_count": null,
      "outputs": []
    },
    {
      "cell_type": "code",
      "metadata": {
        "colab": {
          "base_uri": "https://localhost:8080/",
          "height": 233
        },
        "id": "MIBCSCOP7EE6",
        "outputId": "4284e8cc-4f53-48bb-de7a-9d0956a27de9"
      },
      "source": [
        "final_col1.head(n=2)"
      ],
      "execution_count": null,
      "outputs": [
        {
          "output_type": "execute_result",
          "data": {
            "text/html": [
              "<div>\n",
              "<style scoped>\n",
              "    .dataframe tbody tr th:only-of-type {\n",
              "        vertical-align: middle;\n",
              "    }\n",
              "\n",
              "    .dataframe tbody tr th {\n",
              "        vertical-align: top;\n",
              "    }\n",
              "\n",
              "    .dataframe thead th {\n",
              "        text-align: right;\n",
              "    }\n",
              "</style>\n",
              "<table border=\"1\" class=\"dataframe\">\n",
              "  <thead>\n",
              "    <tr style=\"text-align: right;\">\n",
              "      <th></th>\n",
              "      <th>PATIENT</th>\n",
              "      <th>ENCOUNTERCLASS</th>\n",
              "      <th>DESCRIPTION</th>\n",
              "      <th>BASE_ENCOUNTER_COST</th>\n",
              "      <th>TOTAL_CLAIM_COST</th>\n",
              "      <th>PAYER_COVERAGE</th>\n",
              "      <th>REASONDESCRIPTION</th>\n",
              "      <th>ENCOUNTER</th>\n",
              "    </tr>\n",
              "  </thead>\n",
              "  <tbody>\n",
              "    <tr>\n",
              "      <th>0</th>\n",
              "      <td>2d0a9468-9cc7-47c6-a757-2944fb7a754d</td>\n",
              "      <td>wellness</td>\n",
              "      <td>Well child visit (procedure)</td>\n",
              "      <td>129.16</td>\n",
              "      <td>129.16</td>\n",
              "      <td>59.16</td>\n",
              "      <td>NaN</td>\n",
              "      <td>NaN</td>\n",
              "    </tr>\n",
              "    <tr>\n",
              "      <th>1</th>\n",
              "      <td>600960a6-6ed0-4bc3-8476-1143c592ea66</td>\n",
              "      <td>wellness</td>\n",
              "      <td>Well child visit (procedure)</td>\n",
              "      <td>129.16</td>\n",
              "      <td>129.16</td>\n",
              "      <td>74.16</td>\n",
              "      <td>NaN</td>\n",
              "      <td>NaN</td>\n",
              "    </tr>\n",
              "  </tbody>\n",
              "</table>\n",
              "</div>"
            ],
            "text/plain": [
              "                                PATIENT  ... ENCOUNTER\n",
              "0  2d0a9468-9cc7-47c6-a757-2944fb7a754d  ...       NaN\n",
              "1  600960a6-6ed0-4bc3-8476-1143c592ea66  ...       NaN\n",
              "\n",
              "[2 rows x 8 columns]"
            ]
          },
          "metadata": {
            "tags": []
          },
          "execution_count": 41
        }
      ]
    },
    {
      "cell_type": "code",
      "metadata": {
        "colab": {
          "base_uri": "https://localhost:8080/",
          "height": 450
        },
        "id": "9_J_1P3HAey9",
        "outputId": "d1ca6293-8d73-4f06-d4ae-43ac42b20f85"
      },
      "source": [
        "final_col1[['ENCOUNTER','DESCRIPTION']].groupby('DESCRIPTION').count().sort_values('ENCOUNTER',ascending=False)"
      ],
      "execution_count": null,
      "outputs": [
        {
          "output_type": "execute_result",
          "data": {
            "text/html": [
              "<div>\n",
              "<style scoped>\n",
              "    .dataframe tbody tr th:only-of-type {\n",
              "        vertical-align: middle;\n",
              "    }\n",
              "\n",
              "    .dataframe tbody tr th {\n",
              "        vertical-align: top;\n",
              "    }\n",
              "\n",
              "    .dataframe thead th {\n",
              "        text-align: right;\n",
              "    }\n",
              "</style>\n",
              "<table border=\"1\" class=\"dataframe\">\n",
              "  <thead>\n",
              "    <tr style=\"text-align: right;\">\n",
              "      <th></th>\n",
              "      <th>ENCOUNTER</th>\n",
              "    </tr>\n",
              "    <tr>\n",
              "      <th>DESCRIPTION</th>\n",
              "      <th></th>\n",
              "    </tr>\n",
              "  </thead>\n",
              "  <tbody>\n",
              "    <tr>\n",
              "      <th>Viral sinusitis (disorder)</th>\n",
              "      <td>53010</td>\n",
              "    </tr>\n",
              "    <tr>\n",
              "      <th>Acute viral pharyngitis (disorder)</th>\n",
              "      <td>31589</td>\n",
              "    </tr>\n",
              "    <tr>\n",
              "      <th>Normal pregnancy</th>\n",
              "      <td>26680</td>\n",
              "    </tr>\n",
              "    <tr>\n",
              "      <th>Acute bronchitis (disorder)</th>\n",
              "      <td>26230</td>\n",
              "    </tr>\n",
              "    <tr>\n",
              "      <th>Otitis media</th>\n",
              "      <td>14697</td>\n",
              "    </tr>\n",
              "    <tr>\n",
              "      <th>...</th>\n",
              "      <td>...</td>\n",
              "    </tr>\n",
              "    <tr>\n",
              "      <th>Emergency hospital admission for asthma</th>\n",
              "      <td>0</td>\n",
              "    </tr>\n",
              "    <tr>\n",
              "      <th>Emergency room admission (procedure)</th>\n",
              "      <td>0</td>\n",
              "    </tr>\n",
              "    <tr>\n",
              "      <th>Outpatient procedure</th>\n",
              "      <td>0</td>\n",
              "    </tr>\n",
              "    <tr>\n",
              "      <th>Encounter Inpatient</th>\n",
              "      <td>0</td>\n",
              "    </tr>\n",
              "    <tr>\n",
              "      <th>posttraumatic stress disorder</th>\n",
              "      <td>0</td>\n",
              "    </tr>\n",
              "  </tbody>\n",
              "</table>\n",
              "<p>207 rows × 1 columns</p>\n",
              "</div>"
            ],
            "text/plain": [
              "                                         ENCOUNTER\n",
              "DESCRIPTION                                       \n",
              "Viral sinusitis (disorder)                   53010\n",
              "Acute viral pharyngitis (disorder)           31589\n",
              "Normal pregnancy                             26680\n",
              "Acute bronchitis (disorder)                  26230\n",
              "Otitis media                                 14697\n",
              "...                                            ...\n",
              "Emergency hospital admission for asthma          0\n",
              "Emergency room admission (procedure)             0\n",
              "Outpatient procedure                             0\n",
              "Encounter Inpatient                              0\n",
              "posttraumatic stress disorder                    0\n",
              "\n",
              "[207 rows x 1 columns]"
            ]
          },
          "metadata": {
            "tags": []
          },
          "execution_count": 52
        }
      ]
    },
    {
      "cell_type": "markdown",
      "metadata": {
        "id": "uHG546xsCQfF"
      },
      "source": [
        ".1.   Viral sinusitis (disorder),Acute viral pharyngitis (disorder) are the two most commonly diagnosed disease between the patient.  \n",
        "\n",
        "---\n",
        "The main cause for Viral sinusitis is bacteria,fungi,intranasal allergies,deviated nasal septum.\n",
        "an inherited genetic disease where thick, sticky mucus builds up in the body.\n",
        "\n",
        "\n",
        "---\n",
        "\n",
        "The main cause for Viral pharyngitis is common cold and flu\n",
        "\n",
        "\n",
        "\n",
        "---\n",
        "This symptoms had been seen on every 8th person out of 10th which is the common cause for a patient to encounter with hospitals and Doctors\n"
      ]
    },
    {
      "cell_type": "code",
      "metadata": {
        "colab": {
          "base_uri": "https://localhost:8080/",
          "height": 450
        },
        "id": "UFnzvUsDD0qr",
        "outputId": "dc061b5b-07b5-472b-aea7-7e549f35e975"
      },
      "source": [
        "final_col1[['DESCRIPTION','PATIENT']].groupby('DESCRIPTION').count().sort_values('PATIENT',ascending=False)"
      ],
      "execution_count": null,
      "outputs": [
        {
          "output_type": "execute_result",
          "data": {
            "text/html": [
              "<div>\n",
              "<style scoped>\n",
              "    .dataframe tbody tr th:only-of-type {\n",
              "        vertical-align: middle;\n",
              "    }\n",
              "\n",
              "    .dataframe tbody tr th {\n",
              "        vertical-align: top;\n",
              "    }\n",
              "\n",
              "    .dataframe thead th {\n",
              "        text-align: right;\n",
              "    }\n",
              "</style>\n",
              "<table border=\"1\" class=\"dataframe\">\n",
              "  <thead>\n",
              "    <tr style=\"text-align: right;\">\n",
              "      <th></th>\n",
              "      <th>PATIENT</th>\n",
              "    </tr>\n",
              "    <tr>\n",
              "      <th>DESCRIPTION</th>\n",
              "      <th></th>\n",
              "    </tr>\n",
              "  </thead>\n",
              "  <tbody>\n",
              "    <tr>\n",
              "      <th>Well child visit (procedure)</th>\n",
              "      <td>281887</td>\n",
              "    </tr>\n",
              "    <tr>\n",
              "      <th>General examination of patient (procedure)</th>\n",
              "      <td>219550</td>\n",
              "    </tr>\n",
              "    <tr>\n",
              "      <th>Encounter for symptom</th>\n",
              "      <td>152777</td>\n",
              "    </tr>\n",
              "    <tr>\n",
              "      <th>Prenatal visit</th>\n",
              "      <td>149765</td>\n",
              "    </tr>\n",
              "    <tr>\n",
              "      <th>Encounter for problem (procedure)</th>\n",
              "      <td>68601</td>\n",
              "    </tr>\n",
              "    <tr>\n",
              "      <th>...</th>\n",
              "      <td>...</td>\n",
              "    </tr>\n",
              "    <tr>\n",
              "      <th>History of upper limb amputation (situation)</th>\n",
              "      <td>1</td>\n",
              "    </tr>\n",
              "    <tr>\n",
              "      <th>History of amputation of foot (situation)</th>\n",
              "      <td>1</td>\n",
              "    </tr>\n",
              "    <tr>\n",
              "      <th>Proteinuria due to type 2 diabetes mellitus (disorder)</th>\n",
              "      <td>1</td>\n",
              "    </tr>\n",
              "    <tr>\n",
              "      <th>Chronic kidney disease stage 3 (disorder)</th>\n",
              "      <td>1</td>\n",
              "    </tr>\n",
              "    <tr>\n",
              "      <th>Infection caused by Pseudomonas aeruginosa</th>\n",
              "      <td>1</td>\n",
              "    </tr>\n",
              "  </tbody>\n",
              "</table>\n",
              "<p>207 rows × 1 columns</p>\n",
              "</div>"
            ],
            "text/plain": [
              "                                                    PATIENT\n",
              "DESCRIPTION                                                \n",
              "Well child visit (procedure)                         281887\n",
              "General examination of patient (procedure)           219550\n",
              "Encounter for symptom                                152777\n",
              "Prenatal visit                                       149765\n",
              "Encounter for problem (procedure)                     68601\n",
              "...                                                     ...\n",
              "History of upper limb amputation (situation)              1\n",
              "History of amputation of foot (situation)                 1\n",
              "Proteinuria due to type 2 diabetes mellitus (di...        1\n",
              "Chronic kidney disease stage 3 (disorder)                 1\n",
              "Infection caused by Pseudomonas aeruginosa                1\n",
              "\n",
              "[207 rows x 1 columns]"
            ]
          },
          "metadata": {
            "tags": []
          },
          "execution_count": 55
        }
      ]
    },
    {
      "cell_type": "markdown",
      "metadata": {
        "id": "bj9wzVBlEUc7"
      },
      "source": [
        "Cases such as Well child visit ,General examination of patient ,Encounter for symptom,Prenatal visit are the most frequent reason to visit to the hospital\n",
        "\n",
        "---\n",
        "\n",
        "\n",
        "---\n",
        "\n",
        "\n",
        "\n"
      ]
    },
    {
      "cell_type": "code",
      "metadata": {
        "colab": {
          "base_uri": "https://localhost:8080/",
          "height": 450
        },
        "id": "n6R2WaTwEx0T",
        "outputId": "69b0d26f-fcfd-4d8a-90f8-cb94508aa56c"
      },
      "source": [
        "final_col1[['ENCOUNTER','PATIENT']].groupby('PATIENT').count().sort_values('ENCOUNTER',ascending=False)"
      ],
      "execution_count": null,
      "outputs": [
        {
          "output_type": "execute_result",
          "data": {
            "text/html": [
              "<div>\n",
              "<style scoped>\n",
              "    .dataframe tbody tr th:only-of-type {\n",
              "        vertical-align: middle;\n",
              "    }\n",
              "\n",
              "    .dataframe tbody tr th {\n",
              "        vertical-align: top;\n",
              "    }\n",
              "\n",
              "    .dataframe thead th {\n",
              "        text-align: right;\n",
              "    }\n",
              "</style>\n",
              "<table border=\"1\" class=\"dataframe\">\n",
              "  <thead>\n",
              "    <tr style=\"text-align: right;\">\n",
              "      <th></th>\n",
              "      <th>ENCOUNTER</th>\n",
              "    </tr>\n",
              "    <tr>\n",
              "      <th>PATIENT</th>\n",
              "      <th></th>\n",
              "    </tr>\n",
              "  </thead>\n",
              "  <tbody>\n",
              "    <tr>\n",
              "      <th>14f8e2fb-6ebf-4c24-b4e1-7b7ff0f66ec7</th>\n",
              "      <td>86</td>\n",
              "    </tr>\n",
              "    <tr>\n",
              "      <th>7295a209-6637-42db-acaa-6c2a4828747b</th>\n",
              "      <td>78</td>\n",
              "    </tr>\n",
              "    <tr>\n",
              "      <th>ac5be738-dc1a-4905-b71c-ccc9798e47c0</th>\n",
              "      <td>77</td>\n",
              "    </tr>\n",
              "    <tr>\n",
              "      <th>f07b8c6c-d21c-4883-aeea-315fb36029a8</th>\n",
              "      <td>77</td>\n",
              "    </tr>\n",
              "    <tr>\n",
              "      <th>f221f4d2-02d6-474f-a02d-aec6eea18867</th>\n",
              "      <td>77</td>\n",
              "    </tr>\n",
              "    <tr>\n",
              "      <th>...</th>\n",
              "      <td>...</td>\n",
              "    </tr>\n",
              "    <tr>\n",
              "      <th>0968c1be-5a5a-480c-84e5-3ea33c40aa0b</th>\n",
              "      <td>0</td>\n",
              "    </tr>\n",
              "    <tr>\n",
              "      <th>8b3a45ce-0eb3-471d-b922-181d0d149805</th>\n",
              "      <td>0</td>\n",
              "    </tr>\n",
              "    <tr>\n",
              "      <th>0f6253f4-b55b-4625-9942-6fe14b6a2e4b</th>\n",
              "      <td>0</td>\n",
              "    </tr>\n",
              "    <tr>\n",
              "      <th>b03d7d7b-66e6-4781-a21d-771c1bce0bac</th>\n",
              "      <td>0</td>\n",
              "    </tr>\n",
              "    <tr>\n",
              "      <th>0e04a17e-29a6-4bc2-95c0-6784e5fa4734</th>\n",
              "      <td>0</td>\n",
              "    </tr>\n",
              "  </tbody>\n",
              "</table>\n",
              "<p>11628 rows × 1 columns</p>\n",
              "</div>"
            ],
            "text/plain": [
              "                                      ENCOUNTER\n",
              "PATIENT                                        \n",
              "14f8e2fb-6ebf-4c24-b4e1-7b7ff0f66ec7         86\n",
              "7295a209-6637-42db-acaa-6c2a4828747b         78\n",
              "ac5be738-dc1a-4905-b71c-ccc9798e47c0         77\n",
              "f07b8c6c-d21c-4883-aeea-315fb36029a8         77\n",
              "f221f4d2-02d6-474f-a02d-aec6eea18867         77\n",
              "...                                         ...\n",
              "0968c1be-5a5a-480c-84e5-3ea33c40aa0b          0\n",
              "8b3a45ce-0eb3-471d-b922-181d0d149805          0\n",
              "0f6253f4-b55b-4625-9942-6fe14b6a2e4b          0\n",
              "b03d7d7b-66e6-4781-a21d-771c1bce0bac          0\n",
              "0e04a17e-29a6-4bc2-95c0-6784e5fa4734          0\n",
              "\n",
              "[11628 rows x 1 columns]"
            ]
          },
          "metadata": {
            "tags": []
          },
          "execution_count": 57
        }
      ]
    },
    {
      "cell_type": "markdown",
      "metadata": {
        "id": "Z6dvFf87FInt"
      },
      "source": [
        "1.   Patient have at the maximum around 86 occurences of condition diagnosed.\n",
        "2.   There are around 156 conditions in total that have been diagnosed amongst patient\n",
        "\n",
        "\n"
      ]
    },
    {
      "cell_type": "markdown",
      "metadata": {
        "id": "PY06kx1YPSMT"
      },
      "source": [
        "**Through EDA process we could figure out certain insights between condition and encounter table which give us rough idea about the patient and the symptoms for which they are been encountered**"
      ]
    },
    {
      "cell_type": "code",
      "metadata": {
        "id": "Xm4fiaBsQAoQ"
      },
      "source": [
        ""
      ],
      "execution_count": null,
      "outputs": []
    }
  ]
}