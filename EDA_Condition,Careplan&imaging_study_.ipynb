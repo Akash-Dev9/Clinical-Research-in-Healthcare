{
  "nbformat": 4,
  "nbformat_minor": 0,
  "metadata": {
    "colab": {
      "name": "EDA  Condition,Careplan&imaging_study .ipynb",
      "provenance": [],
      "collapsed_sections": []
    },
    "kernelspec": {
      "name": "python3",
      "display_name": "Python 3"
    },
    "language_info": {
      "name": "python"
    }
  },
  "cells": [
    {
      "cell_type": "code",
      "metadata": {
        "id": "UyLxscdDO-MT"
      },
      "source": [
        "import pandas as pd\n",
        "import numpy as np\n",
        "import matplotlib.pyplot as plt\n",
        "import seaborn as sns\n",
        "import warnings"
      ],
      "execution_count": null,
      "outputs": []
    },
    {
      "cell_type": "code",
      "metadata": {
        "id": "_hauxCePjSVy"
      },
      "source": [
        "condition=pd.read_csv('/content/drive/MyDrive/datasets/conditions.csv')\n",
        "care_plan=pd.read_csv('/content/drive/MyDrive/datasets/careplans.csv')\n",
        "imaging_studies=pd.read_csv('/content/drive/MyDrive/datasets/imaging_studies.csv')"
      ],
      "execution_count": null,
      "outputs": []
    },
    {
      "cell_type": "code",
      "metadata": {
        "colab": {
          "base_uri": "https://localhost:8080/"
        },
        "id": "sUgTRCPXPqVQ",
        "outputId": "2ea6efb8-eb57-4e53-da47-8b4ddd9f1b07"
      },
      "source": [
        "print('The shape of condition table:',condition.shape)\n",
        "print('The shape of care_plan table:',care_plan.shape)\n",
        "print('The shape of imaging_studies table:',imaging_studies.shape)"
      ],
      "execution_count": null,
      "outputs": [
        {
          "output_type": "stream",
          "text": [
            "The shape of condition table: (256007, 6)\n",
            "The shape of care_plan table: (101202, 9)\n",
            "The shape of imaging_studies table: (14602, 10)\n"
          ],
          "name": "stdout"
        }
      ]
    },
    {
      "cell_type": "code",
      "metadata": {
        "colab": {
          "base_uri": "https://localhost:8080/"
        },
        "id": "KpDcwucIPqe5",
        "outputId": "1f986682-9220-45f3-a6d1-0464de45a7c8"
      },
      "source": [
        "print('The name of condition table columns:',condition.columns)\n",
        "print('The name of care_plan columns:',care_plan.columns)\n",
        "print('The name of imaging_studies columns:',imaging_studies.columns)"
      ],
      "execution_count": null,
      "outputs": [
        {
          "output_type": "stream",
          "text": [
            "The name of condition table columns: Index(['START', 'STOP', 'PATIENT', 'ENCOUNTER', 'CODE', 'DESCRIPTION'], dtype='object')\n",
            "The name of care_plan columns: Index(['Id', 'START', 'STOP', 'PATIENT', 'ENCOUNTER', 'CODE', 'DESCRIPTION',\n",
            "       'REASONCODE', 'REASONDESCRIPTION'],\n",
            "      dtype='object')\n",
            "The name of imaging_studies columns: Index(['Id', 'DATE', 'PATIENT', 'ENCOUNTER', 'BODYSITE_CODE',\n",
            "       'BODYSITE_DESCRIPTION', 'MODALITY_CODE', 'MODALITY_DESCRIPTION',\n",
            "       'SOP_CODE', 'SOP_DESCRIPTION'],\n",
            "      dtype='object')\n"
          ],
          "name": "stdout"
        }
      ]
    },
    {
      "cell_type": "code",
      "metadata": {
        "id": "HitReMr9kpvl"
      },
      "source": [
        "condition1=condition.rename(columns={'DESCRIPTION':'REASONDESCRIPTION'})\n",
        "#renaming because description consist simialr meaning in condition & careplan table "
      ],
      "execution_count": null,
      "outputs": []
    },
    {
      "cell_type": "code",
      "metadata": {
        "id": "oMWYpy6tmVYQ"
      },
      "source": [
        "new_df=pd.merge(care_plan,pd.merge(condition1,imaging_studies,how='outer'),how='outer')"
      ],
      "execution_count": null,
      "outputs": []
    },
    {
      "cell_type": "code",
      "metadata": {
        "colab": {
          "base_uri": "https://localhost:8080/"
        },
        "id": "_p_xPs2DnNwq",
        "outputId": "73921793-b64c-4455-916d-02ff274b3861"
      },
      "source": [
        "print('Final data frame shape',new_df.shape)\n",
        "print('Columns',new_df.columns)\n"
      ],
      "execution_count": null,
      "outputs": [
        {
          "output_type": "stream",
          "text": [
            "Final data frame shape (362554, 16)\n",
            "Columns Index(['Id', 'START', 'STOP', 'PATIENT', 'ENCOUNTER', 'CODE', 'DESCRIPTION',\n",
            "       'REASONCODE', 'REASONDESCRIPTION', 'DATE', 'BODYSITE_CODE',\n",
            "       'BODYSITE_DESCRIPTION', 'MODALITY_CODE', 'MODALITY_DESCRIPTION',\n",
            "       'SOP_CODE', 'SOP_DESCRIPTION'],\n",
            "      dtype='object')\n"
          ],
          "name": "stdout"
        }
      ]
    },
    {
      "cell_type": "code",
      "metadata": {
        "id": "aLOqQk7Wnnc_"
      },
      "source": [
        "##select the needed columns for EDA process\n",
        "final_df1=new_df[['ENCOUNTER','DESCRIPTION','REASONDESCRIPTION','BODYSITE_DESCRIPTION','MODALITY_DESCRIPTION','SOP_DESCRIPTION']]"
      ],
      "execution_count": null,
      "outputs": []
    },
    {
      "cell_type": "code",
      "metadata": {
        "colab": {
          "base_uri": "https://localhost:8080/",
          "height": 49
        },
        "id": "aLcFK6JZBI9q",
        "outputId": "abcd80d2-1bee-40f2-c441-4dc2f92d34dd"
      },
      "source": [
        "final_df1.dropna()"
      ],
      "execution_count": null,
      "outputs": [
        {
          "output_type": "execute_result",
          "data": {
            "text/html": [
              "<div>\n",
              "<style scoped>\n",
              "    .dataframe tbody tr th:only-of-type {\n",
              "        vertical-align: middle;\n",
              "    }\n",
              "\n",
              "    .dataframe tbody tr th {\n",
              "        vertical-align: top;\n",
              "    }\n",
              "\n",
              "    .dataframe thead th {\n",
              "        text-align: right;\n",
              "    }\n",
              "</style>\n",
              "<table border=\"1\" class=\"dataframe\">\n",
              "  <thead>\n",
              "    <tr style=\"text-align: right;\">\n",
              "      <th></th>\n",
              "      <th>ENCOUNTER</th>\n",
              "      <th>DESCRIPTION</th>\n",
              "      <th>REASONDESCRIPTION</th>\n",
              "      <th>BODYSITE_DESCRIPTION</th>\n",
              "      <th>MODALITY_DESCRIPTION</th>\n",
              "      <th>SOP_DESCRIPTION</th>\n",
              "    </tr>\n",
              "  </thead>\n",
              "  <tbody>\n",
              "  </tbody>\n",
              "</table>\n",
              "</div>"
            ],
            "text/plain": [
              "Empty DataFrame\n",
              "Columns: [ENCOUNTER, DESCRIPTION, REASONDESCRIPTION, BODYSITE_DESCRIPTION, MODALITY_DESCRIPTION, SOP_DESCRIPTION]\n",
              "Index: []"
            ]
          },
          "metadata": {
            "tags": []
          },
          "execution_count": 54
        }
      ]
    },
    {
      "cell_type": "code",
      "metadata": {
        "colab": {
          "base_uri": "https://localhost:8080/",
          "height": 450
        },
        "id": "zT1HOEG0pRcR",
        "outputId": "63672ccf-403c-4d7c-835b-cb24f9d57a40"
      },
      "source": [
        "patient_care_plan=final_df1.groupby(['REASONDESCRIPTION','DESCRIPTION']).count()\n",
        "patient_care_plan.iloc[:,0:1]"
      ],
      "execution_count": null,
      "outputs": [
        {
          "output_type": "execute_result",
          "data": {
            "text/html": [
              "<div>\n",
              "<style scoped>\n",
              "    .dataframe tbody tr th:only-of-type {\n",
              "        vertical-align: middle;\n",
              "    }\n",
              "\n",
              "    .dataframe tbody tr th {\n",
              "        vertical-align: top;\n",
              "    }\n",
              "\n",
              "    .dataframe thead th {\n",
              "        text-align: right;\n",
              "    }\n",
              "</style>\n",
              "<table border=\"1\" class=\"dataframe\">\n",
              "  <thead>\n",
              "    <tr style=\"text-align: right;\">\n",
              "      <th></th>\n",
              "      <th></th>\n",
              "      <th>ENCOUNTER</th>\n",
              "    </tr>\n",
              "    <tr>\n",
              "      <th>REASONDESCRIPTION</th>\n",
              "      <th>DESCRIPTION</th>\n",
              "      <th></th>\n",
              "    </tr>\n",
              "  </thead>\n",
              "  <tbody>\n",
              "    <tr>\n",
              "      <th>Acute bronchitis (disorder)</th>\n",
              "      <th>Respiratory therapy</th>\n",
              "      <td>26230</td>\n",
              "    </tr>\n",
              "    <tr>\n",
              "      <th>Alzheimer's disease (disorder)</th>\n",
              "      <th>Demential management</th>\n",
              "      <td>302</td>\n",
              "    </tr>\n",
              "    <tr>\n",
              "      <th>Asthma</th>\n",
              "      <th>Asthma self management</th>\n",
              "      <td>10</td>\n",
              "    </tr>\n",
              "    <tr>\n",
              "      <th>At risk for suicide (finding)</th>\n",
              "      <th>Inpatient care plan (record artifact)</th>\n",
              "      <td>3</td>\n",
              "    </tr>\n",
              "    <tr>\n",
              "      <th>Atopic dermatitis</th>\n",
              "      <th>Skin condition care</th>\n",
              "      <td>316</td>\n",
              "    </tr>\n",
              "    <tr>\n",
              "      <th>...</th>\n",
              "      <th>...</th>\n",
              "      <td>...</td>\n",
              "    </tr>\n",
              "    <tr>\n",
              "      <th>Sprain of wrist</th>\n",
              "      <th>Physical therapy procedure</th>\n",
              "      <td>2581</td>\n",
              "    </tr>\n",
              "    <tr>\n",
              "      <th>Suicidal deliberate poisoning</th>\n",
              "      <th>Anti-suicide psychotherapy</th>\n",
              "      <td>4</td>\n",
              "    </tr>\n",
              "    <tr>\n",
              "      <th>Tear of meniscus of knee</th>\n",
              "      <th>Physical therapy procedure</th>\n",
              "      <td>220</td>\n",
              "    </tr>\n",
              "    <tr>\n",
              "      <th>Third degree burn</th>\n",
              "      <th>Burn care</th>\n",
              "      <td>66</td>\n",
              "    </tr>\n",
              "    <tr>\n",
              "      <th>Whiplash injury to neck</th>\n",
              "      <th>Musculoskeletal care</th>\n",
              "      <td>2369</td>\n",
              "    </tr>\n",
              "  </tbody>\n",
              "</table>\n",
              "<p>78 rows × 1 columns</p>\n",
              "</div>"
            ],
            "text/plain": [
              "                                                                      ENCOUNTER\n",
              "REASONDESCRIPTION              DESCRIPTION                                     \n",
              "Acute bronchitis (disorder)    Respiratory therapy                        26230\n",
              "Alzheimer's disease (disorder) Demential management                         302\n",
              "Asthma                         Asthma self management                        10\n",
              "At risk for suicide (finding)  Inpatient care plan (record artifact)          3\n",
              "Atopic dermatitis              Skin condition care                          316\n",
              "...                                                                         ...\n",
              "Sprain of wrist                Physical therapy procedure                  2581\n",
              "Suicidal deliberate poisoning  Anti-suicide psychotherapy                     4\n",
              "Tear of meniscus of knee       Physical therapy procedure                   220\n",
              "Third degree burn              Burn care                                     66\n",
              "Whiplash injury to neck        Musculoskeletal care                        2369\n",
              "\n",
              "[78 rows x 1 columns]"
            ]
          },
          "metadata": {
            "tags": []
          },
          "execution_count": 55
        }
      ]
    },
    {
      "cell_type": "markdown",
      "metadata": {
        "id": "xIiY46AOrYu-"
      },
      "source": [
        "**Careplan for various Disease**"
      ]
    },
    {
      "cell_type": "code",
      "metadata": {
        "colab": {
          "base_uri": "https://localhost:8080/",
          "height": 824
        },
        "id": "G44RcOTgTVHu",
        "outputId": "d6e5f745-cd79-4274-850d-83aa24a0b28b"
      },
      "source": [
        "patient_care_plan1=final_df1.groupby(['REASONDESCRIPTION','BODYSITE_DESCRIPTION']).count()\\\n",
        ".sort_values('ENCOUNTER',ascending=False)\n",
        "patient_care_plan1.iloc[:,0:1]"
      ],
      "execution_count": null,
      "outputs": [
        {
          "output_type": "execute_result",
          "data": {
            "text/html": [
              "<div>\n",
              "<style scoped>\n",
              "    .dataframe tbody tr th:only-of-type {\n",
              "        vertical-align: middle;\n",
              "    }\n",
              "\n",
              "    .dataframe tbody tr th {\n",
              "        vertical-align: top;\n",
              "    }\n",
              "\n",
              "    .dataframe thead th {\n",
              "        text-align: right;\n",
              "    }\n",
              "</style>\n",
              "<table border=\"1\" class=\"dataframe\">\n",
              "  <thead>\n",
              "    <tr style=\"text-align: right;\">\n",
              "      <th></th>\n",
              "      <th></th>\n",
              "      <th>ENCOUNTER</th>\n",
              "    </tr>\n",
              "    <tr>\n",
              "      <th>REASONDESCRIPTION</th>\n",
              "      <th>BODYSITE_DESCRIPTION</th>\n",
              "      <th></th>\n",
              "    </tr>\n",
              "  </thead>\n",
              "  <tbody>\n",
              "    <tr>\n",
              "      <th>Fracture of forearm</th>\n",
              "      <th>Arm</th>\n",
              "      <td>1898</td>\n",
              "    </tr>\n",
              "    <tr>\n",
              "      <th>Fracture of clavicle</th>\n",
              "      <th>Clavicle</th>\n",
              "      <td>1753</td>\n",
              "    </tr>\n",
              "    <tr>\n",
              "      <th>Fracture of ankle</th>\n",
              "      <th>Ankle</th>\n",
              "      <td>1579</td>\n",
              "    </tr>\n",
              "    <tr>\n",
              "      <th>Fracture subluxation of wrist</th>\n",
              "      <th>Wrist</th>\n",
              "      <td>1539</td>\n",
              "    </tr>\n",
              "    <tr>\n",
              "      <th>Fracture of rib</th>\n",
              "      <th>Chest</th>\n",
              "      <td>750</td>\n",
              "    </tr>\n",
              "    <tr>\n",
              "      <th>Closed fracture of hip</th>\n",
              "      <th>Pelvis</th>\n",
              "      <td>454</td>\n",
              "    </tr>\n",
              "    <tr>\n",
              "      <th>Injury of medial collateral ligament of knee</th>\n",
              "      <th>Knee</th>\n",
              "      <td>416</td>\n",
              "    </tr>\n",
              "    <tr>\n",
              "      <th>Rupture of patellar tendon</th>\n",
              "      <th>Knee</th>\n",
              "      <td>317</td>\n",
              "    </tr>\n",
              "    <tr>\n",
              "      <th>Injury of anterior cruciate ligament</th>\n",
              "      <th>Knee</th>\n",
              "      <td>264</td>\n",
              "    </tr>\n",
              "    <tr>\n",
              "      <th>Tear of meniscus of knee</th>\n",
              "      <th>Knee</th>\n",
              "      <td>220</td>\n",
              "    </tr>\n",
              "    <tr>\n",
              "      <th rowspan=\"2\" valign=\"top\">Pathological fracture due to osteoporosis (disorder)</th>\n",
              "      <th>Arm</th>\n",
              "      <td>147</td>\n",
              "    </tr>\n",
              "    <tr>\n",
              "      <th>Pelvis</th>\n",
              "      <td>91</td>\n",
              "    </tr>\n",
              "    <tr>\n",
              "      <th>Acute Cholecystitis</th>\n",
              "      <th>Structure of right upper quadrant of abdomen</th>\n",
              "      <td>66</td>\n",
              "    </tr>\n",
              "    <tr>\n",
              "      <th>Cholelithiasis</th>\n",
              "      <th>Structure of right upper quadrant of abdomen</th>\n",
              "      <td>66</td>\n",
              "    </tr>\n",
              "    <tr>\n",
              "      <th rowspan=\"4\" valign=\"top\">Pathological fracture due to osteoporosis (disorder)</th>\n",
              "      <th>Clavicle</th>\n",
              "      <td>36</td>\n",
              "    </tr>\n",
              "    <tr>\n",
              "      <th>Wrist</th>\n",
              "      <td>30</td>\n",
              "    </tr>\n",
              "    <tr>\n",
              "      <th>Ankle</th>\n",
              "      <td>27</td>\n",
              "    </tr>\n",
              "    <tr>\n",
              "      <th>Chest</th>\n",
              "      <td>19</td>\n",
              "    </tr>\n",
              "    <tr>\n",
              "      <th rowspan=\"5\" valign=\"top\">Osteoporosis (disorder)</th>\n",
              "      <th>Pelvis</th>\n",
              "      <td>2</td>\n",
              "    </tr>\n",
              "    <tr>\n",
              "      <th>Wrist</th>\n",
              "      <td>2</td>\n",
              "    </tr>\n",
              "    <tr>\n",
              "      <th>Arm</th>\n",
              "      <td>2</td>\n",
              "    </tr>\n",
              "    <tr>\n",
              "      <th>Clavicle</th>\n",
              "      <td>2</td>\n",
              "    </tr>\n",
              "    <tr>\n",
              "      <th>Thoracic structure (body structure)</th>\n",
              "      <td>1</td>\n",
              "    </tr>\n",
              "    <tr>\n",
              "      <th>Anemia (disorder)</th>\n",
              "      <th>Arm</th>\n",
              "      <td>1</td>\n",
              "    </tr>\n",
              "  </tbody>\n",
              "</table>\n",
              "</div>"
            ],
            "text/plain": [
              "                                                                                                 ENCOUNTER\n",
              "REASONDESCRIPTION                                  BODYSITE_DESCRIPTION                                   \n",
              "Fracture of forearm                                Arm                                                1898\n",
              "Fracture of clavicle                               Clavicle                                           1753\n",
              "Fracture of ankle                                  Ankle                                              1579\n",
              "Fracture subluxation of wrist                      Wrist                                              1539\n",
              "Fracture of rib                                    Chest                                               750\n",
              "Closed fracture of hip                             Pelvis                                              454\n",
              "Injury of medial collateral ligament of knee       Knee                                                416\n",
              "Rupture of patellar tendon                         Knee                                                317\n",
              "Injury of anterior cruciate ligament               Knee                                                264\n",
              "Tear of meniscus of knee                           Knee                                                220\n",
              "Pathological fracture due to osteoporosis (diso... Arm                                                 147\n",
              "                                                   Pelvis                                               91\n",
              "Acute Cholecystitis                                Structure of right upper quadrant of abdomen         66\n",
              "Cholelithiasis                                     Structure of right upper quadrant of abdomen         66\n",
              "Pathological fracture due to osteoporosis (diso... Clavicle                                             36\n",
              "                                                   Wrist                                                30\n",
              "                                                   Ankle                                                27\n",
              "                                                   Chest                                                19\n",
              "Osteoporosis (disorder)                            Pelvis                                                2\n",
              "                                                   Wrist                                                 2\n",
              "                                                   Arm                                                   2\n",
              "                                                   Clavicle                                              2\n",
              "                                                   Thoracic structure (body structure)                   1\n",
              "Anemia (disorder)                                  Arm                                                   1"
            ]
          },
          "metadata": {
            "tags": []
          },
          "execution_count": 56
        }
      ]
    },
    {
      "cell_type": "markdown",
      "metadata": {
        "id": "Qs88VP6iCLqz"
      },
      "source": [
        "**In the above slide we can see connection between disease and the relation between the disease and human body part,for which patients are encountering with the hospital and the speciality of Doctors.**"
      ]
    },
    {
      "cell_type": "markdown",
      "metadata": {
        "id": "Ad_Q8biEETJn"
      },
      "source": [
        "NOTE:THROUGH THIS EDA PROCESS WE CAN CAN MAKE SUCH APP WHERE PATIENT CAN UNDERSTAND ABOUT THERE PROBLEM IN MORE DETAILS SO THAT THEY HELP THEMSELVES AND TAKE PROPER PRECAUTIONS RATHER THAN ENCOUNTERING WITH THE DOCTORS MORE OFTEN WE CAN HELP AND CONTRIBUTE THIS TO THE GOVERNMENT TO AVOID MASS GATHERING IN SUCH PENDAMIC IF ARISE EVER IN FUTURE"
      ]
    },
    {
      "cell_type": "code",
      "metadata": {
        "colab": {
          "base_uri": "https://localhost:8080/",
          "height": 576
        },
        "id": "9oa5cWNAECqu",
        "outputId": "51c7f3e9-dbbb-413e-8f73-0fc16a5baed8"
      },
      "source": [
        "report_analysis_info=final_df1.groupby(['REASONDESCRIPTION','MODALITY_DESCRIPTION','SOP_DESCRIPTION']).count()\\\n",
        ".sort_values('ENCOUNTER',ascending=False)\n",
        "report_analysis_info.iloc[:,0:1]"
      ],
      "execution_count": null,
      "outputs": [
        {
          "output_type": "execute_result",
          "data": {
            "text/html": [
              "<div>\n",
              "<style scoped>\n",
              "    .dataframe tbody tr th:only-of-type {\n",
              "        vertical-align: middle;\n",
              "    }\n",
              "\n",
              "    .dataframe tbody tr th {\n",
              "        vertical-align: top;\n",
              "    }\n",
              "\n",
              "    .dataframe thead th {\n",
              "        text-align: right;\n",
              "    }\n",
              "</style>\n",
              "<table border=\"1\" class=\"dataframe\">\n",
              "  <thead>\n",
              "    <tr style=\"text-align: right;\">\n",
              "      <th></th>\n",
              "      <th></th>\n",
              "      <th></th>\n",
              "      <th>ENCOUNTER</th>\n",
              "    </tr>\n",
              "    <tr>\n",
              "      <th>REASONDESCRIPTION</th>\n",
              "      <th>MODALITY_DESCRIPTION</th>\n",
              "      <th>SOP_DESCRIPTION</th>\n",
              "      <th></th>\n",
              "    </tr>\n",
              "  </thead>\n",
              "  <tbody>\n",
              "    <tr>\n",
              "      <th>Fracture of forearm</th>\n",
              "      <th>Digital Radiography</th>\n",
              "      <th>Digital X-Ray Image Storage</th>\n",
              "      <td>1898</td>\n",
              "    </tr>\n",
              "    <tr>\n",
              "      <th>Fracture of clavicle</th>\n",
              "      <th>Digital Radiography</th>\n",
              "      <th>Digital X-Ray Image Storage</th>\n",
              "      <td>1753</td>\n",
              "    </tr>\n",
              "    <tr>\n",
              "      <th>Fracture of ankle</th>\n",
              "      <th>Digital Radiography</th>\n",
              "      <th>Digital X-Ray Image Storage</th>\n",
              "      <td>1579</td>\n",
              "    </tr>\n",
              "    <tr>\n",
              "      <th>Fracture subluxation of wrist</th>\n",
              "      <th>Digital Radiography</th>\n",
              "      <th>Digital X-Ray Image Storage</th>\n",
              "      <td>1539</td>\n",
              "    </tr>\n",
              "    <tr>\n",
              "      <th>Fracture of rib</th>\n",
              "      <th>Digital Radiography</th>\n",
              "      <th>Digital X-Ray Image Storage</th>\n",
              "      <td>750</td>\n",
              "    </tr>\n",
              "    <tr>\n",
              "      <th>Closed fracture of hip</th>\n",
              "      <th>Digital Radiography</th>\n",
              "      <th>Digital X-Ray Image Storage</th>\n",
              "      <td>454</td>\n",
              "    </tr>\n",
              "    <tr>\n",
              "      <th>Injury of medial collateral ligament of knee</th>\n",
              "      <th>Digital Radiography</th>\n",
              "      <th>Digital X-Ray Image Storage</th>\n",
              "      <td>416</td>\n",
              "    </tr>\n",
              "    <tr>\n",
              "      <th>Pathological fracture due to osteoporosis (disorder)</th>\n",
              "      <th>Digital Radiography</th>\n",
              "      <th>Digital X-Ray Image Storage</th>\n",
              "      <td>350</td>\n",
              "    </tr>\n",
              "    <tr>\n",
              "      <th>Rupture of patellar tendon</th>\n",
              "      <th>Digital Radiography</th>\n",
              "      <th>Digital X-Ray Image Storage</th>\n",
              "      <td>317</td>\n",
              "    </tr>\n",
              "    <tr>\n",
              "      <th>Injury of anterior cruciate ligament</th>\n",
              "      <th>Digital Radiography</th>\n",
              "      <th>Digital X-Ray Image Storage</th>\n",
              "      <td>264</td>\n",
              "    </tr>\n",
              "    <tr>\n",
              "      <th>Tear of meniscus of knee</th>\n",
              "      <th>Digital Radiography</th>\n",
              "      <th>Digital X-Ray Image Storage</th>\n",
              "      <td>220</td>\n",
              "    </tr>\n",
              "    <tr>\n",
              "      <th>Acute Cholecystitis</th>\n",
              "      <th>Ultrasound</th>\n",
              "      <th>Ultrasound Image Storage</th>\n",
              "      <td>66</td>\n",
              "    </tr>\n",
              "    <tr>\n",
              "      <th>Cholelithiasis</th>\n",
              "      <th>Ultrasound</th>\n",
              "      <th>Ultrasound Image Storage</th>\n",
              "      <td>66</td>\n",
              "    </tr>\n",
              "    <tr>\n",
              "      <th>Osteoporosis (disorder)</th>\n",
              "      <th>Digital Radiography</th>\n",
              "      <th>Digital X-Ray Image Storage</th>\n",
              "      <td>8</td>\n",
              "    </tr>\n",
              "    <tr>\n",
              "      <th>Anemia (disorder)</th>\n",
              "      <th>Digital Radiography</th>\n",
              "      <th>Digital X-Ray Image Storage</th>\n",
              "      <td>1</td>\n",
              "    </tr>\n",
              "    <tr>\n",
              "      <th>Osteoporosis (disorder)</th>\n",
              "      <th>Computed Tomography</th>\n",
              "      <th>CT Image Storage</th>\n",
              "      <td>1</td>\n",
              "    </tr>\n",
              "  </tbody>\n",
              "</table>\n",
              "</div>"
            ],
            "text/plain": [
              "                                                                                                     ENCOUNTER\n",
              "REASONDESCRIPTION                                  MODALITY_DESCRIPTION SOP_DESCRIPTION                       \n",
              "Fracture of forearm                                Digital Radiography  Digital X-Ray Image Storage       1898\n",
              "Fracture of clavicle                               Digital Radiography  Digital X-Ray Image Storage       1753\n",
              "Fracture of ankle                                  Digital Radiography  Digital X-Ray Image Storage       1579\n",
              "Fracture subluxation of wrist                      Digital Radiography  Digital X-Ray Image Storage       1539\n",
              "Fracture of rib                                    Digital Radiography  Digital X-Ray Image Storage        750\n",
              "Closed fracture of hip                             Digital Radiography  Digital X-Ray Image Storage        454\n",
              "Injury of medial collateral ligament of knee       Digital Radiography  Digital X-Ray Image Storage        416\n",
              "Pathological fracture due to osteoporosis (diso... Digital Radiography  Digital X-Ray Image Storage        350\n",
              "Rupture of patellar tendon                         Digital Radiography  Digital X-Ray Image Storage        317\n",
              "Injury of anterior cruciate ligament               Digital Radiography  Digital X-Ray Image Storage        264\n",
              "Tear of meniscus of knee                           Digital Radiography  Digital X-Ray Image Storage        220\n",
              "Acute Cholecystitis                                Ultrasound           Ultrasound Image Storage            66\n",
              "Cholelithiasis                                     Ultrasound           Ultrasound Image Storage            66\n",
              "Osteoporosis (disorder)                            Digital Radiography  Digital X-Ray Image Storage          8\n",
              "Anemia (disorder)                                  Digital Radiography  Digital X-Ray Image Storage          1\n",
              "Osteoporosis (disorder)                            Computed Tomography  CT Image Storage                     1"
            ]
          },
          "metadata": {
            "tags": []
          },
          "execution_count": 57
        }
      ]
    },
    {
      "cell_type": "markdown",
      "metadata": {
        "id": "IqosjcicJ7sb"
      },
      "source": [
        "Medical Reports for particular condition which can be diagnosed by Standard operating procedure(SOP) Description."
      ]
    }
  ]
}