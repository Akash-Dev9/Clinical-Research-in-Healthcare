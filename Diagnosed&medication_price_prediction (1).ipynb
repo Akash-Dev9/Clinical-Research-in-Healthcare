{
  "nbformat": 4,
  "nbformat_minor": 0,
  "metadata": {
    "colab": {
      "name": "Diagnosed&medication price prediction.ipynb",
      "provenance": [],
      "collapsed_sections": []
    },
    "kernelspec": {
      "display_name": "Python 3",
      "name": "python3"
    },
    "language_info": {
      "name": "python"
    }
  },
  "cells": [
    {
      "cell_type": "code",
      "metadata": {
        "id": "DaHJ7B2DIDUK"
      },
      "source": [
        "import pandas as pd\n",
        "import numpy as np\n",
        "import random \n",
        "import warnings\n",
        "import matplotlib.pyplot as plt\n",
        "import seaborn as sns\n",
        "from sklearn.model_selection import cross_val_score,KFold\n",
        "from sklearn.tree import DecisionTreeClassifier\n",
        "from sklearn.svm import SVC\n",
        "from sklearn.neighbors import KNeighborsClassifier\n",
        "from sklearn.ensemble import RandomForestClassifier\n",
        "from sklearn.model_selection import train_test_split\n",
        "from sklearn.feature_selection import chi2"
      ],
      "execution_count": null,
      "outputs": []
    },
    {
      "cell_type": "code",
      "metadata": {
        "id": "Mu51Zt6xIRs0"
      },
      "source": [
        "patients=pd.read_csv('/content/drive/MyDrive/datasets/patients.csv',header=0)\n",
        "condition=pd.read_csv('/content/drive/MyDrive/datasets/conditions.csv',header=0)\n",
        "encounters=pd.read_csv('/content/drive/MyDrive/datasets/encounters.csv',header=0)"
      ],
      "execution_count": null,
      "outputs": []
    },
    {
      "cell_type": "code",
      "metadata": {
        "colab": {
          "base_uri": "https://localhost:8080/"
        },
        "id": "T0HiREF6JPfv",
        "outputId": "6eb16d46-93c2-458c-b9cc-9fc0cc009e53"
      },
      "source": [
        "print('The shape of the patients table:',patients.shape)\n",
        "print('The shape of the condition table:',condition.shape)\n",
        "print('The shape of the encounters table:',encounters.shape)"
      ],
      "execution_count": null,
      "outputs": [
        {
          "output_type": "stream",
          "text": [
            "The shape of the patients table: (11628, 25)\n",
            "The shape of the condition table: (256007, 6)\n",
            "The shape of the encounters table: (1414254, 14)\n"
          ],
          "name": "stdout"
        }
      ]
    },
    {
      "cell_type": "code",
      "metadata": {
        "colab": {
          "base_uri": "https://localhost:8080/"
        },
        "id": "qyCYXuKCJTkR",
        "outputId": "40cc62c6-728e-40bc-a2ad-8a63f68bd33b"
      },
      "source": [
        "print('The name of the patients columns:',patients.columns)\n",
        "print('The name of the condition columns:',condition.columns)\n",
        "print('The name of the encounters columns:',encounters.columns)"
      ],
      "execution_count": null,
      "outputs": [
        {
          "output_type": "stream",
          "text": [
            "The name of the patients columns: Index(['Id', 'BIRTHDATE', 'DEATHDATE', 'SSN', 'DRIVERS', 'PASSPORT', 'PREFIX',\n",
            "       'FIRST', 'LAST', 'SUFFIX', 'MAIDEN', 'MARITAL', 'RACE', 'ETHNICITY',\n",
            "       'GENDER', 'BIRTHPLACE', 'ADDRESS', 'CITY', 'STATE', 'COUNTY', 'ZIP',\n",
            "       'LAT', 'LON', 'HEALTHCARE_EXPENSES', 'HEALTHCARE_COVERAGE'],\n",
            "      dtype='object')\n",
            "The name of the condition columns: Index(['START', 'STOP', 'PATIENT', 'ENCOUNTER', 'CODE', 'DESCRIPTION'], dtype='object')\n",
            "The name of the encounters columns: Index(['Id', 'START', 'STOP', 'PATIENT', 'PROVIDER', 'PAYER', 'ENCOUNTERCLASS',\n",
            "       'CODE', 'DESCRIPTION', 'BASE_ENCOUNTER_COST', 'TOTAL_CLAIM_COST',\n",
            "       'PAYER_COVERAGE', 'REASONCODE', 'REASONDESCRIPTION'],\n",
            "      dtype='object')\n"
          ],
          "name": "stdout"
        }
      ]
    },
    {
      "cell_type": "code",
      "metadata": {
        "colab": {
          "base_uri": "https://localhost:8080/"
        },
        "id": "r6LCyPwQJY__",
        "outputId": "e24e3c0c-6cae-4ffd-f866-aefd4a02feb5"
      },
      "source": [
        "#The arguments for timedelta64 are a number, to represent the number of units, and a date/time unit, such as (D)ay, (M)onth, (Y)ear, (h)ours, (m) .\n",
        "def get_age(x):\n",
        "  age_deceased=(x['DEATHDATE']- x['BIRTHDATE'])/np.timedelta64(1,'Y')\n",
        "  age_nondeceased=(pd.datetime.now()- x['BIRTHDATE'])/np.timedelta64(1,'Y')\n",
        "  age=age_nondeceased if np.isnan(age_deceased) else age_deceased\n",
        "  return age\n",
        "\n",
        "patients['BIRTHDATE']=pd.to_datetime(patients['BIRTHDATE'])\n",
        "patients['DEATHDATE']=pd.to_datetime(patients['BIRTHDATE'])\n",
        "patients['AGE']=patients.apply(lambda x: get_age(x),axis=1)"
      ],
      "execution_count": null,
      "outputs": [
        {
          "output_type": "stream",
          "text": [
            "/usr/local/lib/python3.7/dist-packages/ipykernel_launcher.py:4: FutureWarning: The pandas.datetime class is deprecated and will be removed from pandas in a future version. Import from datetime module instead.\n",
            "  after removing the cwd from sys.path.\n"
          ],
          "name": "stderr"
        }
      ]
    },
    {
      "cell_type": "code",
      "metadata": {
        "id": "7evm09JRJZOl"
      },
      "source": [
        "def get_dummy(df,columns,prefix):\n",
        "  df_dummy=pd.get_dummies(df[columns]) #this function will help us to create a dummy variable with prefix object\n",
        "  df_dummy.columns=[prefix +'_'+ x for x in df_dummy.columns]\n",
        "  return df_dummy"
      ],
      "execution_count": null,
      "outputs": []
    },
    {
      "cell_type": "code",
      "metadata": {
        "colab": {
          "base_uri": "https://localhost:8080/"
        },
        "id": "8MTWUFJfJZVn",
        "outputId": "4b86ca13-cf34-4268-cffa-17a1ab6b0bb1"
      },
      "source": [
        "patient_features=patients[['Id','MARITAL', 'RACE', 'ETHNICITY','GENDER','AGE']]\n",
        "pat_gen=get_dummy(patient_features,'GENDER','pat_gt_GENDER')\n",
        "pat_race=get_dummy(patient_features,'RACE','pat_gt_RACE')\n",
        "pat_eth=get_dummy(patient_features,'ETHNICITY','pat_gt_ETHNICITY')\n",
        "pat_mar=get_dummy(patient_features,'MARITAL','pat_gt_MARITAL')\n",
        "patient_features=pd.concat([patients[['Id','AGE']],pat_gen,pat_race,pat_eth,pat_mar],axis=1)\n",
        "patient_features.shape"
      ],
      "execution_count": null,
      "outputs": [
        {
          "output_type": "execute_result",
          "data": {
            "text/plain": [
              "(11628, 13)"
            ]
          },
          "metadata": {
            "tags": []
          },
          "execution_count": 7
        }
      ]
    },
    {
      "cell_type": "code",
      "metadata": {
        "colab": {
          "base_uri": "https://localhost:8080/",
          "height": 233
        },
        "id": "aJo-5be1L8K7",
        "outputId": "2aa8d7e3-242f-49d4-9fd2-db1c7b043842"
      },
      "source": [
        "patient_features.head(n=2)"
      ],
      "execution_count": null,
      "outputs": [
        {
          "output_type": "execute_result",
          "data": {
            "text/html": [
              "<div>\n",
              "<style scoped>\n",
              "    .dataframe tbody tr th:only-of-type {\n",
              "        vertical-align: middle;\n",
              "    }\n",
              "\n",
              "    .dataframe tbody tr th {\n",
              "        vertical-align: top;\n",
              "    }\n",
              "\n",
              "    .dataframe thead th {\n",
              "        text-align: right;\n",
              "    }\n",
              "</style>\n",
              "<table border=\"1\" class=\"dataframe\">\n",
              "  <thead>\n",
              "    <tr style=\"text-align: right;\">\n",
              "      <th></th>\n",
              "      <th>Id</th>\n",
              "      <th>AGE</th>\n",
              "      <th>pat_gt_GENDER_F</th>\n",
              "      <th>pat_gt_GENDER_M</th>\n",
              "      <th>pat_gt_RACE_asian</th>\n",
              "      <th>pat_gt_RACE_black</th>\n",
              "      <th>pat_gt_RACE_native</th>\n",
              "      <th>pat_gt_RACE_other</th>\n",
              "      <th>pat_gt_RACE_white</th>\n",
              "      <th>pat_gt_ETHNICITY_hispanic</th>\n",
              "      <th>pat_gt_ETHNICITY_nonhispanic</th>\n",
              "      <th>pat_gt_MARITAL_M</th>\n",
              "      <th>pat_gt_MARITAL_S</th>\n",
              "    </tr>\n",
              "  </thead>\n",
              "  <tbody>\n",
              "    <tr>\n",
              "      <th>0</th>\n",
              "      <td>360a1024-645a-4c50-b94c-1689b34beace</td>\n",
              "      <td>0.0</td>\n",
              "      <td>0</td>\n",
              "      <td>1</td>\n",
              "      <td>0</td>\n",
              "      <td>0</td>\n",
              "      <td>0</td>\n",
              "      <td>0</td>\n",
              "      <td>1</td>\n",
              "      <td>0</td>\n",
              "      <td>1</td>\n",
              "      <td>1</td>\n",
              "      <td>0</td>\n",
              "    </tr>\n",
              "    <tr>\n",
              "      <th>1</th>\n",
              "      <td>2d0a9468-9cc7-47c6-a757-2944fb7a754d</td>\n",
              "      <td>0.0</td>\n",
              "      <td>0</td>\n",
              "      <td>1</td>\n",
              "      <td>0</td>\n",
              "      <td>1</td>\n",
              "      <td>0</td>\n",
              "      <td>0</td>\n",
              "      <td>0</td>\n",
              "      <td>0</td>\n",
              "      <td>1</td>\n",
              "      <td>0</td>\n",
              "      <td>0</td>\n",
              "    </tr>\n",
              "  </tbody>\n",
              "</table>\n",
              "</div>"
            ],
            "text/plain": [
              "                                     Id  ...  pat_gt_MARITAL_S\n",
              "0  360a1024-645a-4c50-b94c-1689b34beace  ...                 0\n",
              "1  2d0a9468-9cc7-47c6-a757-2944fb7a754d  ...                 0\n",
              "\n",
              "[2 rows x 13 columns]"
            ]
          },
          "metadata": {
            "tags": []
          },
          "execution_count": 8
        }
      ]
    },
    {
      "cell_type": "markdown",
      "metadata": {
        "id": "df7J-fpKMBBy"
      },
      "source": [
        "During EDA process we could see and understand that the patients have there life time records in encounter dataset.That means they usually visit to medical faculty for there health issue.During this process they have Encountered and diagnosed with many health condition which can be retrive from condition dataset\n",
        "\n",
        "\n",
        "---\n",
        "**We should use condition dataset to find out the date when the patients was diagnosed with particular condition that will be helpful to find out our target variable.**\n",
        "\n"
      ]
    },
    {
      "cell_type": "code",
      "metadata": {
        "colab": {
          "base_uri": "https://localhost:8080/",
          "height": 450
        },
        "id": "EflKKpJ7MFrr",
        "outputId": "a7634826-2bdc-498c-af24-7d51b7127ba4"
      },
      "source": [
        "condition[['ENCOUNTER','DESCRIPTION']].groupby('DESCRIPTION').count()\\\n",
        ".sort_values('ENCOUNTER',ascending=False)"
      ],
      "execution_count": null,
      "outputs": [
        {
          "output_type": "execute_result",
          "data": {
            "text/html": [
              "<div>\n",
              "<style scoped>\n",
              "    .dataframe tbody tr th:only-of-type {\n",
              "        vertical-align: middle;\n",
              "    }\n",
              "\n",
              "    .dataframe tbody tr th {\n",
              "        vertical-align: top;\n",
              "    }\n",
              "\n",
              "    .dataframe thead th {\n",
              "        text-align: right;\n",
              "    }\n",
              "</style>\n",
              "<table border=\"1\" class=\"dataframe\">\n",
              "  <thead>\n",
              "    <tr style=\"text-align: right;\">\n",
              "      <th></th>\n",
              "      <th>ENCOUNTER</th>\n",
              "    </tr>\n",
              "    <tr>\n",
              "      <th>DESCRIPTION</th>\n",
              "      <th></th>\n",
              "    </tr>\n",
              "  </thead>\n",
              "  <tbody>\n",
              "    <tr>\n",
              "      <th>Viral sinusitis (disorder)</th>\n",
              "      <td>53010</td>\n",
              "    </tr>\n",
              "    <tr>\n",
              "      <th>Acute viral pharyngitis (disorder)</th>\n",
              "      <td>31589</td>\n",
              "    </tr>\n",
              "    <tr>\n",
              "      <th>Normal pregnancy</th>\n",
              "      <td>26680</td>\n",
              "    </tr>\n",
              "    <tr>\n",
              "      <th>Acute bronchitis (disorder)</th>\n",
              "      <td>26230</td>\n",
              "    </tr>\n",
              "    <tr>\n",
              "      <th>Otitis media</th>\n",
              "      <td>14697</td>\n",
              "    </tr>\n",
              "    <tr>\n",
              "      <th>...</th>\n",
              "      <td>...</td>\n",
              "    </tr>\n",
              "    <tr>\n",
              "      <th>Sepsis caused by Pseudomonas (disorder)</th>\n",
              "      <td>1</td>\n",
              "    </tr>\n",
              "    <tr>\n",
              "      <th>Non-low risk pregnancy</th>\n",
              "      <td>1</td>\n",
              "    </tr>\n",
              "    <tr>\n",
              "      <th>Proteinuria due to type 2 diabetes mellitus (disorder)</th>\n",
              "      <td>1</td>\n",
              "    </tr>\n",
              "    <tr>\n",
              "      <th>History of amputation of foot (situation)</th>\n",
              "      <td>1</td>\n",
              "    </tr>\n",
              "    <tr>\n",
              "      <th>Infection caused by Pseudomonas aeruginosa</th>\n",
              "      <td>1</td>\n",
              "    </tr>\n",
              "  </tbody>\n",
              "</table>\n",
              "<p>156 rows × 1 columns</p>\n",
              "</div>"
            ],
            "text/plain": [
              "                                                    ENCOUNTER\n",
              "DESCRIPTION                                                  \n",
              "Viral sinusitis (disorder)                              53010\n",
              "Acute viral pharyngitis (disorder)                      31589\n",
              "Normal pregnancy                                        26680\n",
              "Acute bronchitis (disorder)                             26230\n",
              "Otitis media                                            14697\n",
              "...                                                       ...\n",
              "Sepsis caused by Pseudomonas (disorder)                     1\n",
              "Non-low risk pregnancy                                      1\n",
              "Proteinuria due to type 2 diabetes mellitus (di...          1\n",
              "History of amputation of foot (situation)                   1\n",
              "Infection caused by Pseudomonas aeruginosa                  1\n",
              "\n",
              "[156 rows x 1 columns]"
            ]
          },
          "metadata": {
            "tags": []
          },
          "execution_count": 9
        }
      ]
    },
    {
      "cell_type": "code",
      "metadata": {
        "id": "wT3fFo_9NJJN"
      },
      "source": [
        "condition['START']=pd.to_datetime(condition['START'])\n",
        "condition['STOP']=pd.to_datetime(condition['STOP'])  \n",
        "condition['DURATION']=condition.apply(lambda x: (x['STOP']-x['START'])//np.timedelta64(1,'D'),axis=1)\n",
        "#The division // of operands where the result is the quotient in which the digits after the decimal point are removed."
      ],
      "execution_count": null,
      "outputs": []
    },
    {
      "cell_type": "code",
      "metadata": {
        "colab": {
          "base_uri": "https://localhost:8080/",
          "height": 235
        },
        "id": "p4LTlCAANMRa",
        "outputId": "82fa78bc-a7e0-47a5-c81f-7d450a71bf18"
      },
      "source": [
        "cd=condition[['DESCRIPTION','ENCOUNTER','DURATION']]\\\n",
        ".groupby(['DESCRIPTION'])\\\n",
        ".agg({'ENCOUNTER':'count','DURATION':'mean'})\\\n",
        ".sort_values('ENCOUNTER',ascending=False)\n",
        "cd[np.isnan(cd['DURATION'])].head()"
      ],
      "execution_count": null,
      "outputs": [
        {
          "output_type": "execute_result",
          "data": {
            "text/html": [
              "<div>\n",
              "<style scoped>\n",
              "    .dataframe tbody tr th:only-of-type {\n",
              "        vertical-align: middle;\n",
              "    }\n",
              "\n",
              "    .dataframe tbody tr th {\n",
              "        vertical-align: top;\n",
              "    }\n",
              "\n",
              "    .dataframe thead th {\n",
              "        text-align: right;\n",
              "    }\n",
              "</style>\n",
              "<table border=\"1\" class=\"dataframe\">\n",
              "  <thead>\n",
              "    <tr style=\"text-align: right;\">\n",
              "      <th></th>\n",
              "      <th>ENCOUNTER</th>\n",
              "      <th>DURATION</th>\n",
              "    </tr>\n",
              "    <tr>\n",
              "      <th>DESCRIPTION</th>\n",
              "      <th></th>\n",
              "      <th></th>\n",
              "    </tr>\n",
              "  </thead>\n",
              "  <tbody>\n",
              "    <tr>\n",
              "      <th>Body mass index 30+ - obesity (finding)</th>\n",
              "      <td>4599</td>\n",
              "      <td>NaN</td>\n",
              "    </tr>\n",
              "    <tr>\n",
              "      <th>Prediabetes</th>\n",
              "      <td>3556</td>\n",
              "      <td>NaN</td>\n",
              "    </tr>\n",
              "    <tr>\n",
              "      <th>Hypertension</th>\n",
              "      <td>3046</td>\n",
              "      <td>NaN</td>\n",
              "    </tr>\n",
              "    <tr>\n",
              "      <th>Miscarriage in first trimester</th>\n",
              "      <td>2024</td>\n",
              "      <td>NaN</td>\n",
              "    </tr>\n",
              "    <tr>\n",
              "      <th>Hyperlipidemia</th>\n",
              "      <td>1239</td>\n",
              "      <td>NaN</td>\n",
              "    </tr>\n",
              "  </tbody>\n",
              "</table>\n",
              "</div>"
            ],
            "text/plain": [
              "                                         ENCOUNTER  DURATION\n",
              "DESCRIPTION                                                 \n",
              "Body mass index 30+ - obesity (finding)       4599       NaN\n",
              "Prediabetes                                   3556       NaN\n",
              "Hypertension                                  3046       NaN\n",
              "Miscarriage in first trimester                2024       NaN\n",
              "Hyperlipidemia                                1239       NaN"
            ]
          },
          "metadata": {
            "tags": []
          },
          "execution_count": 11
        }
      ]
    },
    {
      "cell_type": "markdown",
      "metadata": {
        "id": "LFsoH2ytMPgD"
      },
      "source": [
        "In EDA process we colud see Viral sinusitis and Acute Viral pharyngitis are the most common disorder suffered by patients.\n",
        "\n",
        "---\n",
        "The top three condition that stay with the patients for a life time are:-\n",
        "\n",
        "Body mass index 30+ - obesity (finding)\n",
        "Prediabetes\n",
        "Hypertension\n",
        "\n",
        "1.   Body mass index 30+ - obesity (finding)\n",
        "2.   Prediabetes\n",
        "3.   Hypertension\n",
        "\n",
        "---\n",
        "These diseases are also called chronic disases,hence its stays life long and this three can be used to build a predictive models for generating health come."
      ]
    },
    {
      "cell_type": "markdown",
      "metadata": {
        "id": "MuRctjX8MRu0"
      },
      "source": [
        "**Obesity**-The ideal way to treat obesity is with a combination of diet, physical activity, and lifestyle changes. Your doctor may also recommend prescription medication or surgery. Managing obesity is about improving your overall health, not just about losing weight. The key to effective weight loss is consistency.\n",
        "\n",
        "---\n",
        "**Prediabetes**-These can be controlled with medicine but cant be totally cured.\n",
        "\n",
        "---\n",
        "**Hypertension**-Similarly these can be controlled with medicine but cant be totally cured."
      ]
    },
    {
      "cell_type": "markdown",
      "metadata": {
        "id": "lVsWqJF5M4Jj"
      },
      "source": [
        "**Patient:As we can see obesity can be cured with time rather prediabetes & Hypertension.So we will build our target variable with the help of prediabetes &Hypertension.**\n",
        "\n",
        "---\n",
        "# *Let us consider prediabetes:If they are prediabetes we will take the entire timeline before the encounter where they were prediabetes*\n",
        "\n",
        "\n",
        "*   The target is 1(i.e. these people would be diagnosed as prediabetes)\n",
        "*   The target is 0(i.e. these people would not be diagnosed as prediabetes)\n",
        "\n",
        "\n"
      ]
    },
    {
      "cell_type": "code",
      "metadata": {
        "id": "51oKz6I6JZos"
      },
      "source": [
        "target_set=condition[condition['DESCRIPTION']=='Prediabetes'][['PATIENT','ENCOUNTER','START']]"
      ],
      "execution_count": null,
      "outputs": []
    },
    {
      "cell_type": "code",
      "metadata": {
        "id": "10XdPvv-JWDz"
      },
      "source": [
        "outside_target=condition[~condition['PATIENT'].isin(target_set['PATIENT'])][['PATIENT','ENCOUNTER']].groupby('PATIENT').count().reset_index()"
      ],
      "execution_count": null,
      "outputs": []
    },
    {
      "cell_type": "code",
      "metadata": {
        "id": "KSQt32rbLDPz"
      },
      "source": [
        "encounters['START_DATE']=pd.to_datetime(encounters.apply(lambda x: x['START'][:10],axis=1))\n",
        "#2000-09-28 09:26:00+00:00 extracting first 10 which will give us idea about YYYY-MM-DD"
      ],
      "execution_count": null,
      "outputs": []
    },
    {
      "cell_type": "markdown",
      "metadata": {
        "id": "mcTpTJ9XN0Ne"
      },
      "source": [
        "check for the set of patients who have condition\n",
        "\n"
      ]
    },
    {
      "cell_type": "code",
      "metadata": {
        "id": "gaepaIGrLEOC"
      },
      "source": [
        "encounters_condition=pd.merge(encounters,target_set,on='PATIENT')"
      ],
      "execution_count": null,
      "outputs": []
    },
    {
      "cell_type": "code",
      "metadata": {
        "id": "xWRg0aNyLPIy"
      },
      "source": [
        "encounters_condition['before']=encounters_condition.apply(lambda x: x['START_y']>x['START_DATE'],axis=1)\n",
        "##that will give output in form of boolean"
      ],
      "execution_count": null,
      "outputs": []
    },
    {
      "cell_type": "markdown",
      "metadata": {
        "id": "9RSRPctQN8J0"
      },
      "source": [
        "Before column is created to identify the encounters that has happended before the condition was diagnosed."
      ]
    },
    {
      "cell_type": "code",
      "metadata": {
        "id": "y4JI5HgONrTs"
      },
      "source": [
        "patient_encounter_before_condition=encounters_condition[encounters_condition['before']]"
      ],
      "execution_count": null,
      "outputs": []
    },
    {
      "cell_type": "code",
      "metadata": {
        "id": "0R1F4nmPNreU"
      },
      "source": [
        "patient_encounter_before_condition_encounterclass=patient_encounter_before_condition[['PATIENT','ENCOUNTERCLASS','Id']]\\\n",
        ".groupby(['PATIENT','ENCOUNTERCLASS']).count().reset_index()"
      ],
      "execution_count": null,
      "outputs": []
    },
    {
      "cell_type": "markdown",
      "metadata": {
        "id": "9TscxQESPXdQ"
      },
      "source": [
        "Check for the set of patient who do not have condition"
      ]
    },
    {
      "cell_type": "code",
      "metadata": {
        "id": "XFtvFxo1PUSV"
      },
      "source": [
        "patient_noencounter_condition=encounters[encounters['PATIENT'].isin(outside_target['PATIENT'])]\\\n",
        ".groupby(['PATIENT']).head(50) ##This can be changed later on "
      ],
      "execution_count": null,
      "outputs": []
    },
    {
      "cell_type": "code",
      "metadata": {
        "id": "T1sUlPbOPUZx"
      },
      "source": [
        "patient_noencounter_condition_encounterclass=patient_noencounter_condition[['PATIENT','ENCOUNTERCLASS','Id']]\\\n",
        ".groupby(['PATIENT','ENCOUNTERCLASS']).count().reset_index()"
      ],
      "execution_count": null,
      "outputs": []
    },
    {
      "cell_type": "markdown",
      "metadata": {
        "id": "sI9lbM-MTflP"
      },
      "source": [
        "We can use pivot table on encounterclass to make features for the field"
      ]
    },
    {
      "cell_type": "markdown",
      "metadata": {
        "id": "qGW3XU2WUn5x"
      },
      "source": [
        "For patients with condition"
      ]
    },
    {
      "cell_type": "code",
      "metadata": {
        "id": "grIiCzsGTHTX"
      },
      "source": [
        "patient_feature_encounterclass=pd.pivot_table(patient_encounter_before_condition_encounterclass,values='Id',\n",
        "                                              columns=['ENCOUNTERCLASS'],index=['PATIENT'],aggfunc=np.sum)\n",
        "patient_feature_encounterclass=patient_feature_encounterclass.fillna(0)"
      ],
      "execution_count": null,
      "outputs": []
    },
    {
      "cell_type": "code",
      "metadata": {
        "colab": {
          "base_uri": "https://localhost:8080/",
          "height": 142
        },
        "id": "SItycYlfVARC",
        "outputId": "d8a652d1-acac-4fd8-b338-fd9fcc41cf6f"
      },
      "source": [
        "patient_feature_encounterclass.head(n=2)"
      ],
      "execution_count": null,
      "outputs": [
        {
          "output_type": "execute_result",
          "data": {
            "text/html": [
              "<div>\n",
              "<style scoped>\n",
              "    .dataframe tbody tr th:only-of-type {\n",
              "        vertical-align: middle;\n",
              "    }\n",
              "\n",
              "    .dataframe tbody tr th {\n",
              "        vertical-align: top;\n",
              "    }\n",
              "\n",
              "    .dataframe thead th {\n",
              "        text-align: right;\n",
              "    }\n",
              "</style>\n",
              "<table border=\"1\" class=\"dataframe\">\n",
              "  <thead>\n",
              "    <tr style=\"text-align: right;\">\n",
              "      <th>ENCOUNTERCLASS</th>\n",
              "      <th>ambulatory</th>\n",
              "      <th>emergency</th>\n",
              "      <th>inpatient</th>\n",
              "      <th>outpatient</th>\n",
              "      <th>urgentcare</th>\n",
              "      <th>wellness</th>\n",
              "    </tr>\n",
              "    <tr>\n",
              "      <th>PATIENT</th>\n",
              "      <th></th>\n",
              "      <th></th>\n",
              "      <th></th>\n",
              "      <th></th>\n",
              "      <th></th>\n",
              "      <th></th>\n",
              "    </tr>\n",
              "  </thead>\n",
              "  <tbody>\n",
              "    <tr>\n",
              "      <th>0002edb7-9477-4bc9-a2b7-d5137e7e9ed4</th>\n",
              "      <td>11.0</td>\n",
              "      <td>2.0</td>\n",
              "      <td>0.0</td>\n",
              "      <td>6.0</td>\n",
              "      <td>1.0</td>\n",
              "      <td>33.0</td>\n",
              "    </tr>\n",
              "    <tr>\n",
              "      <th>0007fa20-c7b2-4764-b4f1-c3e96b241082</th>\n",
              "      <td>3.0</td>\n",
              "      <td>2.0</td>\n",
              "      <td>0.0</td>\n",
              "      <td>5.0</td>\n",
              "      <td>0.0</td>\n",
              "      <td>27.0</td>\n",
              "    </tr>\n",
              "  </tbody>\n",
              "</table>\n",
              "</div>"
            ],
            "text/plain": [
              "ENCOUNTERCLASS                        ambulatory  ...  wellness\n",
              "PATIENT                                           ...          \n",
              "0002edb7-9477-4bc9-a2b7-d5137e7e9ed4        11.0  ...      33.0\n",
              "0007fa20-c7b2-4764-b4f1-c3e96b241082         3.0  ...      27.0\n",
              "\n",
              "[2 rows x 6 columns]"
            ]
          },
          "metadata": {
            "tags": []
          },
          "execution_count": 22
        }
      ]
    },
    {
      "cell_type": "markdown",
      "metadata": {
        "id": "3n7fZaE5Ur4h"
      },
      "source": [
        "For patients without condition"
      ]
    },
    {
      "cell_type": "code",
      "metadata": {
        "id": "k4jIG73lUlBp"
      },
      "source": [
        "patient_nocondition=pd.pivot_table(patient_noencounter_condition_encounterclass,values='Id',index=[\"PATIENT\"],\n",
        "                                   columns=['ENCOUNTERCLASS'],aggfunc=np.sum)\n",
        "patient_nocondition=patient_nocondition.fillna(0)"
      ],
      "execution_count": null,
      "outputs": []
    },
    {
      "cell_type": "code",
      "metadata": {
        "colab": {
          "base_uri": "https://localhost:8080/",
          "height": 142
        },
        "id": "01enPYsoUlE6",
        "outputId": "2cabf6a9-92c9-43e8-f2c8-6205068e00ef"
      },
      "source": [
        "patient_nocondition.head(n=2)"
      ],
      "execution_count": null,
      "outputs": [
        {
          "output_type": "execute_result",
          "data": {
            "text/html": [
              "<div>\n",
              "<style scoped>\n",
              "    .dataframe tbody tr th:only-of-type {\n",
              "        vertical-align: middle;\n",
              "    }\n",
              "\n",
              "    .dataframe tbody tr th {\n",
              "        vertical-align: top;\n",
              "    }\n",
              "\n",
              "    .dataframe thead th {\n",
              "        text-align: right;\n",
              "    }\n",
              "</style>\n",
              "<table border=\"1\" class=\"dataframe\">\n",
              "  <thead>\n",
              "    <tr style=\"text-align: right;\">\n",
              "      <th>ENCOUNTERCLASS</th>\n",
              "      <th>ambulatory</th>\n",
              "      <th>emergency</th>\n",
              "      <th>inpatient</th>\n",
              "      <th>outpatient</th>\n",
              "      <th>urgentcare</th>\n",
              "      <th>wellness</th>\n",
              "    </tr>\n",
              "    <tr>\n",
              "      <th>PATIENT</th>\n",
              "      <th></th>\n",
              "      <th></th>\n",
              "      <th></th>\n",
              "      <th></th>\n",
              "      <th></th>\n",
              "      <th></th>\n",
              "    </tr>\n",
              "  </thead>\n",
              "  <tbody>\n",
              "    <tr>\n",
              "      <th>00059e58-4f1f-49de-b008-3ec6c2aac7e7</th>\n",
              "      <td>15.0</td>\n",
              "      <td>1.0</td>\n",
              "      <td>0.0</td>\n",
              "      <td>6.0</td>\n",
              "      <td>0.0</td>\n",
              "      <td>28.0</td>\n",
              "    </tr>\n",
              "    <tr>\n",
              "      <th>000f6134-cefd-41f8-8bc7-144221c7e07e</th>\n",
              "      <td>11.0</td>\n",
              "      <td>1.0</td>\n",
              "      <td>0.0</td>\n",
              "      <td>5.0</td>\n",
              "      <td>2.0</td>\n",
              "      <td>31.0</td>\n",
              "    </tr>\n",
              "  </tbody>\n",
              "</table>\n",
              "</div>"
            ],
            "text/plain": [
              "ENCOUNTERCLASS                        ambulatory  ...  wellness\n",
              "PATIENT                                           ...          \n",
              "00059e58-4f1f-49de-b008-3ec6c2aac7e7        15.0  ...      28.0\n",
              "000f6134-cefd-41f8-8bc7-144221c7e07e        11.0  ...      31.0\n",
              "\n",
              "[2 rows x 6 columns]"
            ]
          },
          "metadata": {
            "tags": []
          },
          "execution_count": 24
        }
      ]
    },
    {
      "cell_type": "markdown",
      "metadata": {
        "id": "jfTBXo1wXuRB"
      },
      "source": [
        "Features and target variable for model1-Health outcomes"
      ]
    },
    {
      "cell_type": "code",
      "metadata": {
        "id": "6hHNcC5SUlSN"
      },
      "source": [
        "patient_feature_encounterclass.reset_index(inplace=True)\n",
        "patient_nocondition.reset_index(inplace=True)"
      ],
      "execution_count": null,
      "outputs": []
    },
    {
      "cell_type": "code",
      "metadata": {
        "id": "Na-h9xT9THcI"
      },
      "source": [
        "patient_condition=pd.merge(patient_feature_encounterclass,patient_features,left_on='PATIENT',right_on='Id',how='inner')"
      ],
      "execution_count": null,
      "outputs": []
    },
    {
      "cell_type": "code",
      "metadata": {
        "colab": {
          "base_uri": "https://localhost:8080/",
          "height": 233
        },
        "id": "YeJlJ7saPUsU",
        "outputId": "7b41abd0-2e97-4ff1-d75e-2ac9e6b88918"
      },
      "source": [
        "patient_condition.head(n=2)"
      ],
      "execution_count": null,
      "outputs": [
        {
          "output_type": "execute_result",
          "data": {
            "text/html": [
              "<div>\n",
              "<style scoped>\n",
              "    .dataframe tbody tr th:only-of-type {\n",
              "        vertical-align: middle;\n",
              "    }\n",
              "\n",
              "    .dataframe tbody tr th {\n",
              "        vertical-align: top;\n",
              "    }\n",
              "\n",
              "    .dataframe thead th {\n",
              "        text-align: right;\n",
              "    }\n",
              "</style>\n",
              "<table border=\"1\" class=\"dataframe\">\n",
              "  <thead>\n",
              "    <tr style=\"text-align: right;\">\n",
              "      <th></th>\n",
              "      <th>PATIENT</th>\n",
              "      <th>ambulatory</th>\n",
              "      <th>emergency</th>\n",
              "      <th>inpatient</th>\n",
              "      <th>outpatient</th>\n",
              "      <th>urgentcare</th>\n",
              "      <th>wellness</th>\n",
              "      <th>Id</th>\n",
              "      <th>AGE</th>\n",
              "      <th>pat_gt_GENDER_F</th>\n",
              "      <th>pat_gt_GENDER_M</th>\n",
              "      <th>pat_gt_RACE_asian</th>\n",
              "      <th>pat_gt_RACE_black</th>\n",
              "      <th>pat_gt_RACE_native</th>\n",
              "      <th>pat_gt_RACE_other</th>\n",
              "      <th>pat_gt_RACE_white</th>\n",
              "      <th>pat_gt_ETHNICITY_hispanic</th>\n",
              "      <th>pat_gt_ETHNICITY_nonhispanic</th>\n",
              "      <th>pat_gt_MARITAL_M</th>\n",
              "      <th>pat_gt_MARITAL_S</th>\n",
              "    </tr>\n",
              "  </thead>\n",
              "  <tbody>\n",
              "    <tr>\n",
              "      <th>0</th>\n",
              "      <td>0002edb7-9477-4bc9-a2b7-d5137e7e9ed4</td>\n",
              "      <td>11.0</td>\n",
              "      <td>2.0</td>\n",
              "      <td>0.0</td>\n",
              "      <td>6.0</td>\n",
              "      <td>1.0</td>\n",
              "      <td>33.0</td>\n",
              "      <td>0002edb7-9477-4bc9-a2b7-d5137e7e9ed4</td>\n",
              "      <td>0.0</td>\n",
              "      <td>0</td>\n",
              "      <td>1</td>\n",
              "      <td>0</td>\n",
              "      <td>0</td>\n",
              "      <td>0</td>\n",
              "      <td>0</td>\n",
              "      <td>1</td>\n",
              "      <td>0</td>\n",
              "      <td>1</td>\n",
              "      <td>0</td>\n",
              "      <td>1</td>\n",
              "    </tr>\n",
              "    <tr>\n",
              "      <th>1</th>\n",
              "      <td>0007fa20-c7b2-4764-b4f1-c3e96b241082</td>\n",
              "      <td>3.0</td>\n",
              "      <td>2.0</td>\n",
              "      <td>0.0</td>\n",
              "      <td>5.0</td>\n",
              "      <td>0.0</td>\n",
              "      <td>27.0</td>\n",
              "      <td>0007fa20-c7b2-4764-b4f1-c3e96b241082</td>\n",
              "      <td>0.0</td>\n",
              "      <td>1</td>\n",
              "      <td>0</td>\n",
              "      <td>0</td>\n",
              "      <td>0</td>\n",
              "      <td>0</td>\n",
              "      <td>0</td>\n",
              "      <td>1</td>\n",
              "      <td>0</td>\n",
              "      <td>1</td>\n",
              "      <td>0</td>\n",
              "      <td>0</td>\n",
              "    </tr>\n",
              "  </tbody>\n",
              "</table>\n",
              "</div>"
            ],
            "text/plain": [
              "                                PATIENT  ...  pat_gt_MARITAL_S\n",
              "0  0002edb7-9477-4bc9-a2b7-d5137e7e9ed4  ...                 1\n",
              "1  0007fa20-c7b2-4764-b4f1-c3e96b241082  ...                 0\n",
              "\n",
              "[2 rows x 20 columns]"
            ]
          },
          "metadata": {
            "tags": []
          },
          "execution_count": 27
        }
      ]
    },
    {
      "cell_type": "markdown",
      "metadata": {
        "id": "LR8J-s57ZauC"
      },
      "source": [
        "We will select our target as 1(patient with condition)"
      ]
    },
    {
      "cell_type": "code",
      "metadata": {
        "id": "OwHJA4ojZllN"
      },
      "source": [
        "patient_condition=patient_condition[['ambulatory', 'emergency', 'inpatient',\n",
        "       'outpatient', 'urgentcare', 'wellness','AGE', 'pat_gt_GENDER_F',\n",
        "       'pat_gt_GENDER_M', 'pat_gt_RACE_asian', 'pat_gt_RACE_black',\n",
        "       'pat_gt_RACE_native', 'pat_gt_RACE_other', 'pat_gt_RACE_white',\n",
        "       'pat_gt_ETHNICITY_hispanic', 'pat_gt_ETHNICITY_nonhispanic',\n",
        "       'pat_gt_MARITAL_M', 'pat_gt_MARITAL_S']]\n",
        "\n",
        "patient_condition['Target']=1"
      ],
      "execution_count": null,
      "outputs": []
    },
    {
      "cell_type": "code",
      "metadata": {
        "id": "jTKggYq9ZZrl"
      },
      "source": [
        "patient_no_condition=pd.merge(patient_nocondition,patient_features,left_on='PATIENT',right_on='Id',how='inner')"
      ],
      "execution_count": null,
      "outputs": []
    },
    {
      "cell_type": "code",
      "metadata": {
        "colab": {
          "base_uri": "https://localhost:8080/",
          "height": 233
        },
        "id": "_Qjvi0IeZZtS",
        "outputId": "11dd2450-a168-45fb-d9a5-81e8212738ae"
      },
      "source": [
        "patient_no_condition.head(n=2)"
      ],
      "execution_count": null,
      "outputs": [
        {
          "output_type": "execute_result",
          "data": {
            "text/html": [
              "<div>\n",
              "<style scoped>\n",
              "    .dataframe tbody tr th:only-of-type {\n",
              "        vertical-align: middle;\n",
              "    }\n",
              "\n",
              "    .dataframe tbody tr th {\n",
              "        vertical-align: top;\n",
              "    }\n",
              "\n",
              "    .dataframe thead th {\n",
              "        text-align: right;\n",
              "    }\n",
              "</style>\n",
              "<table border=\"1\" class=\"dataframe\">\n",
              "  <thead>\n",
              "    <tr style=\"text-align: right;\">\n",
              "      <th></th>\n",
              "      <th>PATIENT</th>\n",
              "      <th>ambulatory</th>\n",
              "      <th>emergency</th>\n",
              "      <th>inpatient</th>\n",
              "      <th>outpatient</th>\n",
              "      <th>urgentcare</th>\n",
              "      <th>wellness</th>\n",
              "      <th>Id</th>\n",
              "      <th>AGE</th>\n",
              "      <th>pat_gt_GENDER_F</th>\n",
              "      <th>pat_gt_GENDER_M</th>\n",
              "      <th>pat_gt_RACE_asian</th>\n",
              "      <th>pat_gt_RACE_black</th>\n",
              "      <th>pat_gt_RACE_native</th>\n",
              "      <th>pat_gt_RACE_other</th>\n",
              "      <th>pat_gt_RACE_white</th>\n",
              "      <th>pat_gt_ETHNICITY_hispanic</th>\n",
              "      <th>pat_gt_ETHNICITY_nonhispanic</th>\n",
              "      <th>pat_gt_MARITAL_M</th>\n",
              "      <th>pat_gt_MARITAL_S</th>\n",
              "    </tr>\n",
              "  </thead>\n",
              "  <tbody>\n",
              "    <tr>\n",
              "      <th>0</th>\n",
              "      <td>00059e58-4f1f-49de-b008-3ec6c2aac7e7</td>\n",
              "      <td>15.0</td>\n",
              "      <td>1.0</td>\n",
              "      <td>0.0</td>\n",
              "      <td>6.0</td>\n",
              "      <td>0.0</td>\n",
              "      <td>28.0</td>\n",
              "      <td>00059e58-4f1f-49de-b008-3ec6c2aac7e7</td>\n",
              "      <td>0.0</td>\n",
              "      <td>1</td>\n",
              "      <td>0</td>\n",
              "      <td>0</td>\n",
              "      <td>0</td>\n",
              "      <td>0</td>\n",
              "      <td>0</td>\n",
              "      <td>1</td>\n",
              "      <td>0</td>\n",
              "      <td>1</td>\n",
              "      <td>1</td>\n",
              "      <td>0</td>\n",
              "    </tr>\n",
              "    <tr>\n",
              "      <th>1</th>\n",
              "      <td>000f6134-cefd-41f8-8bc7-144221c7e07e</td>\n",
              "      <td>11.0</td>\n",
              "      <td>1.0</td>\n",
              "      <td>0.0</td>\n",
              "      <td>5.0</td>\n",
              "      <td>2.0</td>\n",
              "      <td>31.0</td>\n",
              "      <td>000f6134-cefd-41f8-8bc7-144221c7e07e</td>\n",
              "      <td>0.0</td>\n",
              "      <td>0</td>\n",
              "      <td>1</td>\n",
              "      <td>0</td>\n",
              "      <td>0</td>\n",
              "      <td>0</td>\n",
              "      <td>0</td>\n",
              "      <td>1</td>\n",
              "      <td>0</td>\n",
              "      <td>1</td>\n",
              "      <td>1</td>\n",
              "      <td>0</td>\n",
              "    </tr>\n",
              "  </tbody>\n",
              "</table>\n",
              "</div>"
            ],
            "text/plain": [
              "                                PATIENT  ...  pat_gt_MARITAL_S\n",
              "0  00059e58-4f1f-49de-b008-3ec6c2aac7e7  ...                 0\n",
              "1  000f6134-cefd-41f8-8bc7-144221c7e07e  ...                 0\n",
              "\n",
              "[2 rows x 20 columns]"
            ]
          },
          "metadata": {
            "tags": []
          },
          "execution_count": 30
        }
      ]
    },
    {
      "cell_type": "markdown",
      "metadata": {
        "id": "dl8vcFOUbA8D"
      },
      "source": [
        "We will select our target as 0(patient without condition)"
      ]
    },
    {
      "cell_type": "code",
      "metadata": {
        "id": "OIug6_Afa1rd"
      },
      "source": [
        "patient_no_condition=patient_no_condition[['ambulatory', 'emergency', 'inpatient',\n",
        "       'outpatient', 'urgentcare', 'wellness','AGE', 'pat_gt_GENDER_F',\n",
        "       'pat_gt_GENDER_M', 'pat_gt_RACE_asian', 'pat_gt_RACE_black',\n",
        "       'pat_gt_RACE_native', 'pat_gt_RACE_other', 'pat_gt_RACE_white',\n",
        "       'pat_gt_ETHNICITY_hispanic', 'pat_gt_ETHNICITY_nonhispanic',\n",
        "       'pat_gt_MARITAL_M', 'pat_gt_MARITAL_S']]\n",
        "\n",
        "patient_no_condition['Target']=0"
      ],
      "execution_count": null,
      "outputs": []
    },
    {
      "cell_type": "code",
      "metadata": {
        "id": "jY-HiX-zbVwV"
      },
      "source": [
        "final_df=pd.concat([patient_condition,patient_no_condition],axis=0)\n",
        "final_target=final_df['Target']\n",
        "final_feature=final_df[[x for x in final_df.columns if x!='Target']]"
      ],
      "execution_count": null,
      "outputs": []
    },
    {
      "cell_type": "code",
      "metadata": {
        "colab": {
          "base_uri": "https://localhost:8080/",
          "height": 317
        },
        "id": "kru2v1B3gH9W",
        "outputId": "afa18bf0-1fc8-4c56-a455-69d7d1d0d4ef"
      },
      "source": [
        "final_df.describe()"
      ],
      "execution_count": null,
      "outputs": [
        {
          "output_type": "execute_result",
          "data": {
            "text/html": [
              "<div>\n",
              "<style scoped>\n",
              "    .dataframe tbody tr th:only-of-type {\n",
              "        vertical-align: middle;\n",
              "    }\n",
              "\n",
              "    .dataframe tbody tr th {\n",
              "        vertical-align: top;\n",
              "    }\n",
              "\n",
              "    .dataframe thead th {\n",
              "        text-align: right;\n",
              "    }\n",
              "</style>\n",
              "<table border=\"1\" class=\"dataframe\">\n",
              "  <thead>\n",
              "    <tr style=\"text-align: right;\">\n",
              "      <th></th>\n",
              "      <th>ambulatory</th>\n",
              "      <th>emergency</th>\n",
              "      <th>inpatient</th>\n",
              "      <th>outpatient</th>\n",
              "      <th>urgentcare</th>\n",
              "      <th>wellness</th>\n",
              "      <th>AGE</th>\n",
              "      <th>pat_gt_GENDER_F</th>\n",
              "      <th>pat_gt_GENDER_M</th>\n",
              "      <th>pat_gt_RACE_asian</th>\n",
              "      <th>pat_gt_RACE_black</th>\n",
              "      <th>pat_gt_RACE_native</th>\n",
              "      <th>pat_gt_RACE_other</th>\n",
              "      <th>pat_gt_RACE_white</th>\n",
              "      <th>pat_gt_ETHNICITY_hispanic</th>\n",
              "      <th>pat_gt_ETHNICITY_nonhispanic</th>\n",
              "      <th>pat_gt_MARITAL_M</th>\n",
              "      <th>pat_gt_MARITAL_S</th>\n",
              "      <th>Target</th>\n",
              "    </tr>\n",
              "  </thead>\n",
              "  <tbody>\n",
              "    <tr>\n",
              "      <th>count</th>\n",
              "      <td>11436.000000</td>\n",
              "      <td>11436.000000</td>\n",
              "      <td>11436.000000</td>\n",
              "      <td>11436.000000</td>\n",
              "      <td>11436.000000</td>\n",
              "      <td>11436.000000</td>\n",
              "      <td>11436.0</td>\n",
              "      <td>11436.000000</td>\n",
              "      <td>11436.000000</td>\n",
              "      <td>11436.000000</td>\n",
              "      <td>11436.000000</td>\n",
              "      <td>11436.000000</td>\n",
              "      <td>11436.000000</td>\n",
              "      <td>11436.000000</td>\n",
              "      <td>11436.000000</td>\n",
              "      <td>11436.000000</td>\n",
              "      <td>11436.000000</td>\n",
              "      <td>11436.000000</td>\n",
              "      <td>11436.000000</td>\n",
              "    </tr>\n",
              "    <tr>\n",
              "      <th>mean</th>\n",
              "      <td>18.504722</td>\n",
              "      <td>2.666055</td>\n",
              "      <td>0.577999</td>\n",
              "      <td>5.620147</td>\n",
              "      <td>0.733298</td>\n",
              "      <td>29.103270</td>\n",
              "      <td>0.0</td>\n",
              "      <td>0.509182</td>\n",
              "      <td>0.490818</td>\n",
              "      <td>0.068643</td>\n",
              "      <td>0.084470</td>\n",
              "      <td>0.003935</td>\n",
              "      <td>0.001399</td>\n",
              "      <td>0.841553</td>\n",
              "      <td>0.111840</td>\n",
              "      <td>0.888160</td>\n",
              "      <td>0.559986</td>\n",
              "      <td>0.140521</td>\n",
              "      <td>0.310948</td>\n",
              "    </tr>\n",
              "    <tr>\n",
              "      <th>std</th>\n",
              "      <td>22.336201</td>\n",
              "      <td>2.380574</td>\n",
              "      <td>3.750778</td>\n",
              "      <td>8.281144</td>\n",
              "      <td>1.267141</td>\n",
              "      <td>8.470722</td>\n",
              "      <td>0.0</td>\n",
              "      <td>0.499938</td>\n",
              "      <td>0.499938</td>\n",
              "      <td>0.252857</td>\n",
              "      <td>0.278104</td>\n",
              "      <td>0.062608</td>\n",
              "      <td>0.037380</td>\n",
              "      <td>0.365176</td>\n",
              "      <td>0.315183</td>\n",
              "      <td>0.315183</td>\n",
              "      <td>0.496410</td>\n",
              "      <td>0.347542</td>\n",
              "      <td>0.462902</td>\n",
              "    </tr>\n",
              "    <tr>\n",
              "      <th>min</th>\n",
              "      <td>0.000000</td>\n",
              "      <td>0.000000</td>\n",
              "      <td>0.000000</td>\n",
              "      <td>0.000000</td>\n",
              "      <td>0.000000</td>\n",
              "      <td>3.000000</td>\n",
              "      <td>0.0</td>\n",
              "      <td>0.000000</td>\n",
              "      <td>0.000000</td>\n",
              "      <td>0.000000</td>\n",
              "      <td>0.000000</td>\n",
              "      <td>0.000000</td>\n",
              "      <td>0.000000</td>\n",
              "      <td>0.000000</td>\n",
              "      <td>0.000000</td>\n",
              "      <td>0.000000</td>\n",
              "      <td>0.000000</td>\n",
              "      <td>0.000000</td>\n",
              "      <td>0.000000</td>\n",
              "    </tr>\n",
              "    <tr>\n",
              "      <th>25%</th>\n",
              "      <td>8.000000</td>\n",
              "      <td>1.000000</td>\n",
              "      <td>0.000000</td>\n",
              "      <td>2.000000</td>\n",
              "      <td>0.000000</td>\n",
              "      <td>25.000000</td>\n",
              "      <td>0.0</td>\n",
              "      <td>0.000000</td>\n",
              "      <td>0.000000</td>\n",
              "      <td>0.000000</td>\n",
              "      <td>0.000000</td>\n",
              "      <td>0.000000</td>\n",
              "      <td>0.000000</td>\n",
              "      <td>1.000000</td>\n",
              "      <td>0.000000</td>\n",
              "      <td>1.000000</td>\n",
              "      <td>0.000000</td>\n",
              "      <td>0.000000</td>\n",
              "      <td>0.000000</td>\n",
              "    </tr>\n",
              "    <tr>\n",
              "      <th>50%</th>\n",
              "      <td>12.000000</td>\n",
              "      <td>2.000000</td>\n",
              "      <td>0.000000</td>\n",
              "      <td>4.000000</td>\n",
              "      <td>0.000000</td>\n",
              "      <td>29.000000</td>\n",
              "      <td>0.0</td>\n",
              "      <td>1.000000</td>\n",
              "      <td>0.000000</td>\n",
              "      <td>0.000000</td>\n",
              "      <td>0.000000</td>\n",
              "      <td>0.000000</td>\n",
              "      <td>0.000000</td>\n",
              "      <td>1.000000</td>\n",
              "      <td>0.000000</td>\n",
              "      <td>1.000000</td>\n",
              "      <td>1.000000</td>\n",
              "      <td>0.000000</td>\n",
              "      <td>0.000000</td>\n",
              "    </tr>\n",
              "    <tr>\n",
              "      <th>75%</th>\n",
              "      <td>18.000000</td>\n",
              "      <td>4.000000</td>\n",
              "      <td>0.000000</td>\n",
              "      <td>6.000000</td>\n",
              "      <td>1.000000</td>\n",
              "      <td>33.000000</td>\n",
              "      <td>0.0</td>\n",
              "      <td>1.000000</td>\n",
              "      <td>1.000000</td>\n",
              "      <td>0.000000</td>\n",
              "      <td>0.000000</td>\n",
              "      <td>0.000000</td>\n",
              "      <td>0.000000</td>\n",
              "      <td>1.000000</td>\n",
              "      <td>0.000000</td>\n",
              "      <td>1.000000</td>\n",
              "      <td>1.000000</td>\n",
              "      <td>0.000000</td>\n",
              "      <td>1.000000</td>\n",
              "    </tr>\n",
              "    <tr>\n",
              "      <th>max</th>\n",
              "      <td>354.000000</td>\n",
              "      <td>23.000000</td>\n",
              "      <td>97.000000</td>\n",
              "      <td>183.000000</td>\n",
              "      <td>23.000000</td>\n",
              "      <td>66.000000</td>\n",
              "      <td>0.0</td>\n",
              "      <td>1.000000</td>\n",
              "      <td>1.000000</td>\n",
              "      <td>1.000000</td>\n",
              "      <td>1.000000</td>\n",
              "      <td>1.000000</td>\n",
              "      <td>1.000000</td>\n",
              "      <td>1.000000</td>\n",
              "      <td>1.000000</td>\n",
              "      <td>1.000000</td>\n",
              "      <td>1.000000</td>\n",
              "      <td>1.000000</td>\n",
              "      <td>1.000000</td>\n",
              "    </tr>\n",
              "  </tbody>\n",
              "</table>\n",
              "</div>"
            ],
            "text/plain": [
              "         ambulatory     emergency  ...  pat_gt_MARITAL_S        Target\n",
              "count  11436.000000  11436.000000  ...      11436.000000  11436.000000\n",
              "mean      18.504722      2.666055  ...          0.140521      0.310948\n",
              "std       22.336201      2.380574  ...          0.347542      0.462902\n",
              "min        0.000000      0.000000  ...          0.000000      0.000000\n",
              "25%        8.000000      1.000000  ...          0.000000      0.000000\n",
              "50%       12.000000      2.000000  ...          0.000000      0.000000\n",
              "75%       18.000000      4.000000  ...          0.000000      1.000000\n",
              "max      354.000000     23.000000  ...          1.000000      1.000000\n",
              "\n",
              "[8 rows x 19 columns]"
            ]
          },
          "metadata": {
            "tags": []
          },
          "execution_count": 35
        }
      ]
    },
    {
      "cell_type": "code",
      "metadata": {
        "colab": {
          "base_uri": "https://localhost:8080/"
        },
        "id": "ryfBndOccvnA",
        "outputId": "a4a419f5-3f42-4c2d-ac9e-0acad3d89e27"
      },
      "source": [
        "print('Target:',final_target.shape)\n",
        "print('Feature:',final_feature.shape)"
      ],
      "execution_count": null,
      "outputs": [
        {
          "output_type": "stream",
          "text": [
            "Target: (11436,)\n",
            "Feature: (11436, 18)\n"
          ],
          "name": "stdout"
        }
      ]
    },
    {
      "cell_type": "code",
      "metadata": {
        "colab": {
          "base_uri": "https://localhost:8080/",
          "height": 1000
        },
        "id": "eKD_w8d9dULH",
        "outputId": "e7cf9e9c-491d-4bf1-c463-e10a8b81e334"
      },
      "source": [
        "plt.figure(figsize=(12,15))\n",
        "corr=final_df.corr()\n",
        "top_corr_features=corr.index\n",
        "g=sns.heatmap(final_df[top_corr_features].corr(),annot=True,cmap='RdBu')"
      ],
      "execution_count": null,
      "outputs": [
        {
          "output_type": "display_data",
          "data": {
            "image/png": "[encoded data removed]",
            "text/plain": [
              "<Figure size 864x1080 with 2 Axes>"
            ]
          },
          "metadata": {
            "tags": [],
            "needs_background": "light"
          }
        }
      ]
    },
    {
      "cell_type": "code",
      "metadata": {
        "id": "FmHQvD6hgxGO"
      },
      "source": [
        "X_train,X_test,y_train,y_test=train_test_split(final_feature,final_target,test_size=0.2,random_state=100)"
      ],
      "execution_count": null,
      "outputs": []
    },
    {
      "cell_type": "code",
      "metadata": {
        "colab": {
          "base_uri": "https://localhost:8080/"
        },
        "id": "MSdXoqYhp7Fd",
        "outputId": "e3f83e08-af6d-4a04-fc6e-8b494518dd48"
      },
      "source": [
        "print('The shape of X_train:',X_train.shape)\n",
        "print('The shape of y_train:',y_train.shape)\n",
        "print('The shape of X_test:',X_test.shape)\n",
        "print('The shape of y_test:',y_test.shape)"
      ],
      "execution_count": null,
      "outputs": [
        {
          "output_type": "stream",
          "text": [
            "The shape of X_train: (9148, 18)\n",
            "The shape of y_train: (9148,)\n",
            "The shape of X_test: (2288, 18)\n",
            "The shape of y_test: (2288,)\n"
          ],
          "name": "stdout"
        }
      ]
    },
    {
      "cell_type": "code",
      "metadata": {
        "id": "S5QgXqeh6lGB"
      },
      "source": [
        "classifier=RandomForestClassifier()"
      ],
      "execution_count": null,
      "outputs": []
    },
    {
      "cell_type": "code",
      "metadata": {
        "colab": {
          "base_uri": "https://localhost:8080/"
        },
        "id": "ESysug5l6mWo",
        "outputId": "46e582b9-bdb9-4af8-85f9-20c0bc122632"
      },
      "source": [
        "n_estimators = [int(x) for x in np.linspace(start = 100, stop = 1200, num = 12)]\n",
        "print(n_estimators)"
      ],
      "execution_count": null,
      "outputs": [
        {
          "output_type": "stream",
          "text": [
            "[100, 200, 300, 400, 500, 600, 700, 800, 900, 1000, 1100, 1200]\n"
          ],
          "name": "stdout"
        }
      ]
    },
    {
      "cell_type": "markdown",
      "metadata": {
        "id": "P6E020iHb640"
      },
      "source": [
        "![2021-06-16.png](data:image/png;base64,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)"
      ]
    },
    {
      "cell_type": "code",
      "metadata": {
        "id": "mXWvhIAb6pxc"
      },
      "source": [
        "#Randomized Search CV\n",
        "\n",
        "# Number of trees in random forest\n",
        "n_estimators = [int(x) for x in np.linspace(start = 100, stop = 1200, num = 12)]\n",
        "# Number of features to consider at every split\n",
        "max_features = ['auto', 'sqrt']\n",
        "# Maximum number of levels in tree\n",
        "max_depth = [int(x) for x in np.linspace(5, 30, num = 6)]\n",
        "# max_depth.append(None)\n",
        "# Minimum number of samples required to split a node\n",
        "min_samples_split = [2, 5, 10, 15, 100]\n",
        "# Minimum number of samples required at each leaf node\n",
        "min_samples_leaf = [1, 2, 5, 10]"
      ],
      "execution_count": null,
      "outputs": []
    },
    {
      "cell_type": "code",
      "metadata": {
        "colab": {
          "base_uri": "https://localhost:8080/"
        },
        "id": "HRsbpboi6ubu",
        "outputId": "e93734c8-5ec2-4a23-984f-20a2cceedf5d"
      },
      "source": [
        "# Create the random grid\n",
        "random_grid = {'n_estimators': n_estimators,\n",
        "               'max_features': max_features,\n",
        "               'max_depth': max_depth,\n",
        "               'min_samples_split': min_samples_split,\n",
        "               'min_samples_leaf': min_samples_leaf}\n",
        "\n",
        "print(random_grid)"
      ],
      "execution_count": null,
      "outputs": [
        {
          "output_type": "stream",
          "text": [
            "{'n_estimators': [100, 200, 300, 400, 500, 600, 700, 800, 900, 1000, 1100, 1200], 'max_features': ['auto', 'sqrt'], 'max_depth': [5, 10, 15, 20, 25, 30], 'min_samples_split': [2, 5, 10, 15, 100], 'min_samples_leaf': [1, 2, 5, 10]}\n"
          ],
          "name": "stdout"
        }
      ]
    },
    {
      "cell_type": "code",
      "metadata": {
        "id": "upa2300P60D6"
      },
      "source": [
        "# Random search of parameters, using 5 fold cross validation, \n",
        "# search across 100 different combinations\n",
        "from sklearn.model_selection import RandomizedSearchCV\n",
        "rf_random = RandomizedSearchCV(estimator = classifier, param_distributions = random_grid,scoring='neg_mean_squared_error', n_iter = 10, cv = 5, \n",
        "                               verbose=2, random_state=42, n_jobs = 1)   \n",
        " ##cv is cross-validation,verbose is to display below code ,n_jobs are use the core of the computer"
      ],
      "execution_count": null,
      "outputs": []
    },
    {
      "cell_type": "code",
      "metadata": {
        "colab": {
          "base_uri": "https://localhost:8080/"
        },
        "id": "YWFMI3__60Hv",
        "outputId": "3ccca6d3-52ac-4fe1-fae4-6c94160b76b8"
      },
      "source": [
        "rf_random.fit(X_train,y_train)"
      ],
      "execution_count": null,
      "outputs": [
        {
          "output_type": "stream",
          "text": [
            "Fitting 5 folds for each of 10 candidates, totalling 50 fits\n",
            "[CV] n_estimators=900, min_samples_split=5, min_samples_leaf=5, max_features=sqrt, max_depth=10 \n"
          ],
          "name": "stdout"
        },
        {
          "output_type": "stream",
          "text": [
            "[Parallel(n_jobs=1)]: Using backend SequentialBackend with 1 concurrent workers.\n"
          ],
          "name": "stderr"
        },
        {
          "output_type": "stream",
          "text": [
            "[CV]  n_estimators=900, min_samples_split=5, min_samples_leaf=5, max_features=sqrt, max_depth=10, total=   3.9s\n",
            "[CV] n_estimators=900, min_samples_split=5, min_samples_leaf=5, max_features=sqrt, max_depth=10 \n"
          ],
          "name": "stdout"
        },
        {
          "output_type": "stream",
          "text": [
            "[Parallel(n_jobs=1)]: Done   1 out of   1 | elapsed:    3.9s remaining:    0.0s\n"
          ],
          "name": "stderr"
        },
        {
          "output_type": "stream",
          "text": [
            "[CV]  n_estimators=900, min_samples_split=5, min_samples_leaf=5, max_features=sqrt, max_depth=10, total=   8.4s\n",
            "[CV] n_estimators=900, min_samples_split=5, min_samples_leaf=5, max_features=sqrt, max_depth=10 \n",
            "[CV]  n_estimators=900, min_samples_split=5, min_samples_leaf=5, max_features=sqrt, max_depth=10, total=  10.1s\n",
            "[CV] n_estimators=900, min_samples_split=5, min_samples_leaf=5, max_features=sqrt, max_depth=10 \n",
            "[CV]  n_estimators=900, min_samples_split=5, min_samples_leaf=5, max_features=sqrt, max_depth=10, total=   9.0s\n",
            "[CV] n_estimators=900, min_samples_split=5, min_samples_leaf=5, max_features=sqrt, max_depth=10 \n",
            "[CV]  n_estimators=900, min_samples_split=5, min_samples_leaf=5, max_features=sqrt, max_depth=10, total=   8.9s\n",
            "[CV] n_estimators=1100, min_samples_split=10, min_samples_leaf=2, max_features=sqrt, max_depth=15 \n",
            "[CV]  n_estimators=1100, min_samples_split=10, min_samples_leaf=2, max_features=sqrt, max_depth=15, total=   5.3s\n",
            "[CV] n_estimators=1100, min_samples_split=10, min_samples_leaf=2, max_features=sqrt, max_depth=15 \n",
            "[CV]  n_estimators=1100, min_samples_split=10, min_samples_leaf=2, max_features=sqrt, max_depth=15, total=   5.2s\n",
            "[CV] n_estimators=1100, min_samples_split=10, min_samples_leaf=2, max_features=sqrt, max_depth=15 \n",
            "[CV]  n_estimators=1100, min_samples_split=10, min_samples_leaf=2, max_features=sqrt, max_depth=15, total=   5.3s\n",
            "[CV] n_estimators=1100, min_samples_split=10, min_samples_leaf=2, max_features=sqrt, max_depth=15 \n",
            "[CV]  n_estimators=1100, min_samples_split=10, min_samples_leaf=2, max_features=sqrt, max_depth=15, total=   5.2s\n",
            "[CV] n_estimators=1100, min_samples_split=10, min_samples_leaf=2, max_features=sqrt, max_depth=15 \n",
            "[CV]  n_estimators=1100, min_samples_split=10, min_samples_leaf=2, max_features=sqrt, max_depth=15, total=   5.2s\n",
            "[CV] n_estimators=300, min_samples_split=100, min_samples_leaf=5, max_features=auto, max_depth=15 \n",
            "[CV]  n_estimators=300, min_samples_split=100, min_samples_leaf=5, max_features=auto, max_depth=15, total=   1.2s\n",
            "[CV] n_estimators=300, min_samples_split=100, min_samples_leaf=5, max_features=auto, max_depth=15 \n",
            "[CV]  n_estimators=300, min_samples_split=100, min_samples_leaf=5, max_features=auto, max_depth=15, total=   1.3s\n",
            "[CV] n_estimators=300, min_samples_split=100, min_samples_leaf=5, max_features=auto, max_depth=15 \n",
            "[CV]  n_estimators=300, min_samples_split=100, min_samples_leaf=5, max_features=auto, max_depth=15, total=   1.3s\n",
            "[CV] n_estimators=300, min_samples_split=100, min_samples_leaf=5, max_features=auto, max_depth=15 \n",
            "[CV]  n_estimators=300, min_samples_split=100, min_samples_leaf=5, max_features=auto, max_depth=15, total=   1.3s\n",
            "[CV] n_estimators=300, min_samples_split=100, min_samples_leaf=5, max_features=auto, max_depth=15 \n",
            "[CV]  n_estimators=300, min_samples_split=100, min_samples_leaf=5, max_features=auto, max_depth=15, total=   1.3s\n",
            "[CV] n_estimators=400, min_samples_split=5, min_samples_leaf=5, max_features=auto, max_depth=15 \n",
            "[CV]  n_estimators=400, min_samples_split=5, min_samples_leaf=5, max_features=auto, max_depth=15, total=   1.8s\n",
            "[CV] n_estimators=400, min_samples_split=5, min_samples_leaf=5, max_features=auto, max_depth=15 \n",
            "[CV]  n_estimators=400, min_samples_split=5, min_samples_leaf=5, max_features=auto, max_depth=15, total=   1.8s\n",
            "[CV] n_estimators=400, min_samples_split=5, min_samples_leaf=5, max_features=auto, max_depth=15 \n",
            "[CV]  n_estimators=400, min_samples_split=5, min_samples_leaf=5, max_features=auto, max_depth=15, total=   1.8s\n",
            "[CV] n_estimators=400, min_samples_split=5, min_samples_leaf=5, max_features=auto, max_depth=15 \n",
            "[CV]  n_estimators=400, min_samples_split=5, min_samples_leaf=5, max_features=auto, max_depth=15, total=   1.8s\n",
            "[CV] n_estimators=400, min_samples_split=5, min_samples_leaf=5, max_features=auto, max_depth=15 \n",
            "[CV]  n_estimators=400, min_samples_split=5, min_samples_leaf=5, max_features=auto, max_depth=15, total=   1.9s\n",
            "[CV] n_estimators=700, min_samples_split=5, min_samples_leaf=10, max_features=auto, max_depth=20 \n",
            "[CV]  n_estimators=700, min_samples_split=5, min_samples_leaf=10, max_features=auto, max_depth=20, total=   3.2s\n",
            "[CV] n_estimators=700, min_samples_split=5, min_samples_leaf=10, max_features=auto, max_depth=20 \n",
            "[CV]  n_estimators=700, min_samples_split=5, min_samples_leaf=10, max_features=auto, max_depth=20, total=   3.1s\n",
            "[CV] n_estimators=700, min_samples_split=5, min_samples_leaf=10, max_features=auto, max_depth=20 \n",
            "[CV]  n_estimators=700, min_samples_split=5, min_samples_leaf=10, max_features=auto, max_depth=20, total=   3.2s\n",
            "[CV] n_estimators=700, min_samples_split=5, min_samples_leaf=10, max_features=auto, max_depth=20 \n",
            "[CV]  n_estimators=700, min_samples_split=5, min_samples_leaf=10, max_features=auto, max_depth=20, total=   3.1s\n",
            "[CV] n_estimators=700, min_samples_split=5, min_samples_leaf=10, max_features=auto, max_depth=20 \n",
            "[CV]  n_estimators=700, min_samples_split=5, min_samples_leaf=10, max_features=auto, max_depth=20, total=   3.2s\n",
            "[CV] n_estimators=1000, min_samples_split=2, min_samples_leaf=1, max_features=sqrt, max_depth=25 \n",
            "[CV]  n_estimators=1000, min_samples_split=2, min_samples_leaf=1, max_features=sqrt, max_depth=25, total=   5.7s\n",
            "[CV] n_estimators=1000, min_samples_split=2, min_samples_leaf=1, max_features=sqrt, max_depth=25 \n",
            "[CV]  n_estimators=1000, min_samples_split=2, min_samples_leaf=1, max_features=sqrt, max_depth=25, total=   5.7s\n",
            "[CV] n_estimators=1000, min_samples_split=2, min_samples_leaf=1, max_features=sqrt, max_depth=25 \n",
            "[CV]  n_estimators=1000, min_samples_split=2, min_samples_leaf=1, max_features=sqrt, max_depth=25, total=   5.7s\n",
            "[CV] n_estimators=1000, min_samples_split=2, min_samples_leaf=1, max_features=sqrt, max_depth=25 \n",
            "[CV]  n_estimators=1000, min_samples_split=2, min_samples_leaf=1, max_features=sqrt, max_depth=25, total=   5.8s\n",
            "[CV] n_estimators=1000, min_samples_split=2, min_samples_leaf=1, max_features=sqrt, max_depth=25 \n",
            "[CV]  n_estimators=1000, min_samples_split=2, min_samples_leaf=1, max_features=sqrt, max_depth=25, total=   5.6s\n",
            "[CV] n_estimators=1100, min_samples_split=15, min_samples_leaf=10, max_features=sqrt, max_depth=5 \n",
            "[CV]  n_estimators=1100, min_samples_split=15, min_samples_leaf=10, max_features=sqrt, max_depth=5, total=   3.6s\n",
            "[CV] n_estimators=1100, min_samples_split=15, min_samples_leaf=10, max_features=sqrt, max_depth=5 \n",
            "[CV]  n_estimators=1100, min_samples_split=15, min_samples_leaf=10, max_features=sqrt, max_depth=5, total=   3.6s\n",
            "[CV] n_estimators=1100, min_samples_split=15, min_samples_leaf=10, max_features=sqrt, max_depth=5 \n",
            "[CV]  n_estimators=1100, min_samples_split=15, min_samples_leaf=10, max_features=sqrt, max_depth=5, total=   3.5s\n",
            "[CV] n_estimators=1100, min_samples_split=15, min_samples_leaf=10, max_features=sqrt, max_depth=5 \n",
            "[CV]  n_estimators=1100, min_samples_split=15, min_samples_leaf=10, max_features=sqrt, max_depth=5, total=   3.6s\n",
            "[CV] n_estimators=1100, min_samples_split=15, min_samples_leaf=10, max_features=sqrt, max_depth=5 \n",
            "[CV]  n_estimators=1100, min_samples_split=15, min_samples_leaf=10, max_features=sqrt, max_depth=5, total=   3.5s\n",
            "[CV] n_estimators=300, min_samples_split=15, min_samples_leaf=1, max_features=sqrt, max_depth=15 \n",
            "[CV]  n_estimators=300, min_samples_split=15, min_samples_leaf=1, max_features=sqrt, max_depth=15, total=   1.4s\n",
            "[CV] n_estimators=300, min_samples_split=15, min_samples_leaf=1, max_features=sqrt, max_depth=15 \n",
            "[CV]  n_estimators=300, min_samples_split=15, min_samples_leaf=1, max_features=sqrt, max_depth=15, total=   1.4s\n",
            "[CV] n_estimators=300, min_samples_split=15, min_samples_leaf=1, max_features=sqrt, max_depth=15 \n",
            "[CV]  n_estimators=300, min_samples_split=15, min_samples_leaf=1, max_features=sqrt, max_depth=15, total=   1.4s\n",
            "[CV] n_estimators=300, min_samples_split=15, min_samples_leaf=1, max_features=sqrt, max_depth=15 \n",
            "[CV]  n_estimators=300, min_samples_split=15, min_samples_leaf=1, max_features=sqrt, max_depth=15, total=   1.4s\n",
            "[CV] n_estimators=300, min_samples_split=15, min_samples_leaf=1, max_features=sqrt, max_depth=15 \n",
            "[CV]  n_estimators=300, min_samples_split=15, min_samples_leaf=1, max_features=sqrt, max_depth=15, total=   1.4s\n",
            "[CV] n_estimators=700, min_samples_split=10, min_samples_leaf=2, max_features=sqrt, max_depth=5 \n",
            "[CV]  n_estimators=700, min_samples_split=10, min_samples_leaf=2, max_features=sqrt, max_depth=5, total=   2.3s\n",
            "[CV] n_estimators=700, min_samples_split=10, min_samples_leaf=2, max_features=sqrt, max_depth=5 \n",
            "[CV]  n_estimators=700, min_samples_split=10, min_samples_leaf=2, max_features=sqrt, max_depth=5, total=   2.3s\n",
            "[CV] n_estimators=700, min_samples_split=10, min_samples_leaf=2, max_features=sqrt, max_depth=5 \n",
            "[CV]  n_estimators=700, min_samples_split=10, min_samples_leaf=2, max_features=sqrt, max_depth=5, total=   2.3s\n",
            "[CV] n_estimators=700, min_samples_split=10, min_samples_leaf=2, max_features=sqrt, max_depth=5 \n",
            "[CV]  n_estimators=700, min_samples_split=10, min_samples_leaf=2, max_features=sqrt, max_depth=5, total=   2.3s\n",
            "[CV] n_estimators=700, min_samples_split=10, min_samples_leaf=2, max_features=sqrt, max_depth=5 \n",
            "[CV]  n_estimators=700, min_samples_split=10, min_samples_leaf=2, max_features=sqrt, max_depth=5, total=   2.3s\n",
            "[CV] n_estimators=700, min_samples_split=15, min_samples_leaf=1, max_features=auto, max_depth=20 \n",
            "[CV]  n_estimators=700, min_samples_split=15, min_samples_leaf=1, max_features=auto, max_depth=20, total=   3.5s\n",
            "[CV] n_estimators=700, min_samples_split=15, min_samples_leaf=1, max_features=auto, max_depth=20 \n",
            "[CV]  n_estimators=700, min_samples_split=15, min_samples_leaf=1, max_features=auto, max_depth=20, total=   3.5s\n",
            "[CV] n_estimators=700, min_samples_split=15, min_samples_leaf=1, max_features=auto, max_depth=20 \n",
            "[CV]  n_estimators=700, min_samples_split=15, min_samples_leaf=1, max_features=auto, max_depth=20, total=   3.5s\n",
            "[CV] n_estimators=700, min_samples_split=15, min_samples_leaf=1, max_features=auto, max_depth=20 \n",
            "[CV]  n_estimators=700, min_samples_split=15, min_samples_leaf=1, max_features=auto, max_depth=20, total=   3.5s\n",
            "[CV] n_estimators=700, min_samples_split=15, min_samples_leaf=1, max_features=auto, max_depth=20 \n",
            "[CV]  n_estimators=700, min_samples_split=15, min_samples_leaf=1, max_features=auto, max_depth=20, total=   3.5s\n"
          ],
          "name": "stdout"
        },
        {
          "output_type": "stream",
          "text": [
            "[Parallel(n_jobs=1)]: Done  50 out of  50 | elapsed:  3.0min finished\n"
          ],
          "name": "stderr"
        },
        {
          "output_type": "execute_result",
          "data": {
            "text/plain": [
              "RandomizedSearchCV(cv=5, error_score=nan,\n",
              "                   estimator=RandomForestClassifier(bootstrap=True,\n",
              "                                                    ccp_alpha=0.0,\n",
              "                                                    class_weight=None,\n",
              "                                                    criterion='gini',\n",
              "                                                    max_depth=None,\n",
              "                                                    max_features='auto',\n",
              "                                                    max_leaf_nodes=None,\n",
              "                                                    max_samples=None,\n",
              "                                                    min_impurity_decrease=0.0,\n",
              "                                                    min_impurity_split=None,\n",
              "                                                    min_samples_leaf=1,\n",
              "                                                    min_samples_split=2,\n",
              "                                                    min_weight_fraction_leaf=0.0,\n",
              "                                                    n_estimators=100,\n",
              "                                                    n_jobs...\n",
              "                   iid='deprecated', n_iter=10, n_jobs=1,\n",
              "                   param_distributions={'max_depth': [5, 10, 15, 20, 25, 30],\n",
              "                                        'max_features': ['auto', 'sqrt'],\n",
              "                                        'min_samples_leaf': [1, 2, 5, 10],\n",
              "                                        'min_samples_split': [2, 5, 10, 15,\n",
              "                                                              100],\n",
              "                                        'n_estimators': [100, 200, 300, 400,\n",
              "                                                         500, 600, 700, 800,\n",
              "                                                         900, 1000, 1100,\n",
              "                                                         1200]},\n",
              "                   pre_dispatch='2*n_jobs', random_state=42, refit=True,\n",
              "                   return_train_score=False, scoring='neg_mean_squared_error',\n",
              "                   verbose=2)"
            ]
          },
          "metadata": {
            "tags": []
          },
          "execution_count": 45
        }
      ]
    },
    {
      "cell_type": "code",
      "metadata": {
        "id": "MsMhDCLc7Bgj"
      },
      "source": [
        "predictions=rf_random.predict(X_test)"
      ],
      "execution_count": null,
      "outputs": []
    },
    {
      "cell_type": "code",
      "metadata": {
        "id": "FMxeXsRE81Xz",
        "colab": {
          "base_uri": "https://localhost:8080/"
        },
        "outputId": "2de70586-ff04-4e1e-a5cf-de965f076a34"
      },
      "source": [
        "from sklearn.metrics import accuracy_score\n",
        "acc=accuracy_score(y_test,predictions)*100\n",
        "acc"
      ],
      "execution_count": null,
      "outputs": [
        {
          "output_type": "execute_result",
          "data": {
            "text/plain": [
              "93.31293706293707"
            ]
          },
          "metadata": {
            "tags": []
          },
          "execution_count": 47
        }
      ]
    },
    {
      "cell_type": "code",
      "metadata": {
        "id": "1yGNc6DP-vQI",
        "colab": {
          "base_uri": "https://localhost:8080/",
          "height": 394
        },
        "outputId": "24f692c8-ff58-47cd-8a60-8bc9994090ac"
      },
      "source": [
        "from sklearn.metrics import confusion_matrix,classification_report\n",
        "cf=confusion_matrix(y_test,predictions)\n",
        "cf_matrix=pd.DataFrame(data=cf,columns=['Predicted:0','Predicted:1'],index=['Actual:0','Actual:1'])\n",
        "plt.figure(figsize=(8,6))\n",
        "sns.heatmap(cf_matrix,annot=True,fmt='d',cmap='BrBG')\n",
        "fm={'size':18,'color':'#fbb4ae','weight':'bold'}\n",
        "plt.title('Logistic Model',**fm)\n",
        "plt.show()"
      ],
      "execution_count": null,
      "outputs": [
        {
          "output_type": "display_data",
          "data": {
            "image/png": "[encoded data removed]",
            "text/plain": [
              "<Figure size 576x432 with 2 Axes>"
            ]
          },
          "metadata": {
            "tags": [],
            "needs_background": "light"
          }
        }
      ]
    },
    {
      "cell_type": "markdown",
      "metadata": {
        "id": "CHLavMiQ_kK3"
      },
      "source": [
        "The confusion matrix shows 1551+584=2135 correct prediction and 132+21=153 incorrect ones\n",
        "\n",
        "---\n",
        "\n",
        "\n",
        "\n",
        "1.   True Positive -584\n",
        "2.   True Negtive-1551\n",
        "3.   False Positive -21 (Type I error)\n",
        "4.   False Negtive-132  (Type II error)\n",
        "\n",
        "---\n",
        "\n",
        "\n"
      ]
    },
    {
      "cell_type": "code",
      "metadata": {
        "id": "AW-VyXhGA-5b",
        "colab": {
          "base_uri": "https://localhost:8080/"
        },
        "outputId": "6c59a5bf-3d14-4685-f4a6-ebeddd64dbda"
      },
      "source": [
        "TN=cf[0,0]\n",
        "TP=cf[1,1]\n",
        "FN=cf[1,0]\n",
        "FP=cf[0,1]\n",
        "sensitivity=TP/float(TP+FN)\n",
        "specificity=TN/float(TN+FP)\n",
        "print('True Negative:',TN)\n",
        "print('True Positive:',TP)\n",
        "print('False Negative:',FN)\n",
        "print('False Positive:',FP)\n",
        "print('sensitivity:',sensitivity)\n",
        "print('specificity:',specificity)"
      ],
      "execution_count": null,
      "outputs": [
        {
          "output_type": "stream",
          "text": [
            "True Negative: 1552\n",
            "True Positive: 583\n",
            "False Negative: 133\n",
            "False Positive: 20\n",
            "sensitivity: 0.8142458100558659\n",
            "specificity: 0.9872773536895675\n"
          ],
          "name": "stdout"
        }
      ]
    },
    {
      "cell_type": "code",
      "metadata": {
        "id": "ioidk3zN_h4V",
        "colab": {
          "base_uri": "https://localhost:8080/"
        },
        "outputId": "3cc15335-dd18-4bb5-ebf1-22634e951e7c"
      },
      "source": [
        "print('The accuracy of the model= TP+TN/(TP+TN+FP+FN)=',(TP+TN)/float(TP+TN+FP+FN),'\\n\\n',\n",
        "\n",
        "'Misclassification =1-Accuracy =',1-((TP+TN)/float(TP+TN+FP+FN)), '\\n\\n',\n",
        "\n",
        "'Sensitivity or True positive Rate = TP/(TP+FN)=',TP/float(TP+FN),'\\n\\n', \n",
        "#Sensitivity is a measure of the proportion of actual positive cases that got predicted as positive (or true positive).\n",
        "'Specificity or True Negative Rate = TN/(TN+FP)=',TN/float(TN+FP),'\\n\\n',\n",
        "#Specificity is defined as the proportion of actual negatives, which got predicted as the negative (or true negative). \n",
        "'Positive Predictive value = TP/(TP+FP)=',TP/float(TP+FP),'\\n\\n',\n",
        "\n",
        "'Negative Predictive value=TN/(TN+FN)=',TN/(TN+FN),'\\n\\n',\n",
        "\n",
        "'Positive Likelihood Ratio =Sensitivity/(1-Specificity)=',sensitivity/(1-specificity),'\\n\\n',\n",
        "\n",
        "'Negative Likelihood Ratio =(1-Sensitivity)/Specificity=',(1-sensitivity)/specificity)\n"
      ],
      "execution_count": null,
      "outputs": [
        {
          "output_type": "stream",
          "text": [
            "The accuracy of the model= TP+TN/(TP+TN+FP+FN)= 0.9331293706293706 \n",
            "\n",
            " Misclassification =1-Accuracy = 0.06687062937062938 \n",
            "\n",
            " Sensitivity or True positive Rate = TP/(TP+FN)= 0.8142458100558659 \n",
            "\n",
            " Specificity or True Negative Rate = TN/(TN+FP)= 0.9872773536895675 \n",
            "\n",
            " Positive Predictive value = TP/(TP+FP)= 0.966832504145937 \n",
            "\n",
            " Negative Predictive value=TN/(TN+FN)= 0.9210682492581602 \n",
            "\n",
            " Positive Likelihood Ratio =Sensitivity/(1-Specificity)= 63.999720670391326 \n",
            "\n",
            " Negative Likelihood Ratio =(1-Sensitivity)/Specificity= 0.1881479295052698\n"
          ],
          "name": "stdout"
        }
      ]
    },
    {
      "cell_type": "markdown",
      "metadata": {
        "id": "YGptXy3wmIan"
      },
      "source": [
        "It's important to recognize that sensitivity and specificity exist in a state of balance. Increased sensitivity – the ability to correctly identify people who have the disease — usually comes at the expense of reduced specificity (meaning more false-positives).\n",
        "\n",
        "---\n",
        "\n",
        "The specificity of a test is its ability to designate an individual who does not have a disease as negative.\n",
        "\n",
        "---\n",
        "For a test to be useful, sensitivity+specificity should be at least 1.5 (halfway between 1, which is useless, and 2, which is perfect).Whereas we have 1.79 Lets see we can get near 2 or not\n",
        "\n",
        "\n",
        "---\n",
        "From the above statistics we can see model is slightly specific than sensitive.The negative value is slightly higher than postive ones.\n"
      ]
    },
    {
      "cell_type": "markdown",
      "metadata": {
        "id": "VgvkKGevroh0"
      },
      "source": [
        "**Predicted Probabilities of 0(probability of having no condition) and 1 (probability of having condition) for the test data with a default classification threshold 0.5**"
      ]
    },
    {
      "cell_type": "code",
      "metadata": {
        "id": "SDonrBaarReq",
        "colab": {
          "base_uri": "https://localhost:8080/",
          "height": 204
        },
        "outputId": "be776aad-facb-4f1d-e74b-2561f8f1fe89"
      },
      "source": [
        "y_pred_prob=rf_random.predict_proba(X_test)[:,:]\n",
        "y_pred_prob_df=pd.DataFrame(data=y_pred_prob,columns=['probability of having no condition(0))','probability of having condition(1)'])\n",
        "y_pred_prob_df.head()"
      ],
      "execution_count": null,
      "outputs": [
        {
          "output_type": "execute_result",
          "data": {
            "text/html": [
              "<div>\n",
              "<style scoped>\n",
              "    .dataframe tbody tr th:only-of-type {\n",
              "        vertical-align: middle;\n",
              "    }\n",
              "\n",
              "    .dataframe tbody tr th {\n",
              "        vertical-align: top;\n",
              "    }\n",
              "\n",
              "    .dataframe thead th {\n",
              "        text-align: right;\n",
              "    }\n",
              "</style>\n",
              "<table border=\"1\" class=\"dataframe\">\n",
              "  <thead>\n",
              "    <tr style=\"text-align: right;\">\n",
              "      <th></th>\n",
              "      <th>probability of having no condition(0))</th>\n",
              "      <th>probability of having condition(1)</th>\n",
              "    </tr>\n",
              "  </thead>\n",
              "  <tbody>\n",
              "    <tr>\n",
              "      <th>0</th>\n",
              "      <td>0.521992</td>\n",
              "      <td>0.478008</td>\n",
              "    </tr>\n",
              "    <tr>\n",
              "      <th>1</th>\n",
              "      <td>0.006000</td>\n",
              "      <td>0.994000</td>\n",
              "    </tr>\n",
              "    <tr>\n",
              "      <th>2</th>\n",
              "      <td>0.732544</td>\n",
              "      <td>0.267456</td>\n",
              "    </tr>\n",
              "    <tr>\n",
              "      <th>3</th>\n",
              "      <td>0.977100</td>\n",
              "      <td>0.022900</td>\n",
              "    </tr>\n",
              "    <tr>\n",
              "      <th>4</th>\n",
              "      <td>0.991081</td>\n",
              "      <td>0.008919</td>\n",
              "    </tr>\n",
              "  </tbody>\n",
              "</table>\n",
              "</div>"
            ],
            "text/plain": [
              "   probability of having no condition(0))  probability of having condition(1)\n",
              "0                                0.521992                            0.478008\n",
              "1                                0.006000                            0.994000\n",
              "2                                0.732544                            0.267456\n",
              "3                                0.977100                            0.022900\n",
              "4                                0.991081                            0.008919"
            ]
          },
          "metadata": {
            "tags": []
          },
          "execution_count": 51
        }
      ]
    },
    {
      "cell_type": "markdown",
      "metadata": {
        "id": "KKk8B02Zs_c7"
      },
      "source": [
        "predict_proba give us the probability of binary classification of labels (0 & 1)\n",
        "\n",
        "---\n",
        "Since the model is predicting too much type II error of probability of having condition,which is not advisable .A False Negative is more dangerous than False Positive in this case.Hence to increase the sensitivity we can lower the threshold.\n",
        "\n"
      ]
    },
    {
      "cell_type": "code",
      "metadata": {
        "id": "hvBRfytx-vdx",
        "colab": {
          "base_uri": "https://localhost:8080/"
        },
        "outputId": "88363ade-4712-4d28-88eb-4b11bb839886"
      },
      "source": [
        "from sklearn.preprocessing import binarize\n",
        "for i in range(1,5):\n",
        "  cm2=[]\n",
        "  y_pred_prob_yes=rf_random.predict_proba(X_test)\n",
        "  y_pred2=binarize(y_pred_prob_yes,i/10)[:,1]\n",
        "  cm2=confusion_matrix(y_test,y_pred2)\n",
        "  print('With',i/10,'threshold the confusion matrix is','\\n',cm2,'\\n',\n",
        "        'with',cm2[0,0]+cm2[1,1],'correct predictions and',cm2[1,0],'Type II error(False Negatives)','\\n\\n',\n",
        "        'Sensitivity:',cm2[1,1]/(float(cm2[1,1]+cm2[1,0])),'Specificity:',cm2[0,0]/(float(cm2[0,0]+cm2[0,1])),'\\n\\n\\n')"
      ],
      "execution_count": null,
      "outputs": [
        {
          "output_type": "stream",
          "text": [
            "With 0.1 threshold the confusion matrix is \n",
            " [[1168  404]\n",
            " [  32  684]] \n",
            " with 1852 correct predictions and 32 Type II error(False Negatives) \n",
            "\n",
            " Sensitivity: 0.9553072625698324 Specificity: 0.7430025445292621 \n",
            "\n",
            "\n",
            "\n",
            "With 0.2 threshold the confusion matrix is \n",
            " [[1385  187]\n",
            " [  53  663]] \n",
            " with 2048 correct predictions and 53 Type II error(False Negatives) \n",
            "\n",
            " Sensitivity: 0.9259776536312849 Specificity: 0.8810432569974554 \n",
            "\n",
            "\n",
            "\n",
            "With 0.3 threshold the confusion matrix is \n",
            " [[1483   89]\n",
            " [  75  641]] \n",
            " with 2124 correct predictions and 75 Type II error(False Negatives) \n",
            "\n",
            " Sensitivity: 0.8952513966480447 Specificity: 0.943384223918575 \n",
            "\n",
            "\n",
            "\n",
            "With 0.4 threshold the confusion matrix is \n",
            " [[1526   46]\n",
            " [ 108  608]] \n",
            " with 2134 correct predictions and 108 Type II error(False Negatives) \n",
            "\n",
            " Sensitivity: 0.8491620111731844 Specificity: 0.9707379134860051 \n",
            "\n",
            "\n",
            "\n"
          ],
          "name": "stdout"
        }
      ]
    },
    {
      "cell_type": "markdown",
      "metadata": {
        "id": "NVIW6XZlzZwY"
      },
      "source": [
        "Using [:,1] in the code will give the probabilities of getting the output as 1. Replacing 1 with 0 in the above code, it will only give the probabilities of getting the output as 0.\n",
        "\n",
        "---\n",
        "Threshold value 0.1 & 0.2 giving more sensitivity than specificity as we want for our model\n"
      ]
    },
    {
      "cell_type": "code",
      "metadata": {
        "id": "6vHvDj5Qz_oD",
        "colab": {
          "base_uri": "https://localhost:8080/",
          "height": 295
        },
        "outputId": "2778e333-e4cd-42f6-aecb-ced0eef8722f"
      },
      "source": [
        "from sklearn.metrics import roc_curve\n",
        "fpr,tpr,threshold=roc_curve(y_test,y_pred_prob_yes[:,1])\n",
        "plt.plot(fpr,tpr)\n",
        "plt.xlim([0.0,0.1])\n",
        "plt.ylim([0.0,1.0])\n",
        "plt.title('Roc curve for Patient Health Classifier')\n",
        "plt.xlabel('False positive rate(1-Specificity)')\n",
        "plt.ylabel('True positive rate(Sensitivity)')\n",
        "plt.grid(True)"
      ],
      "execution_count": null,
      "outputs": [
        {
          "output_type": "display_data",
          "data": {
            "image/png": "[encoded data removed]",
            "text/plain": [
              "<Figure size 432x288 with 1 Axes>"
            ]
          },
          "metadata": {
            "tags": [],
            "needs_background": "light"
          }
        }
      ]
    },
    {
      "cell_type": "code",
      "metadata": {
        "id": "m5F4Ti0j1L1g",
        "colab": {
          "base_uri": "https://localhost:8080/"
        },
        "outputId": "16a32f57-1643-4dcd-ac62-379249f28769"
      },
      "source": [
        "import sklearn\n",
        "roc_score=sklearn.metrics.roc_auc_score(y_test,y_pred_prob_yes[:,1])\n",
        "print(round(roc_score,2)*100)"
      ],
      "execution_count": null,
      "outputs": [
        {
          "output_type": "stream",
          "text": [
            "97.0\n"
          ],
          "name": "stdout"
        }
      ]
    },
    {
      "cell_type": "markdown",
      "metadata": {
        "id": "4B9p2jHY2s27"
      },
      "source": [
        "**Conclusion:**\n",
        "\n",
        "*   All attributes selected after the elimination process show P-values lower than 5% and thereby suggesting a significant role in the Patient Health Prediction.\n",
        "*   Men seem to be slightly susceptible than women.Patient suffering mostly by obeseity,hypertension,prediabetes,and it continous life long for most of the encounterclass who are encountered.\n",
        "\n",
        "*   The model is predicted with 0.93% accuracies.The model is slightly more specific than sensitive.\n",
        "*   The Area under ROC curve is 97% almost equal to 1,which is satisfactory.\n",
        "\n",
        "\n",
        "*   We can conclude that the overall model is good.\n",
        "\n",
        "\n",
        "\n",
        "\n",
        "\n"
      ]
    },
    {
      "cell_type": "markdown",
      "metadata": {
        "id": "19vewEN41r8M"
      },
      "source": [
        "The higher the area ,the greater is the disparity between true and false positive.An area of 1 is ideal --the closer the AUC to 1,better is the result"
      ]
    },
    {
      "cell_type": "markdown",
      "metadata": {
        "id": "ztqTnDAI5W5t"
      },
      "source": [
        "**MEDICAL COST PREDICTION**"
      ]
    },
    {
      "cell_type": "code",
      "metadata": {
        "id": "cvVODA672P9D"
      },
      "source": [
        "encounter_feature_class=encounters.groupby(['PATIENT']).head(50)\n",
        "##Generating feature for the encounter class feature to get the medical expenses report\n",
        "encountersclass_feature=encounter_feature_class[['PATIENT','ENCOUNTERCLASS','Id']].groupby(['PATIENT','ENCOUNTERCLASS']).count().reset_index()"
      ],
      "execution_count": null,
      "outputs": []
    },
    {
      "cell_type": "code",
      "metadata": {
        "id": "NFjQNUxR6dw4"
      },
      "source": [
        "encountersclass_feature=pd.pivot_table(encountersclass_feature,values='Id',index=['PATIENT'],columns=['ENCOUNTERCLASS'],aggfunc=np.sum)\\\n",
        ".reset_index()\n",
        "encountersclass_feature=encountersclass_feature.fillna(0)"
      ],
      "execution_count": null,
      "outputs": []
    },
    {
      "cell_type": "code",
      "metadata": {
        "id": "yRfQnZqg7OGb",
        "colab": {
          "base_uri": "https://localhost:8080/",
          "height": 233
        },
        "outputId": "1f367c82-512b-45fa-e51b-baf77b86e905"
      },
      "source": [
        "#merge with patient feature\n",
        "med_prc=pd.merge(encountersclass_feature,patient_features,left_on='PATIENT',right_on='Id',how='inner')\n",
        "med_prc.head(n=2)"
      ],
      "execution_count": null,
      "outputs": [
        {
          "output_type": "execute_result",
          "data": {
            "text/html": [
              "<div>\n",
              "<style scoped>\n",
              "    .dataframe tbody tr th:only-of-type {\n",
              "        vertical-align: middle;\n",
              "    }\n",
              "\n",
              "    .dataframe tbody tr th {\n",
              "        vertical-align: top;\n",
              "    }\n",
              "\n",
              "    .dataframe thead th {\n",
              "        text-align: right;\n",
              "    }\n",
              "</style>\n",
              "<table border=\"1\" class=\"dataframe\">\n",
              "  <thead>\n",
              "    <tr style=\"text-align: right;\">\n",
              "      <th></th>\n",
              "      <th>PATIENT</th>\n",
              "      <th>ambulatory</th>\n",
              "      <th>emergency</th>\n",
              "      <th>inpatient</th>\n",
              "      <th>outpatient</th>\n",
              "      <th>urgentcare</th>\n",
              "      <th>wellness</th>\n",
              "      <th>Id</th>\n",
              "      <th>AGE</th>\n",
              "      <th>pat_gt_GENDER_F</th>\n",
              "      <th>pat_gt_GENDER_M</th>\n",
              "      <th>pat_gt_RACE_asian</th>\n",
              "      <th>pat_gt_RACE_black</th>\n",
              "      <th>pat_gt_RACE_native</th>\n",
              "      <th>pat_gt_RACE_other</th>\n",
              "      <th>pat_gt_RACE_white</th>\n",
              "      <th>pat_gt_ETHNICITY_hispanic</th>\n",
              "      <th>pat_gt_ETHNICITY_nonhispanic</th>\n",
              "      <th>pat_gt_MARITAL_M</th>\n",
              "      <th>pat_gt_MARITAL_S</th>\n",
              "    </tr>\n",
              "  </thead>\n",
              "  <tbody>\n",
              "    <tr>\n",
              "      <th>0</th>\n",
              "      <td>0002edb7-9477-4bc9-a2b7-d5137e7e9ed4</td>\n",
              "      <td>9.0</td>\n",
              "      <td>2.0</td>\n",
              "      <td>0.0</td>\n",
              "      <td>6.0</td>\n",
              "      <td>1.0</td>\n",
              "      <td>32.0</td>\n",
              "      <td>0002edb7-9477-4bc9-a2b7-d5137e7e9ed4</td>\n",
              "      <td>0.0</td>\n",
              "      <td>0</td>\n",
              "      <td>1</td>\n",
              "      <td>0</td>\n",
              "      <td>0</td>\n",
              "      <td>0</td>\n",
              "      <td>0</td>\n",
              "      <td>1</td>\n",
              "      <td>0</td>\n",
              "      <td>1</td>\n",
              "      <td>0</td>\n",
              "      <td>1</td>\n",
              "    </tr>\n",
              "    <tr>\n",
              "      <th>1</th>\n",
              "      <td>00059e58-4f1f-49de-b008-3ec6c2aac7e7</td>\n",
              "      <td>15.0</td>\n",
              "      <td>1.0</td>\n",
              "      <td>0.0</td>\n",
              "      <td>6.0</td>\n",
              "      <td>0.0</td>\n",
              "      <td>28.0</td>\n",
              "      <td>00059e58-4f1f-49de-b008-3ec6c2aac7e7</td>\n",
              "      <td>0.0</td>\n",
              "      <td>1</td>\n",
              "      <td>0</td>\n",
              "      <td>0</td>\n",
              "      <td>0</td>\n",
              "      <td>0</td>\n",
              "      <td>0</td>\n",
              "      <td>1</td>\n",
              "      <td>0</td>\n",
              "      <td>1</td>\n",
              "      <td>1</td>\n",
              "      <td>0</td>\n",
              "    </tr>\n",
              "  </tbody>\n",
              "</table>\n",
              "</div>"
            ],
            "text/plain": [
              "                                PATIENT  ...  pat_gt_MARITAL_S\n",
              "0  0002edb7-9477-4bc9-a2b7-d5137e7e9ed4  ...                 1\n",
              "1  00059e58-4f1f-49de-b008-3ec6c2aac7e7  ...                 0\n",
              "\n",
              "[2 rows x 20 columns]"
            ]
          },
          "metadata": {
            "tags": []
          },
          "execution_count": 57
        }
      ]
    },
    {
      "cell_type": "code",
      "metadata": {
        "id": "9LqnDEa77vm6",
        "colab": {
          "base_uri": "https://localhost:8080/",
          "height": 233
        },
        "outputId": "4148ee5f-b489-4689-8ddd-f86a9149a8dc"
      },
      "source": [
        "med_prc_target=encounters[~encounters['Id'].isin(encounter_feature_class['Id'])]\n",
        "med_prc_target.head(n=2)"
      ],
      "execution_count": null,
      "outputs": [
        {
          "output_type": "execute_result",
          "data": {
            "text/html": [
              "<div>\n",
              "<style scoped>\n",
              "    .dataframe tbody tr th:only-of-type {\n",
              "        vertical-align: middle;\n",
              "    }\n",
              "\n",
              "    .dataframe tbody tr th {\n",
              "        vertical-align: top;\n",
              "    }\n",
              "\n",
              "    .dataframe thead th {\n",
              "        text-align: right;\n",
              "    }\n",
              "</style>\n",
              "<table border=\"1\" class=\"dataframe\">\n",
              "  <thead>\n",
              "    <tr style=\"text-align: right;\">\n",
              "      <th></th>\n",
              "      <th>Id</th>\n",
              "      <th>START</th>\n",
              "      <th>STOP</th>\n",
              "      <th>PATIENT</th>\n",
              "      <th>PROVIDER</th>\n",
              "      <th>PAYER</th>\n",
              "      <th>ENCOUNTERCLASS</th>\n",
              "      <th>CODE</th>\n",
              "      <th>DESCRIPTION</th>\n",
              "      <th>BASE_ENCOUNTER_COST</th>\n",
              "      <th>TOTAL_CLAIM_COST</th>\n",
              "      <th>PAYER_COVERAGE</th>\n",
              "      <th>REASONCODE</th>\n",
              "      <th>REASONDESCRIPTION</th>\n",
              "      <th>START_DATE</th>\n",
              "    </tr>\n",
              "  </thead>\n",
              "  <tbody>\n",
              "    <tr>\n",
              "      <th>255</th>\n",
              "      <td>e2c0e7aa-1f9f-4e92-941d-6e217985443b</td>\n",
              "      <td>2011-01-22T09:26:00Z</td>\n",
              "      <td>2011-01-22T10:41:00Z</td>\n",
              "      <td>2d0a9468-9cc7-47c6-a757-2944fb7a754d</td>\n",
              "      <td>c44f361c-2efb-3050-8f97-0354a12e2920</td>\n",
              "      <td>5059a55e-5d6e-34d1-b6cb-d83d16e57bcf</td>\n",
              "      <td>ambulatory</td>\n",
              "      <td>185347001</td>\n",
              "      <td>Encounter for problem</td>\n",
              "      <td>129.16</td>\n",
              "      <td>129.16</td>\n",
              "      <td>59.16</td>\n",
              "      <td>192127007.0</td>\n",
              "      <td>Child attention deficit disorder</td>\n",
              "      <td>2011-01-22</td>\n",
              "    </tr>\n",
              "    <tr>\n",
              "      <th>256</th>\n",
              "      <td>1bfc13eb-cfbb-4923-9329-e39c2d2212b0</td>\n",
              "      <td>2011-02-03T09:26:00Z</td>\n",
              "      <td>2011-02-03T09:41:00Z</td>\n",
              "      <td>2d0a9468-9cc7-47c6-a757-2944fb7a754d</td>\n",
              "      <td>c44f361c-2efb-3050-8f97-0354a12e2920</td>\n",
              "      <td>5059a55e-5d6e-34d1-b6cb-d83d16e57bcf</td>\n",
              "      <td>ambulatory</td>\n",
              "      <td>185349003</td>\n",
              "      <td>Encounter for 'check-up'</td>\n",
              "      <td>129.16</td>\n",
              "      <td>129.16</td>\n",
              "      <td>59.16</td>\n",
              "      <td>263102004.0</td>\n",
              "      <td>Fracture subluxation of wrist</td>\n",
              "      <td>2011-02-03</td>\n",
              "    </tr>\n",
              "  </tbody>\n",
              "</table>\n",
              "</div>"
            ],
            "text/plain": [
              "                                       Id  ... START_DATE\n",
              "255  e2c0e7aa-1f9f-4e92-941d-6e217985443b  ... 2011-01-22\n",
              "256  1bfc13eb-cfbb-4923-9329-e39c2d2212b0  ... 2011-02-03\n",
              "\n",
              "[2 rows x 15 columns]"
            ]
          },
          "metadata": {
            "tags": []
          },
          "execution_count": 58
        }
      ]
    },
    {
      "cell_type": "code",
      "metadata": {
        "id": "5QYbxQbE8MQ-"
      },
      "source": [
        "med_prc_target=med_prc_target.groupby(['PATIENT'])\\\n",
        ".agg({'BASE_ENCOUNTER_COST':'sum',\n",
        "      'TOTAL_CLAIM_COST':'sum',\n",
        "      'PAYER_COVERAGE':'sum'}).reset_index()"
      ],
      "execution_count": null,
      "outputs": []
    },
    {
      "cell_type": "code",
      "metadata": {
        "id": "ewf9xntD82pz"
      },
      "source": [
        "final_price_pred=pd.merge(med_prc,med_prc_target,left_on='PATIENT',right_on='PATIENT',how='inner')"
      ],
      "execution_count": null,
      "outputs": []
    },
    {
      "cell_type": "code",
      "metadata": {
        "id": "K4RuWLE7HGFV",
        "colab": {
          "base_uri": "https://localhost:8080/"
        },
        "outputId": "2b6f72b5-9e13-412f-b074-70554ec80e43"
      },
      "source": [
        "final_price_pred.info()"
      ],
      "execution_count": null,
      "outputs": [
        {
          "output_type": "stream",
          "text": [
            "<class 'pandas.core.frame.DataFrame'>\n",
            "Int64Index: 8526 entries, 0 to 8525\n",
            "Data columns (total 23 columns):\n",
            " #   Column                        Non-Null Count  Dtype  \n",
            "---  ------                        --------------  -----  \n",
            " 0   PATIENT                       8526 non-null   object \n",
            " 1   ambulatory                    8526 non-null   float64\n",
            " 2   emergency                     8526 non-null   float64\n",
            " 3   inpatient                     8526 non-null   float64\n",
            " 4   outpatient                    8526 non-null   float64\n",
            " 5   urgentcare                    8526 non-null   float64\n",
            " 6   wellness                      8526 non-null   float64\n",
            " 7   Id                            8526 non-null   object \n",
            " 8   AGE                           8526 non-null   float64\n",
            " 9   pat_gt_GENDER_F               8526 non-null   uint8  \n",
            " 10  pat_gt_GENDER_M               8526 non-null   uint8  \n",
            " 11  pat_gt_RACE_asian             8526 non-null   uint8  \n",
            " 12  pat_gt_RACE_black             8526 non-null   uint8  \n",
            " 13  pat_gt_RACE_native            8526 non-null   uint8  \n",
            " 14  pat_gt_RACE_other             8526 non-null   uint8  \n",
            " 15  pat_gt_RACE_white             8526 non-null   uint8  \n",
            " 16  pat_gt_ETHNICITY_hispanic     8526 non-null   uint8  \n",
            " 17  pat_gt_ETHNICITY_nonhispanic  8526 non-null   uint8  \n",
            " 18  pat_gt_MARITAL_M              8526 non-null   uint8  \n",
            " 19  pat_gt_MARITAL_S              8526 non-null   uint8  \n",
            " 20  BASE_ENCOUNTER_COST           8526 non-null   float64\n",
            " 21  TOTAL_CLAIM_COST              8526 non-null   float64\n",
            " 22  PAYER_COVERAGE                8526 non-null   float64\n",
            "dtypes: float64(10), object(2), uint8(11)\n",
            "memory usage: 957.5+ KB\n"
          ],
          "name": "stdout"
        }
      ]
    },
    {
      "cell_type": "code",
      "metadata": {
        "id": "jTRG8lKuHVH7"
      },
      "source": [
        "numeric_lst=['int16','int32','int64','float16','float32','float64']\n",
        "numerical_cols=list(final_price_pred.select_dtypes(include=numeric_lst).columns)"
      ],
      "execution_count": null,
      "outputs": []
    },
    {
      "cell_type": "code",
      "metadata": {
        "id": "7mipn-kWH1AM"
      },
      "source": [
        "final_price_pred=final_price_pred[numerical_cols]"
      ],
      "execution_count": null,
      "outputs": []
    },
    {
      "cell_type": "markdown",
      "metadata": {
        "id": "_WXTQ7zJIhn-"
      },
      "source": [
        "For regression problem to find out the pricing we are doing feature selection as mutual information"
      ]
    },
    {
      "cell_type": "code",
      "metadata": {
        "id": "8IKq0YIhICZY",
        "colab": {
          "base_uri": "https://localhost:8080/",
          "height": 131
        },
        "outputId": "9ea090e4-f766-4d43-8129-2a495b5f8003"
      },
      "source": [
        "final_price_pred.head(n=2)"
      ],
      "execution_count": null,
      "outputs": [
        {
          "output_type": "execute_result",
          "data": {
            "text/html": [
              "<div>\n",
              "<style scoped>\n",
              "    .dataframe tbody tr th:only-of-type {\n",
              "        vertical-align: middle;\n",
              "    }\n",
              "\n",
              "    .dataframe tbody tr th {\n",
              "        vertical-align: top;\n",
              "    }\n",
              "\n",
              "    .dataframe thead th {\n",
              "        text-align: right;\n",
              "    }\n",
              "</style>\n",
              "<table border=\"1\" class=\"dataframe\">\n",
              "  <thead>\n",
              "    <tr style=\"text-align: right;\">\n",
              "      <th></th>\n",
              "      <th>ambulatory</th>\n",
              "      <th>emergency</th>\n",
              "      <th>inpatient</th>\n",
              "      <th>outpatient</th>\n",
              "      <th>urgentcare</th>\n",
              "      <th>wellness</th>\n",
              "      <th>AGE</th>\n",
              "      <th>BASE_ENCOUNTER_COST</th>\n",
              "      <th>TOTAL_CLAIM_COST</th>\n",
              "      <th>PAYER_COVERAGE</th>\n",
              "    </tr>\n",
              "  </thead>\n",
              "  <tbody>\n",
              "    <tr>\n",
              "      <th>0</th>\n",
              "      <td>9.0</td>\n",
              "      <td>2.0</td>\n",
              "      <td>0.0</td>\n",
              "      <td>6.0</td>\n",
              "      <td>1.0</td>\n",
              "      <td>32.0</td>\n",
              "      <td>0.0</td>\n",
              "      <td>12011.88</td>\n",
              "      <td>12011.88</td>\n",
              "      <td>7644.40</td>\n",
              "    </tr>\n",
              "    <tr>\n",
              "      <th>1</th>\n",
              "      <td>15.0</td>\n",
              "      <td>1.0</td>\n",
              "      <td>0.0</td>\n",
              "      <td>6.0</td>\n",
              "      <td>0.0</td>\n",
              "      <td>28.0</td>\n",
              "      <td>0.0</td>\n",
              "      <td>9170.36</td>\n",
              "      <td>9170.36</td>\n",
              "      <td>5330.36</td>\n",
              "    </tr>\n",
              "  </tbody>\n",
              "</table>\n",
              "</div>"
            ],
            "text/plain": [
              "   ambulatory  emergency  ...  TOTAL_CLAIM_COST  PAYER_COVERAGE\n",
              "0         9.0        2.0  ...          12011.88         7644.40\n",
              "1        15.0        1.0  ...           9170.36         5330.36\n",
              "\n",
              "[2 rows x 10 columns]"
            ]
          },
          "metadata": {
            "tags": []
          },
          "execution_count": 64
        }
      ]
    },
    {
      "cell_type": "code",
      "metadata": {
        "id": "UBawY-jJ9hfP"
      },
      "source": [
        "final_price_pred1=final_price_pred[['ambulatory','emergency','inpatient', 'outpatient','urgentcare', 'wellness','AGE', \n",
        "        'BASE_ENCOUNTER_COST','PAYER_COVERAGE']]"
      ],
      "execution_count": null,
      "outputs": []
    },
    {
      "cell_type": "code",
      "metadata": {
        "id": "iKQPY0tq9htX"
      },
      "source": [
        "target_setm2=final_price_pred['TOTAL_CLAIM_COST']"
      ],
      "execution_count": null,
      "outputs": []
    },
    {
      "cell_type": "code",
      "metadata": {
        "id": "mR8bHpfv9h80"
      },
      "source": [
        "from sklearn.linear_model import LinearRegression,Ridge,Lasso\n",
        "from sklearn.preprocessing import MinMaxScaler,StandardScaler\n",
        "from sklearn.tree import DecisionTreeRegressor\n",
        "from sklearn.ensemble import RandomForestRegressor\n",
        "from sklearn.svm import SVR\n",
        "from xgboost import XGBRegressor\n",
        "from sklearn.ensemble import AdaBoostRegressor\n",
        "from sklearn.metrics import mean_squared_error, r2_score,mean_absolute_error"
      ],
      "execution_count": null,
      "outputs": []
    },
    {
      "cell_type": "markdown",
      "metadata": {
        "id": "Yn2Ie2qTJSP3"
      },
      "source": [
        "We are doing train and spilt,if we dnt do it ,it might give us overfit model or data linkage if we combine train and test"
      ]
    },
    {
      "cell_type": "markdown",
      "metadata": {
        "id": "9uDG2rq_J2UP"
      },
      "source": [
        "In classfication we use mutual_info_classif and in regression we use mutual_info_regression."
      ]
    },
    {
      "cell_type": "code",
      "metadata": {
        "id": "m3_i6iZ3Jyma",
        "colab": {
          "base_uri": "https://localhost:8080/"
        },
        "outputId": "0b167692-a153-4438-9ed4-79783262d3e5"
      },
      "source": [
        "from sklearn.feature_selection import mutual_info_regression\n",
        "#determine the mutual information\n",
        "mutual_info=mutual_info_regression(final_price_pred1,target_setm2)\n",
        "mutual_info"
      ],
      "execution_count": null,
      "outputs": [
        {
          "output_type": "execute_result",
          "data": {
            "text/plain": [
              "array([6.54878920e-02, 0.00000000e+00, 1.17826249e-02, 4.16584798e-03,\n",
              "       2.01953964e-03, 9.25161833e-02, 0.00000000e+00, 5.67988958e+00,\n",
              "       1.25238912e+00])"
            ]
          },
          "metadata": {
            "tags": []
          },
          "execution_count": 97
        }
      ]
    },
    {
      "cell_type": "markdown",
      "metadata": {
        "id": "LDtp3jyyKwlw"
      },
      "source": [
        "All the values will be greater than 0 and less than 1,higher the value more is the depedent feature is with respect to Total pricing(target variable)"
      ]
    },
    {
      "cell_type": "code",
      "metadata": {
        "id": "8B7a1HXYLGUn",
        "colab": {
          "base_uri": "https://localhost:8080/"
        },
        "outputId": "ff785ba2-1bb5-4cdc-c805-4f345ddb1fcc"
      },
      "source": [
        "mutual_info=pd.Series(mutual_info)\n",
        "mutual_info.index=final_price_pred1.columns\n",
        "mutual_info.sort_values(ascending=False)"
      ],
      "execution_count": null,
      "outputs": [
        {
          "output_type": "execute_result",
          "data": {
            "text/plain": [
              "BASE_ENCOUNTER_COST    5.679890\n",
              "PAYER_COVERAGE         1.252389\n",
              "wellness               0.092516\n",
              "ambulatory             0.065488\n",
              "inpatient              0.011783\n",
              "outpatient             0.004166\n",
              "urgentcare             0.002020\n",
              "AGE                    0.000000\n",
              "emergency              0.000000\n",
              "dtype: float64"
            ]
          },
          "metadata": {
            "tags": []
          },
          "execution_count": 98
        }
      ]
    },
    {
      "cell_type": "markdown",
      "metadata": {
        "id": "kma5sfMyMtfR"
      },
      "source": [
        "Estimate mutual information for a continuous target variable.\n",
        "True mutual information can’t be negative. If its estimate turns out to be negative, it is replaced by zero.\n",
        "\n",
        "---\n",
        "Estimate mutual information for a continuous target variable. Mutual information (MI) [1] between two random variables is a non-negative value, which measures the dependency between the variables. If bool, then determines whether to consider all features discrete or continuous.\n",
        "\n",
        "---\n",
        "The mutual information between two random variables X and Y can be stated formally as follows: I(X ; Y) = H(X) – H(X | Y)\n"
      ]
    },
    {
      "cell_type": "code",
      "metadata": {
        "colab": {
          "base_uri": "https://localhost:8080/"
        },
        "id": "8W4ya5ZYd1XX",
        "outputId": "3f43a502-a6a4-4651-f5ba-958123f6fff7"
      },
      "source": [
        "from sklearn.feature_selection import SelectPercentile\n",
        "selected_top_columns = SelectPercentile(mutual_info_regression, percentile=40)\n",
        "selected_top_columns.fit(final_price_pred1,target_setm2)"
      ],
      "execution_count": null,
      "outputs": [
        {
          "output_type": "execute_result",
          "data": {
            "text/plain": [
              "SelectPercentile(percentile=40,\n",
              "                 score_func=<function mutual_info_regression at 0x7fa0aa1eecb0>)"
            ]
          },
          "metadata": {
            "tags": []
          },
          "execution_count": 99
        }
      ]
    },
    {
      "cell_type": "code",
      "metadata": {
        "colab": {
          "base_uri": "https://localhost:8080/"
        },
        "id": "kQVCIJxNd1dp",
        "outputId": "f235f0ba-0fe0-402c-d7d9-d668b3f9b191"
      },
      "source": [
        "selected_top_columns.get_support()"
      ],
      "execution_count": null,
      "outputs": [
        {
          "output_type": "execute_result",
          "data": {
            "text/plain": [
              "array([ True, False, False, False, False,  True, False,  True,  True])"
            ]
          },
          "metadata": {
            "tags": []
          },
          "execution_count": 100
        }
      ]
    },
    {
      "cell_type": "code",
      "metadata": {
        "colab": {
          "base_uri": "https://localhost:8080/"
        },
        "id": "3XUXLMYEd1nq",
        "outputId": "89f61cbf-9d06-4808-c6b6-3ce8217cc5e6"
      },
      "source": [
        "final_price_pred1.columns[selected_top_columns.get_support()]"
      ],
      "execution_count": null,
      "outputs": [
        {
          "output_type": "execute_result",
          "data": {
            "text/plain": [
              "Index(['ambulatory', 'wellness', 'BASE_ENCOUNTER_COST', 'PAYER_COVERAGE'], dtype='object')"
            ]
          },
          "metadata": {
            "tags": []
          },
          "execution_count": 101
        }
      ]
    },
    {
      "cell_type": "code",
      "metadata": {
        "colab": {
          "base_uri": "https://localhost:8080/"
        },
        "id": "CWoUa5B8d1vD",
        "outputId": "3259302c-806a-406e-f765-7708de8b2dd9"
      },
      "source": [
        "unimp_columns = [x for x in final_price_pred1\n",
        "                    if x not in final_price_pred1.columns[selected_top_columns.get_support()]]\n",
        "print(unimp_columns)"
      ],
      "execution_count": null,
      "outputs": [
        {
          "output_type": "stream",
          "text": [
            "['emergency', 'inpatient', 'outpatient', 'urgentcare', 'AGE']\n"
          ],
          "name": "stdout"
        }
      ]
    },
    {
      "cell_type": "code",
      "metadata": {
        "colab": {
          "base_uri": "https://localhost:8080/"
        },
        "id": "Ti7-j1ikd13b",
        "outputId": "925b03e1-6b16-4ad4-b295-ad4e2f68c981"
      },
      "source": [
        "for x in unimp_columns:\n",
        "    final_price_pred1.drop(columns=[x], axis=1, inplace=True)"
      ],
      "execution_count": null,
      "outputs": [
        {
          "output_type": "stream",
          "text": [
            "/usr/local/lib/python3.7/dist-packages/pandas/core/frame.py:4174: SettingWithCopyWarning: \n",
            "A value is trying to be set on a copy of a slice from a DataFrame\n",
            "\n",
            "See the caveats in the documentation: https://pandas.pydata.org/pandas-docs/stable/user_guide/indexing.html#returning-a-view-versus-a-copy\n",
            "  errors=errors,\n"
          ],
          "name": "stderr"
        }
      ]
    },
    {
      "cell_type": "code",
      "metadata": {
        "id": "yRYWrjKkgE9d"
      },
      "source": [
        "X=final_price_pred1\n",
        "y=target_setm2"
      ],
      "execution_count": null,
      "outputs": []
    },
    {
      "cell_type": "code",
      "metadata": {
        "id": "RJ8UgicRgFFc"
      },
      "source": [
        "X_train,X_test,y_train,y_test=train_test_split(X,y,test_size=0.2,random_state=15)"
      ],
      "execution_count": null,
      "outputs": []
    },
    {
      "cell_type": "code",
      "metadata": {
        "colab": {
          "base_uri": "https://localhost:8080/"
        },
        "id": "64jz-ezdgFNm",
        "outputId": "40a28b61-ea5c-44af-d6d0-134a35ee1a4f"
      },
      "source": [
        "print('The shape of X_train:',X_train.shape)\n",
        "print('The shape of y_train:',y_train.shape)\n",
        "print('The shape of X_test:',X_test.shape)\n",
        "print('The shape of y_test:',y_test.shape)"
      ],
      "execution_count": null,
      "outputs": [
        {
          "output_type": "stream",
          "text": [
            "The shape of X_train: (6820, 4)\n",
            "The shape of y_train: (6820,)\n",
            "The shape of X_test: (1706, 4)\n",
            "The shape of y_test: (1706,)\n"
          ],
          "name": "stdout"
        }
      ]
    },
    {
      "cell_type": "code",
      "metadata": {
        "id": "A4uKPoI6gFU5"
      },
      "source": [
        "sc=StandardScaler()\n",
        "X_train=sc.fit_transform(X_train)\n",
        "X_test=sc.fit_transform(X_test)"
      ],
      "execution_count": null,
      "outputs": []
    },
    {
      "cell_type": "code",
      "metadata": {
        "colab": {
          "base_uri": "https://localhost:8080/"
        },
        "id": "64V-_iCcgFcf",
        "outputId": "0d98b5ef-cabd-48a5-f3ba-a226e53ffc7d"
      },
      "source": [
        "regr=LinearRegression()\n",
        "regr.fit(X_train,y_train)"
      ],
      "execution_count": null,
      "outputs": [
        {
          "output_type": "execute_result",
          "data": {
            "text/plain": [
              "LinearRegression(copy_X=True, fit_intercept=True, n_jobs=None, normalize=False)"
            ]
          },
          "metadata": {
            "tags": []
          },
          "execution_count": 108
        }
      ]
    },
    {
      "cell_type": "code",
      "metadata": {
        "colab": {
          "base_uri": "https://localhost:8080/"
        },
        "id": "xQMqiHlvgFgn",
        "outputId": "6615cb47-3587-4a37-ab5b-861dfb0eec76"
      },
      "source": [
        "print('The final coefficients after the training is:',regr.coef_)\n",
        "print('The final intercept after the training is:',regr.intercept_)"
      ],
      "execution_count": null,
      "outputs": [
        {
          "output_type": "stream",
          "text": [
            "The final coefficients after the training is: [ 1.19373046e-12 -1.00044417e-11  2.11884211e+04 -5.40012479e-13]\n",
            "The final intercept after the training is: 13403.712816715535\n"
          ],
          "name": "stdout"
        }
      ]
    },
    {
      "cell_type": "markdown",
      "metadata": {
        "id": "Ga1kjD_Ogpi2"
      },
      "source": [
        "The intercept (often labeled as constant) is the point where the function crosses the y-axis. In some analysis, the regression model only becomes significant when we remove the intercept, and the regression line reduces to Y = bX + error or y=mx+c"
      ]
    },
    {
      "cell_type": "markdown",
      "metadata": {
        "id": "p_fm4twFhjla"
      },
      "source": [
        "Understanding the Data \n",
        "Final dataset contains 9 features and 6820 training examples.After feature selection we will perform with 4feature. We have to predict the medical expenses for next 6months to 1 year based on available training data."
      ]
    },
    {
      "cell_type": "code",
      "metadata": {
        "colab": {
          "base_uri": "https://localhost:8080/"
        },
        "id": "pcsqTobnd2LX",
        "outputId": "18a4386b-8a48-4c35-9d08-dc431638c9ab"
      },
      "source": [
        "from sklearn.metrics import r2_score,mean_squared_error\n",
        "y_pred=regr.predict(X_test)\n",
        "print('Prediction on test data:',y_pred[:5])    \n",
        "print('r2_score  of our model is',r2_score(y_test,y_pred))\n",
        "print('Mean squared error for our model is',mean_squared_error(y_test,y_pred,squared=False))"
      ],
      "execution_count": null,
      "outputs": [
        {
          "output_type": "stream",
          "text": [
            "Prediction on test data: [17524.20325083 17419.42323797 19410.24348232 29259.56469124\n",
            "  9037.02220911]\n",
            "r2_score  of our model is 0.9639986799199461\n",
            "Mean squared error for our model is 4955.727257457534\n"
          ],
          "name": "stdout"
        }
      ]
    },
    {
      "cell_type": "markdown",
      "metadata": {
        "id": "TK4Jj1wShHOs"
      },
      "source": [
        "Regularize the model using Ridge and Lasso Regression and find the score"
      ]
    },
    {
      "cell_type": "code",
      "metadata": {
        "colab": {
          "base_uri": "https://localhost:8080/"
        },
        "id": "EZfubRiZhI6C",
        "outputId": "90fd4035-1ab3-4b0e-98b5-820634174c33"
      },
      "source": [
        "from sklearn.linear_model import Ridge,Lasso\n",
        "ridge=Ridge(alpha=0.005)\n",
        "ridge.fit(X_train,y_train)\n",
        "ridge_pred=ridge.predict(X_test)\n",
        "score=r2_score(y_test,ridge_pred)\n",
        "print('Ridge score:',round(score,2))"
      ],
      "execution_count": null,
      "outputs": [
        {
          "output_type": "stream",
          "text": [
            "Ridge score: 0.96\n"
          ],
          "name": "stdout"
        }
      ]
    },
    {
      "cell_type": "code",
      "metadata": {
        "colab": {
          "base_uri": "https://localhost:8080/"
        },
        "id": "-annSz4BhOZg",
        "outputId": "9ddfebd7-0cad-4c77-b583-e7420108a02b"
      },
      "source": [
        "lasso=Lasso(alpha=0.005)\n",
        "lasso.fit(X_train,y_train)\n",
        "lasso_pred=ridge.predict(X_test)\n",
        "score=r2_score(y_test,lasso_pred)\n",
        "print('Lasso score:',round(score,2))"
      ],
      "execution_count": null,
      "outputs": [
        {
          "output_type": "stream",
          "text": [
            "Lasso score: 0.96\n"
          ],
          "name": "stdout"
        }
      ]
    },
    {
      "cell_type": "markdown",
      "metadata": {
        "id": "V5LFDWDNjDon"
      },
      "source": [
        "**K FOLD**\n",
        "\n",
        "---\n",
        "\n",
        "In case of K Fold cross validation input data is divided into 'K' number of folds, hence the name K Fold. Suppose we have divided data into 5 folds i.e. K=5. Now we have 5 sets of data to train and test our model. So the model will get trained and tested 5 times, but for every iteration we will use one fold as test data and rest all as training data. Note that for every iteration, data in training and test fold changes which adds to the effectiveness of this method.\n",
        "\n",
        "This significantly reduces underfitting as we are using most of the data for training(fitting), and also significantly reduces overfitting as most of the data is also being used in validation set. K Fold cross validation helps to generalize the machine learning model, which results in better predictions on unknown data."
      ]
    },
    {
      "cell_type": "markdown",
      "metadata": {
        "id": "0b7A8qujjNUG"
      },
      "source": [
        "![Inner_Working_KFold.png](data:image/png;base64,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)\n",
        "\n",
        "---\n",
        "![KFold_Cross_Validation.png](data:image/png;base64,iVBORw0KGgoAAAANSUhEUgAAAysAAAIfCAYAAABwy0NTAAAIFHRFWHRteGZpbGUAJTNDbXhmaWxlJTIwaG9zdCUzRCUyMmFwcC5kaWFncmFtcy5uZXQlMjIlMjBtb2RpZmllZCUzRCUyMjIwMjAtMDctMTlUMDUlM0E0NSUzQTU4Ljc1NFolMjIlMjBhZ2VudCUzRCUyMjUuMCUyMChXaW5kb3dzJTIwTlQlMjAxMC4wJTNCJTIwV2luNjQlM0IlMjB4NjQpJTIwQXBwbGVXZWJLaXQlMkY1MzcuMzYlMjAoS0hUTUwlMkMlMjBsaWtlJTIwR2Vja28pJTIwQ2hyb21lJTJGODMuMC40MTAzLjExNiUyMFNhZmFyaSUyRjUzNy4zNiUyMiUyMGV0YWclM0QlMjJCcWY5c0FjZkNNMnFaWHJBa1A4WSUyMiUyMHZlcnNpb24lM0QlMjIxMy4zLjklMjIlMjB0eXBlJTNEJTIyZ29vZ2xlJTIyJTNFJTNDZGlhZ3JhbSUyMGlkJTNEJTIyUkxBYWt5ZkpmTkJQVlJRbjNUN0IlMjIlMjBuYW1lJTNEJTIyUGFnZS0xJTIyJTNFN1p6YmNwc3dFSWFmeHBmcGNMWjltVHB4T3RNMHlkVHRKTk9ianNZb21CUWpSOGd4eWRPWGd3Q0RsTmdrTm13THZqR3N4QUw3SWZHekVnejB5VEs4b0dpMSUyQkVaczdBMDB4UTRIJTJCdGxBMDFSVkdVViUyRnNlVTV0UXpIUm1wd3FHdnpTb1ZoNXI1Z2JsUzRkZTNhT0NoVlpJUjR6RjJWalhQaSUyQjNqT1NqWkVLZG1VcTkwVHI3elhGWEt3WUpqTmtTZGFiMTJiTFZMcnlGUUslMkJ4ZnNPZ3VXbnpBdldhS3NNbmNSTEpCTk5xa3BxYU9mRCUyRlFKSllTbFM4dHdncjA0ZUZsY1VrZlRWMHJ6QTZQWVolMkZ0c0VJN1BRdjlyNkY4dnIyNkcxeSUyQiUyRkwzNTZzeFB1NVFsNWEzN0NBODN5SW4lMkJmZ3hYeW8yVW5YcDVlWDBaRmlwcVZSVHZaTHVibng1NnpvRkd5OW0wYzcxZU5pamNMbCUyQkhaQ3MzajBrMTBtVVMyQlZ0NnZQaWUlMkJHekd0ODNXSjhRak5QR2xUNU5mYkhjOWI4dHVKYiUyRjRRQmtsZjdDc1JJeFFkcnFZTWh4dW1YakVMakJaWWthZm95cThsTWRVNFZldmFtcnAlMkJxYTRGbkxpaTYzcndPQTJ4QzglMkZKJTJGZGNFSW9XT0tRYXdMUTZ3TFR1QVZNTmFNVDBPc1QwN2hIVExHakVqRHJFak80UjAwZlFpSmtDTVU3SCUyRkk4eG1BbzBETlklMkZxeWFtMDVFU2hVcENMQzg1dkpyUTFMYUJEUUdvaVRLSSUyQkpjQUVrRGtKZnNpUG9LYWFKJTJGWUNJQ2FnRXlzcWliYUp6WUdvQ1lnRTZ1cWlVYUpHWGUzVjliak5BeG05QmU3ZXppNzJYeTNUMVJadDFpSlA3WWRuQVdJVUxZZ0R2R1JkMTVZUHhlRTRydEhVZWVTa0JXUDZnTm03Sm5uUE5DYUVjbXRMQzFVVFJtRDBvMHBQcUFTQVFHS1NJQmlEekgzcWJ5ZExKeDgweHZpUmg1emNsYjFmcVpyWlJjQldkTTU1bHR0cHlhcWpxcU50dXFJSWVwZ0pqaEs2T2JuOCUyRjRtbWlXYkRxOGZJVGU4cW41c3Y2dVVOcnltQlNSa1pOVUdOMnlkV0MwOUFpb2YxWXprRnhSayUyQjhocUNaSmVRZ0pBcG9uM3AxNUR2cWtoMjBjbWpxeDBVVkswejBIckpVVWRTYUhyclJPck5XRFNKNlVnSUtzMVlnSnFqS3VoeEs4RkRwazRaTkpMaXJja0JRQms0dkJLQnlVRkFBNTlscUtlcEJpM1RneENsZ0l5TVVGU3RJJTJCc3oxTFVsQlN0STlNaFpDa2dxMEJCVXJTUHJNOVN3T0RRWnlscVNRcWo5YWxPZXAlMkJscUNjcEFDQ0RrS1dBakt3cUtRQWc2N01VOVNRRkFHUkh5MUpBbG5aVlNkRW9CJTJCa2twbDJLWW91RDliaU9YMEpLSW5vU0pET09UbU9aWWF6Q0pEcFplZGFlVHBPOW55R0dJR240UFNaZGI4JTJCb012TGpGQ2p2TlhmcWxSZUVSZ0wya2RvazlsMnk1QVBZZjFEayUyQnE3dkFHUyUyRmI2ZDhWUFpEUTJCdmpwcGt2MHZmZklROURoaEE3bnQwN2tmZ2Jxazd3ZWZYUmlQZ3hZVDBiT1c1TEgxVVZJSTVvZml3ZU43b1lxdUFNbkJId0FCdTRyQ1laczQ0YUYzaTBPU2tEJTJGa0ViakVUbVlIUU93U2kwYUV5T1FneHY1aUJNTG9Fb3NrRW94eUUlMkJEZ3dkWDNrSFFlQzhPYkNLNkUlMkZRS2lyRDE1bWR1TnRMOVM3Y2hZZmVmS0tZaFYlMkZzRUpUeUgxODdNblJCTHhGSlNDRFp1UlpnMjFKM1EyNFdiV2xpaG1PckZNek85U3B0WiUyRmlrTTVrcjhTOWYwOUw4cDdXV1AwMHRNcGUzdjJxbHNUWDRkN1drbWUyWk9QTVBmYWQySFh6Y05obHZvNk5YZmF0b2g3N1R1eUdlampzTWwlMkZIeGk0cTF4NzdQdGlIQjhRdThmVnU3TkZxOGRHenRIcng2VGo5JTJGQzglM0QlM0MlMkZkaWFncmFtJTNFJTNDJTJGbXhmaWxlJTNFbgg3uAAAIABJREFUeF7svX+MXVd59/vdoQY7mthgXihtb6Ik4IJat2nGIde9E/4oOIqwuVgWKNQXaitK5SH2H9cjNwLZTXJIZF+q4I7Vyn4Z3yLElFyL6C2W6WuXxA5t1Yw6N9hOKW4FNUqicGlRfhg8PsUubrOv1oyXvWfPOXP2PvvZe69z5mMJkZmz1rOe9fnutfb+zlprn0iJf8PDw2vjOB6RtFrSQPIz/hsCEIAABCAAAQhAAAIQgEBJBJqSJqMoGh0bGzvm24j8f2zZsmVc0npJS0tKgLAQgAAEIAABCEAAAhCAAATmIzAl6cjBgwc3uULTZsUZlSiK1sdxjFHh4oEABCAAAQhAAAIQgAAEaiMQRdFUHMfThiW6svXrECsqtelBwxCAAAQgAAEIQAACEIDAbAJTURRtjLZs2XJc0hroQAACEIAABCAAAQhAAAIQCIjACWdWLnCYPiBJSAUCEIAABCAAAQhAAAIQcASazqzEsIAABCAAAQhAAAIQgAAEIBAaAcxKaIqQDwQgAAEIQAACEIAABCAwTQCzwoUAAQhAAAIQgAAEIAABCARJALMSpCwkBQEIQAACEIAABCAAAQhgVrgGIAABCEAAAhCAAAQgAIEgCWBWgpSFpCAAAQhAAAIQgAAEIAABzArXAAQgAAEIQAACEIAABCAQJAHMSpCykBQEIAABCEAAAhCAAAQggFnhGoAABCAAAQhAAAIQgAAEgiSAWQlSFpKCAAQgAAEIQAACEIAABDArXAMQgAAEFhiBkZERve9975vu9cTEhMbHx68SWL16tTZu3Dj986FDh6b/P/nz5OTkLFof/ehHdc899+gXfuEXZv3+P//zP/XUU0/pG9/4Rma6mzZt0q233qpGo5G5DgUhAAEIQKC/CWBW+ltfegcBCEBgFgFnUu677z699a1vnf79v/3bv80yB1ZmxTeaNkPt5HBGZWhoaE4+yAcBCEAAAgubAGZlYetP7yEAgQVGwJuCn/70p1q8ePF0790Kil8x6dasNJtNffnLX9b3vve96Zh+9ebSpUtX4ydXdFwZl4Orc+edd04bFf/P13E/u1Udn6f7Oav5WWCy0l0IQAACfUsAs9K30tIxCEAAAnMJuC1Wv/RLvzT90O+2XPn/9lvBrMyKX8EZGBiY3g7mVnKShsRn5szN66+/Pses/M3f/I1cLn4FKG1k0tvR0BoCEIAABPqTAGalP3WlVxCAAATmEEgbkV/91V+ds/XKyqy4xpPGKHkuxn2W3vbVaRtY2vzkOQvDpQABCEAAAr1LALPSu9qROQQgAIFcBNKGIG1M3GpF2WYlfSDfn5mZz6x40+M6283B/VyQKAwBCEAAAkERwKwEJQfJQAACECiPQPKhP92K2441OjpqZlbabQNrZ07SZiVd/1/+5V+mXwzgt5WxslLedUJkCEAAAiERwKyEpAa5QAACECiJQLtXDPvm/GF3d0akm1cXpw/YJw/yu0P0v/u7vzvrfIw/bN/OvPh8fVyfl3tFct5XIpeElLAQgAAEIFABAcxKBZBpAgIQgEDdBNLmwOfjt315E/DKK690ZVbS37Pi4/u3d7Vb1UmbFVfPbfV68cUXdcstt5h8f0vd7GkfAhCAAAS6J4BZ6Z4dNSEAAQj0BIHkd6u0evWvNxJuK9jf//3fm5iV9NkSb4rca4jdZ3/7t3+rVatWTb+W2L062a3s+O9/8XXf/e53X/3ySmdqXnjhhekXAvgtaz0BnyQhAAEIQKAQAcxKIXxUhgAEIAABCEAAAhCAAATKIoBZKYsscSEAAQhAAAIQgAAEIACBQgQwK4XwURkCEIAABCAAAQhAAAIQKIsAZqUsssSFAAQgAAEIQAACEIAABAoRwKwUwkdlCEAAAhCAAAQgAAEIQKAsApiVssgSFwIQgAAEIAABCEAAAhAoRACzUggflSEAAQhAAAIQgAAEIACBsghgVsoiS1wIQAACEIAABCAAAQhAoBABzEohfFSGAAQgAAEIQAACEIAABMoi4MzKBUkDZTVAXAhAAAIQgAAEIAABCEAAAl0QaDqzclzSmi4qUwUCEIAABCAAAQhAAAIQgEBZBE5Ew8PDa+M4PiRpaVmtEBcCEIAABCAAAQhAAAIQgEAOAlNRFG2MXIUtW7aMR1G0Po5jDEsOghSFAAQgAAEIQAACEIAABGwJRFE0FcfxkYMHD26aNivesEhazwqLLWyiQQACEIAABCAAAQhAAAKZCUxJmjYqrsZVs+J+uLIlbETSag7dZwZKQQhAAAIQgAAEIAABCECgGIGmpMkoikbHxsaO+VCzzEqx+NSGAAQgAAEIQAACEIAABCBgRwCzYseSSBCAAAQgAAEIQAACEICAIQHMiiFMQkEAAhCAAAQgAAEIQAACdgQwK3YsiQQBCEAAAhCAAAQgAAEIGBLArBjCJBQEIAABCEAAAhCAAAQgYEcAs2LHkkgQgAAEIAABCEAAAhCAgCEBzIohTEJBAAIQgAAEIAABCEAAAnYEMCt2LIkEAQhAAAIQgAAEIAABCBgSwKwYwiQUBCAAAQhAAAIQgAAEIGBHALNix5JIEIAABCAAAQhAAAIQgIAhAcyKIUxCQQACEIAABCAAAQhAAAJ2BDArdiyJBAEIQAACEIAABCAAAQgYEsCsGMIkFAQgAAEIQAACEIAABCBgRwCzYseSSBCAAAQgAAEIQAACEICAIQHMiiFMQkEAAhCAAAQgAAEIQAACdgRmmZU77ojXvvGGRqJIqyUN2DVDJAhAAAIQgAAEIBAMgWYca/K66zR68mR0rNus4obWShqReG7qliH1IJAg0JQ0KWk0aujquLxqVgYH4/Eo0npJS8EGAQhAAAIQgAAEFgCBqTjWkdOno015+xo3NC7x3JSXG+UhkIHAlKQjUUPT43LarGBUMmCjCAQgAAEIQAAC/Uggt2HBqPTjZUCfAiNw1bBEbutXHOsQKyqBSUQ6EIAABCAAAQhURWAqirQxy5awK1u/eG6qShnaWcgEnGHZGA0OxsejSGsWMgn6DgEIQAACEIDAwiYQxzpx+nR0dycKcUPHJZ6bOnHicwgYETgRrVoVX+AwvRFOwkAAAhCAAAQg0KsEmqdORTd0Sj5uiOemTpD4HAJ2BJrOrMR28YgEAQhAAAIQgAAEepPAqVNRx690iBviuak35SXrHiWAWelR4UgbAhCAAAQgAAFbApgVW55Eg4AFAcyKBUViQAACEIAABCDQ8wQwKz0vIR3oQwKYlT4UlS5BAAIQgAAEIJCfAGYlPzNqQKBsApiVsgkTHwIQgAAEIACBniCAWekJmUhygRHArCwwwekuBCAAAQhAAAKtCWBWuDIgEB4BzEp4mpARBCAAAQhAAAI1EMCs1ACdJiHQgQBmhUsEAhCAAAQgAAEISMKscBlAIDwCmJXwNCEjCEAAAhCAAARqIIBZqQE6TUKAlRWuAQhAAAIQgAAEINCZAGalMyNKQKBqAqysVE2c9iBQAYG1a6XPfla6/vrWjb3yivTII9K3v509mU9/Wtq8WfrJT7LV9Tm4Fj7/eenYsextZS05Xz+PHJEeeyxrJOn975f+8A+lv/or6YtfzF6PkhCAQP8QwKyUrOUtH5Q2jEs3/Errhn5+QTq6TfrHP+8uERf/f/+/pe8+If31w3Nj/M6j0tBnpDe9efZn//VzaeKPWtdpl8lH/0z6X35bOvDr3eVKrcwEMCuZUVEQAr1DoAyzEmLvO/XzueekrVs7Z+6Myuc+J73tbdJXvoJZ6UyMEhDoTwKYlZJ1LdOs+NjXv6O98WhnVny3n/+S9I3f7wzBGZXb75de/WfMSmdahUtgVgojJAAEwibQaoXjwAHpzjulH/1Ieuc7Z/J3D+nveIe0fv21/vzsZ9dWRdIrK/fdNxPje9+TbrppZhXn8uVrD/vpdl1Ut9rj/r38svS+98389wsvSPfee61Nn5v7zdNPS7/1W9LAQOvVmXarNw89NNOPZD7+d74l37dXX50xKp6D+9yZnC9/ufXvs5ifsK8IsoMABNoRwKxUeG20MxebTki3fGgmkfSKx2/+nrRuv/TmG2Z//tLfzF2xefEZaXzN7A55s/KzV6XDm6QXvzXzuW8zubKTzMOVufCjmTq/8X/MGBX/z9dxPydzcz9nNT8VYu/FpjArvagaOUMgB4H5zIoP47aFnTwp3X23tGjR7ODeTLQzK+lU/BYzZ3y8OXHbwNy/dlvT/JattKFwZsP9z/1rtZVsvq1mTz4p3Xqr5GI7Q+K2sLXq2+OPtzYl/+2/zdRP/kuanxwSUBQCEOgRApiVCoVqZVbSBsGl482AMwuttpC5z5/bL932e7O3l+UxK+lcbvjl2YbEY3Exf/rSXLPSqv1k7t1ua6tQjpCbwqyErA65QcCAwHxmZb6zK2lzsmrV7DMrfmXFx/Cfuwf6pDnxRiNpVrw58YYivZLht29585Jc4Ukimc+s+BWaVlvB0n1zMTttA0uanzxnYQwkJAQEIFARAcxKRaBdM2mD4FdH3rL02rkVv93KmYS/2zNjVpKfJ9PNsw0svbLi4mz9J+kdv9Z6NSS97avTNrAsuVSIutebwqz0uoLkD4EOBOYzK60e5NPnQNJmxB+w92bFx/DnPvyWLW9O0mbF/+wO3Hsz4mL8z/85eyXGfZ6OmT6kn9estOvbfGYluS3Nlct7cJ8LFAIQ6B0CmJUKtUo/0L9+du42Kp+OPxvSbmuW286VxSC02wbWzqykz7j4POYzK970uJjdHNyvUIJeaQqz0itKkScEuiSQ1ax0Wklpt7ISqllptQ3MG610X1qZlfRKCisrXV6AVINADxHArFQoVh6z4s+L+DMmrQyBX5nJcsA+vbLSbhtYO3OSNivtVonmy6VC1L3eFGal1xUkfwgYraykt035VY+qVlaSB9qLbgPzxstvSfvIR2ZeBpCO6/uWNivuBQDJ8zbJQ/isrDDkINC/BDArFWqbZRtYp3T8Sktym1g3ZsWbD2+KPvyns7eE+XbamZf0io17NbM7bP+mt+R/JXKnPi/AzzErC1B0urywCGRdWUlvd/KUqjIr7i1b3R6wb/d9Mt6cdOqbNyv+jWCuz247W6u4mJWFNX7o7cIigFmpUO+sB+xdSu6tWi/9bettYn6rVfqNYK1eK5z11cXJlZskkrRZcZ+59n/0/0q/8r/afH9LhRL0SlOYlV5Rijwh0CWBrGbFnw/xD+zuofw3fkO68caZ1xG7f8kvhbQ+s+JfCeyNhVsV+R//Q/rQhzq/uriTqejUN/clkEmj5N6A9t3vXnuNszMvzzwjffzj0g9/OPtVy13KQjUIQCBAApiVCkXJ8upil07yrV7pVxd7I+O/G8WvkLjf5zEr870i2X128r9Lv/bxa4f7k28m83Vv/N+uvXLZtf3//f3MW8NavZWsQsz90BRmpR9UpA8Q6BMC/lyIf13yfAfo+6TLdAMCEAiIAGYlIDFIBQJXCGBWuBQgAIFgCLTbrpX+4shgEiYRCECgrwhgVvpKTjrTJwQwK30iJN2AQL8Q8Ksrvj/zfRdMv/SZfkAAAmEQwKyEoQNZQCBJALPC9QABCEAAAhCAAAQkYVa4DCAQHgHMSniakBEEIAABCEAAAjUQwKzUAJ0mIdCBAGaFSwQCEIAABCAAAQiwssI1AIEgCWBWgpSFpCAAAQhAAAIQqJoAKytVE6c9CHQmgFnpzIgSEIAABCAAAQgsAAKYlQUgMl3sOQKYlZ6TjIQhAAEIQAACECiDAGalDKrEhEAxAs6sXJA0UCwMtSEAAQhAAAIQgEBPE2ieOhXd0KkHcUM8N3WCxOcQsCPQjAYH4+NRpDV2MYkEAQhAAAIQgAAEeotAHOvE6dPR3Z2yjhs6LvHc1IkTn0PAiMCJ6I474rVxrEOSlhoFJQwEIAABCEAAAhDoJQJTUaSNJ09GxzolHTe0VuK5qRMnPoeAAYEpSRsjF2hwMB6PIq3HsBhgJQQEIAABCEAAAr1EYCqOdeT06WhT1qTjhsYlnpuy8qIcBLog4IzKkaihTdNmBcPSBUKqQAACEIAABCDQ6wRyGxXfYQxLr0tP/gETuGpUXI5XzYr7wW0Je+MNjUSRVnPoPmAJSQ0CEIAABCAAgSIEmnGsyeuu02iWrV/tGrqyJWxE4rmpiBjUhcAVAk1Jk5JGo4aubsmcZVZABQEIQAACEIAABCAAAQhAIBQCmJVQlCAPCEAAAhCAAAQgAAEIQGAWAcwKFwQEIAABCEAAAhCAAAQgECQBzEqQspAUBCAAAQhAAAIQgAAEIIBZ4RqAAAQgAAEIQAACEIAABIIkgFkJUhaSggAEIAABCEAAAhCAAAQwK1wDEIAABCAAAQhAAAIQgECQBDArQcpCUhCAAAQgAAEIQAACEIAAZoVrAAIQgAAEIAABCEAAAhAIkgBmJUhZSAoCEIAABCAAAQhAAAIQwKxwDUAAAhCAAAQgAAEIQAACQRLArAQpC0lBAAIQgAAEIAABCEAAApgVrgEIQAACEIAABCAAAQhAIEgCmJUgZSEpCEAAAhCAAAQgAAEIQACzwjUAAQhAAAIQgAAEIAABCARJALMSpCwkBQEIQAACEIAABCAAAQhgVrgGIAABCEAAAhCAAAQgAIEgCWBWgpSFpCAAAQhAAAIQgAAEIAABzArXAAQgAAEIQAACEIAABCAQJAHMSpCykBQEIAABCEAAAhCAAAQggFnhGoAABCAAAQhAAAIQgAAEgiSAWQlSFpKCAAQgAAEIQAACEIAABDArXAMQgAAEIAABCEAAAhCAQJAEMCtBykJSEIAABCAAAQhAAAIQgABmhWsAAhCAAAQgAAEIQAACEAiSAGYlSFlICgIQgAAEIAABCEAAAhDArHANQAACEIAABCAAAQhAAAJBEsCsBCkLSUEAAhCAAAQgAAEIQAACmBWuAQhAAAIQgAAEIAABCEAgSAKYlSBlISkIQAACEIAABCAAAQhAALPCNQABCEAAAhCAAAQgAAEIBEkAsxKkLCQFAQhAAAIQgAAEIAABCGBWuAYgAAEIQAACEIAABCAAgSAJYFaClIWkIAABCEAAAhCAAAQgAAHMCtcABCAAAQhAAAIQgAAEIBAkAcxKkLKQFAQgAAEIQAACEIAABCCAWeEagAAEIAABCEAAAhCAAASCJDDLrAwPD6+N43hE0mpJA0Fm3F9JNSVNRlE0OjY2dqzsrqFv2YTnxEffypFX2iD6Voq78sbQt3LklTZYqb6V9ozGINBnBK6alS1btoxLWi9paZ/1sRe6MyXpyMGDBzeVlSz6lkU2U1z0zYSpZwuhb89Klylx9M2EqWcLla5vz5IhcQgEQmDarLgH2SiK1sdxjFGpSZgoiqbiOC7FsKBvTaImmkXf+jUoMwP0LZNu/bHRt34NysygTH3LzJvYEFgoBKIrW4MOsaIShORTURRttNwShr5B6OqTQN+g5DBPBn3NkQYVEH2DksM8GXN9zTMkIAQWKIFoy5YtxyWtWaD9D7HbJw4ePHi3VWLoa0XSLA76mqEMMhD6BimLWVLoa4YyyECm+gbZQ5KCQA8ScGblAofpg1KuefDgwRusMkJfK5JmcdDXDGWQgdA3SFnMkkJfM5RBBjLVN8gekhQEepCAMytxD+bd1ykfPHjQ7JXS6BvepYK+4WlimRH6WtIMLxb6hqeJZUaW+lrmRSwILGQCmJUA1becLDEr4QmMvuFpYpkR+lrSDC8W+oaniWVGlvpa5kUsCCxkApiVANW3nCwxK+EJjL7haWKZEfpa0gwvFvqGp4llRpb6WuZFLAgsZAKYlQDVt5wsMSvhCYy+4WlimRH6WtIMLxb6hqeJZUaW+lrmRSwILGQCmJUA1becLDEr4QmMvuFpYpkR+lrSDC8W+oaniWVGlvpa5kUsCCxkApiVANW3nCwxK+EJjL7haWKZEfpa0gwvFvqGp4llRpb6WuZFLAgsZAKYlQDVt5wsMSvhCYy+4WlimRH6WtIMLxb6hqeJZUaW+lrmRSwILGQCmJUA1becLDEr4QmMvuFpYpkR+lrSDC8W+oaniWVGlvpa5kUsCCxkApiVANW3nCwxK+EJjL7haWKZEfpa0gwvFvqGp4llRpb6WuZFLAgsZAKYlQDVt5wsMSvhCYy+4WlimRH6WtIMLxb6hqeJZUaW+lrmRSwILGQCtZiVj370o7rnnnv0C7/wC7PYf+9739Po6Oj070ZGRvS+973v6uc//elP9eUvf1mujPvXaDT0tre9TYcOHdLk5OSsOO3iT0xMaHx8vK3eq1ev1saNG/WTn/xkOn5d/ywnyzrMSoj6Oj1/6Zd+aVrSS5cutbxuqtIbfe3Hb1Lf9FxRla6+HfS119ezdTq/4x3v0FNPPaVvfOMbVUs73R762uubHL+O8b/927/Vdg+21LeWC5RGIdCHBGo1Kz/4wQ+umpMk2/QNyZmW++67T4sXL776kJnFrCTje/PTzrAkH7DrnCj76WYYir6bNm3S0NCQnPbPPffc9LV08eLFvrgZ1mlGQ9TXGRX3h5B2uVUxh1s+7KDvNcX8HO1+g1np/kr2HEMZv/7+XuecnKRpOX67V4maEIBAkkBwZqXdRJr+fV6z4idE1/nkCo37Ob0SgFkpNkjmuxnWoW+6N/NdO8V6nq225c0wtIfZuvXt9CCWTaFipdB3NNPKd/Jheb752anhP3/rW9+q//zP/8SsFLhEQ5uf/Y6Gl156qeUfLwt0tauqluO3qwSoBAEIzCEQnFlptwKS3qKV16y4nrer4ybv3/iN39B3v/vd6b/Kvvrqq7X91b3fV1bq0Dd51fsbdbPZnGNaq5ofLG+GoZmVOvVNrqDNt92zbJ3Rt5HbrMw3P7vP3HV1880365VXXtEv//IvY1YKXMTzmZU6xm/6j4X9tE23gExUhQAEEgRqNSvJMyt+gvrt3/5tvec975lzM0r/5e13f/d3O55ZSS9zd/qLup80MSvFxkirMysh6OsNr9tOmDwfVay3+Wv3y8NsaOPXKRHCuTP0/bIs5+fkX96dxq3uD/lHYfc10NdWX2eQvKbOjLpzo+5+kd4B0b1i+Wpa6puvZUpDAALtCNRqVlrtma3jLzseDmbFZqCE9pc716vkNhIOYBfTOUR9kz3q9EeJYr3vXNvyYYeVs5kV8SVLlkw/vH74wx/GrHS+BOctwfidH6Dl+C0oFdUhAIErBIIzK3Xueces2IyL0PZEu175t83UvcXA5WJ5MwztYbbO8Zs0pe6/++Evswtd3+RqaHJ2qvPcCuPX/kxSv/6xweaOShQIQCA4s5J8sPRv7vI3LPeZf1Vx3jMrWfazY1ZsBkSnQ87eOFSlr9e+zgecJNl+ftipY/wmt5G49nkbWLFxHNr4TfYmqTWvLu5O59D0bbUNrM6vD7Ccn7tTiFoQgECaQJBmxSWZ5XtW/Pdm+E75h1H/wJL+HpdO37OCWbEZIJ1uhlXrm36Hv2u/zhUWy5thaH9591dQleM3ucXPtc/b/IqN49DGL2almJ7p2qHpmx6//bRN11Y5okFg4RKoxawsXNzZet7rD7PZerlwS6Fvf2uPvuiblUAdf2zImttCLWc5fhcqQ/oNAWsCmBVrogbxLCdLboYGghiHQF9joIGFQ9/ABDFOB32NgQYWzlLfwLpGOhDoWQKYlQCls5wsMSvhCYy+4WlimRH6WtIMLxb6hqeJZUaW+lrmRSwILGQCmJUA1becLDEr4QmMvuFpYpkR+lrSDC8W+oaniWVGlvpa5kUsCCxkApiVANW3nCwxK+EJjL7haWKZEfpa0gwvFvqGp4llRpb6WuZFLAgsZAKYlQDVt5wsMSvhCYy+4WlimRH6WtIMLxb6hqeJZUaW+lrmRSwILGQCmJUA1becLDEr4QmMvuFpYpkR+lrSDC8W+oaniWVGlvpa5kUsCCxkApiVANW3nCwxK+EJjL7haWKZEfpa0gwvFvqGp4llRpb6WuZFLAgsZAKYlQDVt5wsMSvhCYy+4WlimRH6WtIMLxb6hqeJZUaW+lrmRSwILGQCmJUA1becLDEr4QmMvuFpYpkR+lrSDC8W+oaniWVGlvpa5kUsCCxkAs6sXJA0sJAhBNb35sGDB2+wygl9rUiaxUFfM5RBBkLfIGUxSwp9zVAGGchU3yB7SFIQ6EECzqwcl7SmB3Pv15RPHDx48G6rzqGvFUmzOOhrhjLIQOgbpCxmSaGvGcogA5nqG2QPSQoCPUggGh4eXhvH8SFJS3sw/35LeSqKoo1jY2PHrDqGvlYkTeKgrwnGYIOgb7DSmCSGviYYgw1irm+wPSUxCPQYgcjlu2XLlvEoitbHcYxhqUnAKIqm4jg+cvDgwU3WKaCvNdH88dA3P7NeqoG+vaRW/lzRNz+zXqpRpr69xIFcIRAqgWmz4g2LpPWssNQi1ZSkUowK+taiZ7pR9A1ChtKSQN/S0AYRGH2DkKG0JErXt7TMCQyBBULgqllx/b2yZWhE0moO3VdyBTQlTUZRNGq59atd5uhbiabJRtC3cuSVNoi+leKuvDH0rRx5pQ1Wqm+lPaMxCPQZgVlmpc/6RncgAAEIQAACEIAABCAAgR4mgFnpYfFIHQIQgAAEIAABCEAAAv1MALPSz+rSNwhAAAIQgAAEIAABCPQwAcxKD4tH6hCAAAQgAAEIQAACEOhnApiVflaXvkEAAhCAAAQgAAEIQKCHCWBWelg8UocABCAAAQhAAAIQgEA/E8Cs9LO69A0CEIAABCAAAQhAAAI9TACz0sPikToEIAABCEAAAhCAAAT6mQBmpZ/VpW8QgAAEIAABCEAAAhDoYQKYlR4Wj9QhAAEIQAACEIAABCDQzwQwK/2sLn2DAAQgAAEIQAACEIBADxPArPSweKQOAQhAAAIQgAAEIACBfiaAWelndekbBCAAAQhAAAIQgAAEepgAZqWHxSN1CEAAAhCAAAQgAAEI9DMBzEo/q0tLGMOuAAAgAElEQVTfIAABCEAAAhCAAAQg0MMEMCs9LB6pQwACEIAABCAAAQhAoJ8JYFb6WV36BgEIQAACEIAABCAAgR4mgFnpYfFIHQIQgAAEIAABCEAAAv1MALPSz+rSNwhAAAIQgAAEIAABCPQwgVlmJW5oraQRSaslDfRwv3ol9aakSUmjUUPHyk76jjvitW+8oZEoQt+yWV+J34xjTV53nUZPnozQtyLoFTaDvhXCrqEp9K0BeoVNVqpvhf0Koqnh4eG1AwMDI5cuXVp9+fJlnidLVmXRokXNxYsXTzabzdGxsbHSnzdK7s6c8FfNStzQuKT1kpZWnQTtaUrSkaihTWWxGByMx6MIfcvi2yHuVBzryOnTEfrWJEDJzaJvyYBrDo++NQtQcvOl61ty/sGF3759+/iSJUvWr1u3bunKlSu1bNmy4HLst4TOnz+vM2fO6OjRo1MXL148sm/fvtKeN+pgN21WMCp1oJ/TZmmGBaMShr5lGRb0Rd8gCPR3EqU90DJ+g7hwStM3iN5VmIQzKitWrFi/detW/vBdIfdkUwcOHJg6e/ZsXxmW6MrWr0OsqNR0Vc1u1hmWjZZbwtzWrzgW+gYhr6aiSBstt4ShbxjCXskCfYOSwzwZ9DVHGlRAc32D6l0FybitX8uXLz+0Z88ejEoFvOdrYufOnVPnzp3b2C9bwpxZOS5pTc1caf4agRNRQ3dbARkcjI9HEfpa8SwaJ4514vTpCH2Lggy0PvoGKoxRWuhrBDLQMNb6BtrN0tLasWPH8Q0bNqwZGhoqrQ0CZyMwMTGhw4cPn9i7d6/Z80a2lssp5czKBQ7TlwO3y6jNqKEbuqw7p9qqVTH6WsG0idM8dSpCXxuWIUZB3xBVscsJfe1YhhjJVN8QO1hmTtu2bbuwe/fuAc6olEk5W2x3hmXXrl3N/fv3mz1vZGu5nFLOrMTlhCZqtwSihsxeKb1qVYy+3QpRUr1TpyL0LYltCGHRNwQVyssBfctjG0JkS31D6E+VOWzZsiUeGxursknamofA8PCwDh48aPa8USdszEqd9Nu0jVkJUBTDlCxvhphRQ2GMQqGvEchAw6BvoMIYpWWpr1FKPRMGsxKWVJiVsPTou2wwK30n6awOWd4MMSvhXSvoG54mlhmhryXN8GJZ6hte78rNCLNSLt+80TEreYlRPhcBzEouXD1X2PJmiFkJT370DU8Ty4zQ15JmeLEs9Q2vd+VmhFkpl2/e6JiVvMQon4sAZiUXrp4rbHkzxKyEJz/6hqeJZUboa0kzvFiW+obXu3IzwqyUyzdvdMxKXmKUz0UAs5ILV88VtrwZYlbCkx99w9PEMiP0taQZXixLfcPrXbkZYVbK5Zs3OmYlLzHK5yKAWcmFq+cKW94MMSvhyY++4WlimRH6WtIML5alvuH1rtyMMCvl8s0bHbOSlxjlcxHArOTC1XOFLW+GmJXw5Eff8DSxzAh9LWmGF8tS3/B6V25GmJVy+eaNjlnJS4zyuQhgVnLh6rnCljdDzEp48qNveJpYZoS+ljTDi2Wpb3i9KzcjzEq5fPNGx6zkJUb5XAQwK7lw9Vxhy5shZiU8+dE3PE0sM0JfS5rhxbLUN7zelZsRZqVcvnmjY1byEkuX/51HpaHPSG968+xPXnxGGl8z87tNJ6RbPnTt8ws/kg5vkl781szvtv6TtOxG6eg26R//fHacdvGf/5L0jd9vn/1v/p60br90/ofSgV8v2suu6/e6Wfn0p6XNm6VFi2YjeO45aevWmd8dOCDdeee1z195RXrkEenb35753ZNPSu96l/T5z0vHjs2O0y7+kSPSY4+1xu7i3XrrzGc/+1nruF0LlrOi5c2wDrMSur7paymnPIWLo6/9+PWiuHF8443SV74iffGLhaXqKgD62uubnJ+dKC+8IN17b1fyFK5kqW/hZIoH2CHpoKQLxUN1jpDHrDz22GN6+OGHrwZ99tlnNTQ01LmRKyV8fV8v/fPFixf1yCOP6P7779d73/vetnFduZGREb300kt64okn9Pa3vz1zDqEXxKwUVcibiZf/7po5ScZ0RmT5e6SJP5L++mHplg9KG8altyy9Zk6ymJVkfG9+2hmWpMF59Z8xKwU09g+zzz9/zZwkw6UfON7/fulzn5MGBq6ZiCxmJRnfm59WhuWhh6T16yX32Te/OdNWs9kfN8M6zUqI+r766oxRbpdbgcs6c1XLhx30vYbdzyvuN5iVzJfjnIKhzc9+/q9zTk5Cshy/3atkVvOipDdJ2itpT9mmJatZcabgU5/61JxO5jEsaXOSDOYNyOTkpL72ta+1NSvf//739YlPfELf+c53dM8992BWzC47+0BR3FBsH7ZDxPnMSrvP0r/Pa1a84XGpJVdo3M/plRjMSqFLYr6bYbvP0r/Pa1b8Dc8lnlyhadWR+WIX6njGypY3w9AeZuvWt9ODWEaJChVD32x/eU8ayk7j13/+zndKly9jVopcoKHNz2vXSp/9rHTmTOs/bhXpazd1LcdvN+0b1/k/JX1e0nXS9LPeaJmmJYtZaWUkvHl59NFH9dBDD8mbiNWrV2vp0qV6/PHHp7F89atf1Sc/+cnp/263svLMM8/oySef1NjY2FWUyXr+lxMTE7rrrrt022236Rd/8RcVRdG8ZuX111+fbvupp56aDuHqJY2Q75dv161qjI6OasmSJdPl05+nzZFn8OCDD+rpp5+eruPiu3/eUKUZdLpWWFnpRKjT5/OZlXYrIOktWnnNisupXR2Xz4p10tmjM9vTzv2AlZVOGs7z+Xw3w3YrIP6G9eMfz6x45DUrLp0sJsTn9pOfdDY1BRDMW9XyZhiaWalT3+QKWrvtgGVpmoyLvvbj111XK1dKL78svfvdmJUi13Fo83N6W2k/bdMtopNh3dclLb8S7+dlmpYsZiVpNNIP9L7PyRWPNId22768ecljVr71rW/pD/7gDzpuA0sbDZ+TNxzXX3/9dIykQXJlfP/cf7f6PGl40qtNru4DDzygzZs3T6/8JP9lXYHCrBQdRa3OlPz8wswWr9/aLN30gWtbwHxb6ZWRD/9p5zMr6W1m8xkc147PC7NSSOFWZxr8DegjH5Fuv33uw0b6L6sPPtj5zEp6q08ns+IN0fXXS8nzM4U620XlfnmYTZ5JCkFfJ0Xa9HYhT+Eq6CtZjt/kX96dOK3mj8Ki5QiAvrb6OiPqNXVm1K2yuC1hnVbIc0iWq6ilvpIabrE/VwLVFL4s6RuSPm7ZXFaz4lc1km0nVz+8WXGf+9WL9OrLfGdWBgcHp81Bp21gLn6WMyudyvj+pM2Jb/+1116bXsVJmrN0f/zPrcp4c+JXd26++eZZqzbtNMSsFL26Q1tZ8f3BrBRVdrp+aH+5czklt5FwALuYzCHqm+xRJ9NarPeda1s+7LByNrNK486zuYfX++7DrHS+Aucvwfidn4/l+C2qlVH91yT5U+NBrKy4frVaPUlvA/vYxz42vS3M/Us/qH/hC1+YPqDfaqXF2qy49lutfPhtXv6zVtvNXN1W52vS/fn6178+fY6n1Va39HWQ9XwNZqXoCArtzApmpaiis+qHtifaJeffNlP3FgOXi+XNMLSH2brPrHQ6+2B6obcJhr75t4G10y25GprEXee5FfS107fVEOqnPzZUMd90aMOdWfm/rhyyD+LMSqt8/cO+fwh3KxHunIY7s+INQd1mxeedfIuZ38Z18uTJOUYj2U/fv+T2rSJmJX1ept01gFkpOgKzvA3sHb8m+Td3+fMqrl3/quK8Z1Y++mfS7fdfi9mqD6ysFFV2un6nQ87eOPg3d/kHElfXv6o475mV+c4r+M/qfMBJgu3nh52kMaxK3+Q2Etc+bwMrNoxDG7/J3iS15tXF3ekcmr6ttoH5s4vd9bBYLcv5uVgmJrWDexuYf0h3vfOvCk7/zpsVVyaEbWDzGSy3EuK2ZbltXskVj+RqiqufdRtYcmWllcnJc1VgVvLQms8UtHt1sauT5XtWnKFJ/vuvn8+cdXH/Wn2PS6fvWcGsFFU2k1lxhbJ8z4r/XhSflDcb/oE0/T0u7b5nJf0Of1e/zhUWy5thaCsrXqsq9U1u8XPt1/kdDa599L22kpmcULodv5gVk2n5apBOZqXq+Tk9fvtpm66tcl1FC/J7VtLfseJ7lt4Glj5Y7sp1OmDvPvfbwPyBdx+3FcFO51FcnfSbwHwcv8Jx0003mR2wb3V2J81hvv4k+4hZ6WrMUCkrgV7/Usis/Vyo5Xr9YXah6pa13+iblVRvlkPf3tQta9aW+mZts1/KZT1g7/qbNizJB/Airy72ZiZ5iL+oWWlnWJLbujq9mrjT5+3OvaTP9rR7g1qrawiz0i8jK9B+YFYCFcYoLcubYR0rK0YY+jYM+vattNMdQ1/07W8C3fcuj1mZr5WkWUl+V0n3mS3MmpiVhal7Zb3GrFSGupaGeNipBXtljaJvZahraQh9a8FeWaOW+laWdCANYVYCEeJKGpiVsPTou2wwK30n6awOWd4MWVkJ71pB3/A0scwIfS1phhfLUt/welduRpiVcvnmjY5ZyUuM8rkIYFZy4eq5wpY3Q8xKePKjb3iaWGaEvpY0w4tlqW94vSs3IyuzUm6WCyc6ZmXhaF1LTzErtWCvrFHLmyFmpTLZMjeEvplR9WRB9O1J2TInbalv5kb7pCBmJSwhMSth6dF32WBW+k7SWR2yvBliVsK7VtA3PE0sM0JfS5rhxbLUN7zelZsRZqVcvnmjY1byEqN8LgKYlVy4eq6w5c0QsxKe/OgbniaWGaGvJc3wYlnqG17vys0Is1Iu37zRMSt5iVE+FwHMSi5cPVfY8maIWQlPfvQNTxPLjNDXkmZ4sSz1Da935WaEWSmXb97omJW8xCifiwBmJReunitseTPErIQnP/qGp4llRuhrSTO8WJb6hte7cjPCrJTLN2/0fjMrFyQN5IVA+dIINKOGbrCKvmpVjL5WMG3iNE+ditDXhmWIUdA3RFXsckJfO5YhRjLVN8QOlpnTtm3bLuzevXtg2bJlZTZD7AwEzp8/r127djX3799v9ryRodnSikRxQ8clrSmtBQLnJXAiaujuvJXalR8cjI9HEfpa8SwaJ4514vTpCH2Lggy0PvoGKoxRWuhrBDLQMNb6BtrN0tLasWPH8Q0bNqwZGhoqrQ0CZyMwMTGhw4cPn9i7d6/Z80a2lssp5czKWkmHJC0tpwmi5iAwJWlj1NCxHHXmLXrHHfHaOEZfK54F40xFkTaePBmhb0GQgVZH30CFMUoLfY1ABhrGXN9A+1laWsPDw2uXL19+aM+ePTxPlkY5W+CdO3dOnTt3buPY2JjZ80a2lsspFbmwcUPjktZjWMqBnDGqMypHooY2ZSyfudjgYDweReibGVg5BafiWEdOn47Qtxy+dUdF37oVKLd99C2Xb93RS9O37o5V3f727dvHV6xYsX7r1q0YlqrhX2nvwIEDU2fPnj2yb98+8+eNmrqkabOCYakL/9V2SzMqvgUMS60al34jRF/0rZVAfzfO+EXf/iZg3DtnWJYsWbJ+3bp1S1euXCnOsBgDbhHOnVE5c+aMjh49OnXx4sW+Miquu1fNyhXD4raEjUhazaH78i8uSU1Jk5JGLbd+tcvcbQl74w2NRBH6VqKu1IxjTV53nUYtt36hb0XqdW4GfTsz6uUS6NvL6nXOvVJ9O6fTXyXclrCBgYGRS5curb58+TIvcSpZ3kWLFjUXL1482Ww2R/tl61cS2SyzUjJLwkMAAhCAAAQgAAEIQAACEMhMALOSGRUFIQABCEAAAhCAAAQgAIEqCWBWqqRNWxCAAAQgAAEIQAACEIBAZgKYlcyoKAgBCEAAAhCAAAQgAAEIVEkAs1IlbdqCAAQgAAEIQAACEIAABDITwKxkRkVBCEAAAhCAAAQgAAEIQKBKApiVKmnTFgQgAAEIQAACEIAABCCQmQBmJTMqCkIAAhCAAAQgAAEIQAACVRLArFRJm7YgAAEIQAACEIAABCAAgcwEMCuZUVEQAhCAAAQgAAEIQAACEKiSAGalStq0BQEIQAACEIAABCAAAQhkJoBZyYyKghCAAAQgAAEIQAACEIBAlQQwK1XSpi0IQAACEIAABCAAAQhAIDMBzEpmVBSEAAQgAAEIQAACEIAABKokgFmpkjZtQQACEIAABCAAAQhAAAKZCWBWMqOiIAQgAAEIQAACEIAABCBQJQHMSpW0aQsCEIAABCAAAQhAAAIQyEwAs5IZFQUhAAEIQAACEIAABCAAgSoJYFaqpE1bEIAABCAAAQhAAAIQgEBmArPMyh13xGvfeEMjUaTVkgYyR6FgtwSacazJ667T6MmT0bFug2StFze0VtKIhL5ZmRUs15Q0KWk0aqh0fRm/BdXKX73S8Yu++QUqWAN9CwIMvHql+gbOwjy94eHhtQMDAyOXLl1affnyZZ4nzQnPDrho0aLm4sWLJ5vN5ujY2Fjpzxsld2dO+KtmZXAwHo8irZe0tOokaE9Tcawjp09Hm8piETc0LqFvWXw7xJ2SdCRqqDR9Gb81KTvTbOnjF33Rt1YC/d146eO3v/HN7d327dvHlyxZsn7dunVLV65cqWXLli00BJX39/z58zpz5oyOHj06dfHixSP79u0r7Xmj8s5JmjYr3AjrQD+nzdImTIxKGPqWZVgYv2HoW9YfHNAXfYMg0N9JlHb/7W9srY3KihUr1m/dupU/fNck/oEDB6bOnj3bV4YlclsL4liHWFGp6aqa3exUFGmj5ZawK1u/0DcIeeVWWDZabglj/IYh7JUszMcv+qJvUAT6Oxnz8dvfuOb2zm39Wr58+aE9e/ZgVGoWf+fOnVPnzp3b2C9bwqLBwfh4FGlNzVxp/gqBONaJ06eju62AxA0dl9DXiqdBnBNRQ2b6Mn4NFDEMYT1+0ddQHINQ6GsAMeAQ1voG3NVSUtuxY8fxDRs2rBkaGiolPkGzE5iYmNDhw4dP7N271+x5I3vr9iWjVaviCxymtwdbIGLz1KnohgL1Z1WNG0JfK5g2cZpRQ2b6Mn5tRDGMYjp+0ddQGZtQ6GvDMdQopvqG2smy8tq2bduF3bt3D3BGpSzC2eO6Myy7du1q7t+/3+x5I3vr9iWdWYntwxKxCIFTpyKzV0rHDaFvETFKqBs1Zs6KWfxj/FpQtI1hOX7R11Ybi2joa0Ex3BiW+obby3Iy27JlSzw2NlZOcKLmJjA8PKyDBw+aPW/kTsCwAmbFEKZVKMvJErNipYpdHMyKHcsQI1mOX8xKeAqjb3iaWGZkqa9lXr0QC7MSlkqYlbD06LtsLCdLzEp4lwdmJTxNLDOyHL+YFUtlbGKhrw3HUKNY6htqH8vKC7NSFtnu4mJWuuNGrYwELCdLzEpG6BUWw6xUCLuGpizHL2alBgE7NIm+4WlimZGlvpZ59UIszEpYKmFWwtKj77KxnCwxK+FdHpiV8DSxzMhy/GJWLJWxiYW+NhxDjWKpb6h9LCsvzEpZZLuLi1npjhu1MhKwnCwxKxmhV1gMs1Ih7Bqashy/mJUaBGRlJTzoFWZkOX4rTDuIpjArQchwNQnMSlh69F02lpMlZiW8ywOzEp4mlhlZjl/MiqUyNrHQ14ZjqFEs9Q21j2XlhVkpi2x3cTEr3XGjVkYClpMlZiUj9AqLYVYqhF1DU5bjF7NSg4CsrIQHvcKMLMdvhWkH0RRmJQgZWFkJS4b+zcZyssSshHedYFbC08QyI8vxi1mxVMYmFvracAw1iqW+ofaxrLwwK2WR7S4uKyvdcaNWRgKWkyVmJSP0CothViqEXUNTluMXs1KDgKyshAe9wowsx2+FaQfRFGYlCBlYWbGS4dOfljZvlhYtmh3xueekrVtnfnfggHTnndc+f+UV6ZFHpG9/e+Z3Tz4pvetd0uc/Lx07NjtOu/hHjkiPPda+F2vXSp/9rPTjH0v33mvV2/xxLCfLWszK7zwqDX1GetObZ3f+xWek8TUzv9t0QrrlQ9c+v/Aj6fAm6cVvzfxu6z9Jy26Ujm6T/vHPZ8dpF//5L0nf+P3WwF28d/zazGc/v9A6bn6puqrR62YlxPHr5oNbb52RIz1XdCVSgUqW47cOsxKivl4Op/ONN0pf+Yr0xS8WEKlAVfS1v/8mx6+T5oUX6rsHW+pb4DKzqnpI0pcknbAKOF+cPGblscce08MPP3w13LPPPquhoaHMafr6vl7654sXL+qRRx7R/fffr/e+970t437/+9/XJz7xCX3nO9+Z/vyrX/2qPvnJT2bOIfSCrKwUVMjfDJ9//po5SYZM35De/37pc5+TBgaumZMsZiUZ35ufdoYleYOuc6J0HCwny1rNyst/d82cJAV2xmH5e6SJP5L++mHplg9KG8altyy9ZiKymJVkfG9+WhmWj/6ZdPv9kvvsu//PTFuXzksHfr3gldxd9X4xK6GM34cektavl9zYfvXVmT+EtMutO8Xy1bIcv3WalVD09fT9HO1+xqzkuyaTpUO7//r7e7NZn0FJ8rEcv92rZFbzR5LeKuk5SbvLNi1ZzcoTTzyhT33qU3M6mcewpM1JMpgzKiMjI5qcnNTXvva1lmYlbVR8/Tw5mKlUUiDMSkGw802W7T5L/z6vWfEToks9uULjfk7/JRGzUlBgv/LRyqy0+yz9+7xmxRsel3pyhaZVV+aLXbDrWar3s1mpY/zmeRDLok/RMpYPO6GZlbr09fP3O98pXb6MWSlyjYZ2//U7Gs6caf3HyyJ97aau5fjtpn3jOh+/srKyVNJ5Sc+XaVqymJVWRsKbl0cffVQPPfSQvJFYvXq1li5dqscff3waS3Llo93KyjPPPKMnn3xSY2NjV1G2WjHxbfrP0jmkdXj99denV12eeuqp6Y9uu+22WUbI98u364zC6OiolixZMl0+/fk999wj1+bb3/726c99+w8++KCefvrp6d85o+X+dbv6g1kpOJrmmyzbrYCkt2jlNSsu5XZ1XD533SU9++zMX2V/+MN6/8JjOVkGt7LSbgXkN39PWrdfOv/DmRWPvGbFCZzFhHhT9LNXO5uagtd5u+r9bFbqGL+ec3KFZb7tniXJejWs5fgNzazUpa9rd+VK6eWXpXe/G7NS5BoO8f6b3Bb+s5+13t5dpM956lqOX0kfyNN2SWWfkHRjIvZPJf2DpD+W9JeWbWYxK649bzTSD/Q+l3arHu7zdtu+fMysZsWV/4u/+IurhmNiYkJ33XVXy61gaaPh8/SG4/rrr59eyUkaJFfG98/9d6vPk4Ynvdrk6j7wwAPavHnz1W1qvt2sqz+YlYJXd6s90X6C+shHpNtvn3szSq+MPPhg5zMr6W0M8xkc1yWfF2aloMCtzpT4cyK/tVm66QPXtoD5ptIrIx/+085nVtIrN53MijdEb75BSp6fKdjdvNX7xawkz5yFMH6dDiGcO7N82KnTrISib/Iv707jVveHvGOwSHn0lSzvv86Iek2dGXXnRt2WsPQOiCKa5alrqa+khqQP5mm/hLIrJb0tFfc/JB1xf7S3bC+rWfHGINl2cvXDmxX3ud/GlV75mO/MyuDgYMdtYMm2O20b85+/9NJLs1ZDfAzfn7Q58dvQXnvttWkjlDRn6f74n1uV8ebEr+7cfPPNs1Zt2mmIWSl4dYf2lx3fHcxKQWF99fm2gdW1suLN0A2/IqUP8xt1O2uYfjErrc401PWX9yT7Tn+UyKpTt+UsH3bqNCuh6Ov0dOcV3cPrffdhVrq9LtP3uVD0Tfenn8ZvUa0M6r9L0r9Kiq7E+ndJ35P0h5K+aRB/VoisZsVVarV6kt4G9rGPfWx6W5j7l35Q/8IXvjB9QL/VSkses5JcNZlvxaLVyoff5pXeUpbm2up8Tbo/X//616fP8bTa6paOl95ChlmxvpKvxAttzyxmxVjoEM+s+LeB1fwmMEe6n81KXWca/BU839k046u8bbh+NitV6+tXVa6/fjbuOs+toG+2t4ElzVCecYlZMZ2p/kTSA5LcSoozKe7J/69MW0gEy2NWkjn4h33/EO5WItw5DXdmxRuCMsxKVqOSzDX5FjO/jevkyZNzjEar/iXNUBGzkj4vg1kp6YrO8jYS9xpS/+Yuf8Ny6fhXFec9s5JlPzsrK0aCz2dWXBPeOPg3d/ntWe4z/6rivGdWkm/8Sr++2H/2Xz+fu/3MqMt5wvSzWXEc/GtIqxq/yW0krn3eBpbnapxbNtT52WWa1JpXF3enc2j6ttoGVufXB1ia0e4UMqvlVlV+4N4ELekzZZoUn3EWs+If0l0df8A8/TtvVlyZsraBdWNUWhkQtxLitmW5bV7JFY/kaoqrl3UbWHJlxZu4rGdU0lcO28AKjqVOk6W/KXX6nhX/vQo+Hf/XNv/Akv4el07fs4JZKSisr97JrLhyWb5nxX8vio/rzYb7udX3uLT7npXkd6z4WDWusPS7Wal6/CbfFOXa7qe3+YW2DcwPnyzfg2U9P2NWbObn0O6/6fHbT9+TZKNYoSj3SJp5fVUF/7KYFZdG+jtWfGrpbWD++0+SqXc6YO8+99vA/IF3H7eV2UhjaVU2/SYwX8evcNx0001mB+xbnd1Jc2iVYyt5MSsVXPQLuQnLv+zU8jawhSxehr73ulnJ0MUFXcRy/NZhVha0eBk6j74ZIPVwEUt9exhDV6lnNSutDEvyAbzIq4u9mUke4k8/3Ld7u5fLq50RaGVYkisenV5N3Onzdude0md72r1BDbPS1SVLpSIELCdLzEoRJcqpi1kph2soUS3HL2YlFFWv5YG+4WlimZGlvpZ59UKsPGZlvv4kzUryu0p6gUFIObKyEpIafZiL5WSJWQnvAsGshKeJZUaW4xezYqmMTSz0teEYahRLfUPtY1l5YVbKIttdXMxKd9yolZGA5WSJWckIvcJimJUKYdfQlOX4xazUIGCHJtE3PE0sM7LU1zKvXoiFWer1A6oAACAASURBVAlLJcxKWHr0XTaWkyVmJbzLA7MSniaWGVmOX8yKpTI2sdDXhmOoUSz1DbWPZeVlZVbKym+hxcWsLDTFK+6v5WSJWalYvAzNYVYyQOrhIpbjF7MS3oWAvuFpYpmRpb6WefVCLMxKWCphVsLSo++ysZwsMSvhXR6YlfA0sczIcvxiViyVsYmFvjYcQ41iqW+ofSwrL8xKWWS7i4tZ6Y4btTISsJwsMSsZoVdYDLNSIewamrIcv5iVGgTs0CT6hqeJZUaW+lrm1QuxMCthqYRZCUuPvsvGcrLErIR3eWBWwtPEMiPL8YtZsVTGJhb62nAMNYqlvqH2say8MCtlke0uLmalO27UykjAcrLErGSEXmExzEqFsGtoynL8YlZqEJCVlfCgV5iR5fitMO0gmsKsBCHD1ST6zaxckDQQFuIFnU3z1KnoBisCcUPoawXTJk4zashM31WrYvS10cUqiun4RV8rWczioK8ZyiADmeobZA9LTGrbtm0Xdu/ePbBs2bISWyF0FgLnz5/Xrl27mvv37zd73sjSblllosHB+HgUaU1ZDRA3H4E41onTp6O789VqXzpu6LiEvlY8DeKciBoy05fxa6CIYQjr8Yu+huIYhEJfA4gBh7DWN+CulpLajh07jm/YsGHN0NBQKfEJmp3AxMSEDh8+fGLv3r1mzxvZW7cvGd1xR7w2jnVI0lL78ETMSWAqirTx5MnoWM56bYvHDa2V0NeKZ8E4U5I2Rg2Z6cv4LaiIbXXz8Yu+tgIVjIa+BQEGXt1c38D7a57e8PDw2uXLlx/as2cPz5PmdPMF3Llz59S5c+c2jo2NmT1v5MvAtnTkwg0OxuNRpPUYFlu4OaNNxbGOnD4dbcpZr2PxuKFxCX07giq3gDMqR6KGzPVl/JYrXMbopY1f9M2oQLnF0LdcvnVHL03fujtWdfvbt28fX7FixfqtW7diWKqGf6W9AwcOTJ09e/bIvn37zJ83auqSps0KhqUu/FfbLX2ixLDUqnFpRoXxW6uuvvHSxy+GpVad0bdW/KU3Xrq+pfcgsAacYVmyZMn6devWLV25cqU4w1K+QO6MypkzZ3T06NGpixcv9pVRcfSumhX3g9ty8MYbGokirebQffkXl6RmHGvyuus0arn1q13mV7aEjUjoW4m6UlPSpKRRy61f7XJn/Fak6rVmKh2/6Iu+lRPo7wYrHb/9jXJu79yWsIGBgZFLly6tvnz5Mi9xKvkCWLRoUXPx4sWTzWZztF+2fiWRzTIrJbMkPAQgAAEIQAACEIAABCAAgcwEMCuZUVEQAhCAAAQgAAEIQAACEKiSAGalStq0BQEIQAACEIAABCAAAQhkJoBZyYyKghCAAAQgAAEIQAACEIBAlQQwK1XSpi0IQAACEIAABCAAAQhAIDMBzEpmVBSEAAQgAAEIQAACEIAABKokgFmpkjZtQQACEIAABCAAAQhAAAKZCWBWMqOiIAQgAAEIQAACEIAABCBQJQHMSpW0aQsCEIAABCAAAQhAAAIQyEwAs5IZFQUhAAEIQAACEIAABCAAgSoJYFaqpE1bEIAABCAAAQhAAAIQgEBmApiVzKgoCAEIQAACEIAABCAAAQhUSQCzUiVt2oIABCAAAQhAAAIQgAAEMhPArGRGRUEIQAACEIAABCAAAQhAoEoCmJUqadMWBCAAAQhAAAIQgAAEIJCZAGYlMyoKQgACEIAABCAAAQhAAAJVEsCsVEmbtiAAAQhAAAIQgAAEIACBzAQwK5lRURACEIAABCAAAQhAAAIQqJIAZqVK2rQFAQhAAAIQgAAEIAABCGQmMMus3HFHvPaNNzQSRVotaSBzFAp2S6AZx5q87jqNnjwZHes2SNZ66JuVlFm5SvWNG1oraURi/JopOH+gpqRJSaNRQ4zfiqBX2Eyl45f5uUJlZ5qqVN/Ke1dzg8PDw2sHBgZGLl26tPry5cs8T5asx6JFi5qLFy+ebDabo2NjY6Xfj0ruzpzwV83K4GA8HkVaL2lp1UnQnqbiWEdOn442lcUCfcsimylu6frGDY1LjN9MatgXmpJ0JGqI8WvPNoSIpY9f5udaZS5d31p7V0Pj27dvH1+yZMn6devWLV25cqWWLVtWQxYLq8nz58/rzJkzOnr06NTFixeP7Nu3r7T7UR1kp80KE2Ud6Oe0WdqEib79rS9GJQx9yzIsjN8w9C3rD0ro29/6BtG7CpNwRmXFihXrt27dyh++K+SebOrAgQNTZ8+e7SvDErml5zjWIVZUarqqZjc7FUXaaLklDH2D0NUnYa7vla1fjN8wZHYrLBstt4QxfsMQ9koW5uMXfftb36B6V0EybuvX8uXLD+3ZswejUgHv+ZrYuXPn1Llz5zb2y5awaHAwPh5FWlMzV5q/QiCOdeL06ehuKyDoa0XSJo61vnFDxyXGr406JlFORA0xfk1QhhfEevwyP4elsbW+YfWu/Gx27NhxfMOGDWuGhobKb4wW5iUwMTGhw4cPn9i7d6/Z/ahO5NGqVfEFDtPXKcGctpunTkU3WGWEvlYkzeKY6hs3xPg1k8YkUDNqiPFrgjLIIKbjl/k5OI1N9Q2udyUntG3btgu7d+8e4IxKyaAzhHdnWHbt2tXcv3+/2f0oQ7OlFXFmJS4tOoG7InDqVGT2Smn07UqCUitZ6hs3xPgtVa38waOGGL/5sfVMDcvxy/wcnuyW+obXu3Iz2rJlSzw2NlZuI0TPTGB4eFgHDx40ux9lbriEgpiVEqAWDWk5WXIzLKqGfX1LfTEr9voUjYhZKUow7PqW45f5OTytLfUNr3flZoRZKZdv3uiYlbzEKJ+LgOVkyc0wF/pKClvqi1mpRLJcjWBWcuHqucKW45f5OTz5LfUNr3flZoRZKZdv3uiYlbzEKJ+LgOVkyc0wF/pKClvqi1mpRLJcjWBWcuHqucKW45f5OTz5LfUNr3flZoRZKZdv3uiYlbzEKJ+LgOVkyc0wF/pKClvqi1mpRLJcjWBWcuHqucKW45f5OTz5LfUNr3flZoRZKZdv3uiYlbzEKJ+LgOVkyc0wF/pKClvqi1mpRLJcjWBWcuHqucKW45f5OTz5LfUNr3flZoRZKZdv3uiYlbzEKJ+LgOVkyc0wF/pKClvqi1mpRLJcjWBWcuHqucKW45f5OTz5LfUNr3flZoRZKZdv3uiYlbzEKJ+LgOVkyc0wF/pKClvqi1mpRLJcjWBWcuHqucKW45f5OTz5LfUNr3flZoRZKZdv3uiYlbzEKJ+LgOVkyc0wF/pKClvqi1mpRLJcjWBWcuHqucKW45f5OTz5LfUNr3flZoRZKZdv3uiYlbzEKJ+LgOVkyc0wF/pKClvqi1mpRLJcjWBWcuHqucKW45f5OTz5LfUNr3flZoRZKZdv3uiYlbzEUuU//Wlp82Zp0aLZHzz3nLR168zvDhyQ7rzz2uevvCI98oj07W/P/O7JJ6V3vUv6/OelY8dmx2kX/8gR6bHH2ie/dq302c9KP/6xdO+9BTtZoLrlZFnHzTBEfd31cuutM6L87Getr5sCkuWqaqlvLWbldx6Vhj4jvenNs/v94jPS+JqZ3206Id3yoWufX/iRdHiT9OK3Zn639Z+kZTdKR7dJ//jns+O0i//8l6Rv/H5r1i7eO35t5rN0W7nUKV64181KiOPXq+LG8Y03Sl/5ivTFLxbXqpsIluOX+fna/dzPz+43L7xQ3z3YUt9uri/jOockfUnSCeO4LcPlMSuPPfaYHn744atxnn32WQ0NDWVO09f39dI/X7x4UY888ojuv/9+vfe9720Z94knntCnPvWp6c/uueceuZ/f/va3Z84h9IKYlYIK+Zvh889fMyfJkOkb0vvfL33uc9LAwLWHzCxmJRnfm592hiV5g65zonQcLCfLOm+Goej70EPS+vWS0/6b35y5lprN/rgZ1mpWXv67a+YkOYCdcVj+Hmnij6S/fli65YPShnHpLUuvmZMsZiUZ35ufVoblo38m3X6/5D678K8zRqpdbgXnrizV+8WshDJ+PXM/R7ufMStZrsTWZUK7//r7e51zcpKU5f23e5XMav5I0lslPSdpd9mmJatZSZqEZE/zGJa0OUnGcUZlZGREk5OT+trXvtbSrExMTOiuu+6aBbrfDAtmpeA4mm+ybPdZ+vd5zYqfEF3qyRUa93P6L4mYlWICh6ZvujfzXTvFep6ttuXNMDiz4ldF0mYh/fu8ZsUbHoc4uUKTRt6u/WzSmJTqZ7NSx/zsRPHz9zvfKV2+jFkpcqGGNj/7HQ1nzrT+42WRvnZT13J+7qZ94zofv7KyslTSeUnPl2laspiVVkbCm5dHH31UDz30kL7//e/rE5/4hFavXq2lS5fq8ccfn8by1a9+VZ/85Cen/7vdysozzzyjJ598UmNjY1dRJuv5XybrDw4OdjQ3r7/++nTbTz311HSI2267bZYR8v3y7TqjMDo6qiVLlkyXT3+eNkaewYMPPqinn356uo4zWu6fY/Gd73xnDoNO1wpmpROhDp/PN1m2WwFJb9HKa1ZcSu3quHycwX722ZntaT/8YX1/dXd5Wk6Woa2s1KFv8nL0195PfjLXtBa8rDNXt9Q3OLPSbgXkN39PWrdfOv9D6cCvZ9sGljY88xkcRz+5wtJuu1hmlbov2M9mpa7x69pduVJ6+WXp3e/GrHR/dV7741yrlbM69E3/sbCftulK+kARrYzqPiHpxkSsn0r6B0l/LOkvjdqYDpPFrCSNRvqB3ufizYp/QE/m2G7blzcfWc1KMqY3Eu53SYPhy6SNhv+9NxzXX3/9tNlJGiRXxvfP/Xerz5OGJ73a5Oo+8MAD2rx581Wj4tvNugKFWSl4dbfaE+0nqI98RLr99rk3o/TKyIMPdj6zkp6MO/1F3eeFWSkmcKj6esN7/fVS8nxUsd7mr903ZiV5ZuXnF2a2eP3WZummD1zbAubxpFdGPvynnc+s5DUrrq20KcovT+Ea/WJWkmcK65yfk395d+K0uj8UFi1HAMvxW+cfk0LR1xkkr6kzo+7cqNsSlt4BkUOiQkUt9ZXUkPTBQgkVr7xS0ttSYf5D0hH3R/vi4a9FyGpWWm3BSq5+eLPiIvttXOnVl/nOrGRZKUkbI7eK08qouHLerLz00kstz7X4/qTNid+G9tprr01vOUuas3R//M+tynhz4ld3br755ra5JvXErBS8ukNbWfHdwawUFPZK9RD1TW4jSb+swabX2aNY3gxZWWnBvdMKTHapuirZL2YllL+8uz8yufOK7uH1vvswK11dlIlKIc7PyT51+qNi0f53qm85P3dqq4LP3yXpXyVFV9r6d0nfk/SHkr5p3X5Ws+LabbV6kt4G9rGPfWx6W5j7l35Q/8IXvjB9QL/VSkses+IZeLPQbtWi1cqHNzf+s1bbzVz8Vudr0v35+te/Pn3Yv9VWt7ROWc/WYFYKXuGh7ZnFrBQUNFU9RH3928Dq3mLgUFneDIMzK3WfWcl6tsX2kp8VrZ/NStVnVpKroUnIdZ5bsRy/da6stDKjVevbahhiVkwnpz+R9IAkt5LiTIp78v8r0xYSwfKYlWQO/mHfP4S7lQh/ZsUbAkuz4mO5HPwbwPzqiDdM7Rgl32Lmt3GdPHlyjtFo1b+kESpiVtLnZdrlilkpeKVneRuJe42hf3OXv2G5Zv2rivOeWUm+Eard64tZWSko7JXqoenrta/zASdJ1vJhJziz4jrqXyPs39zlt2a5z/yrivMesJ/vPIo7J+O3nrk2eBtYoYEc2vhNdia5ZYhXF3cnc2j6ttoGVufXB1jOz90pZFbLrar8wL0JWtJnyjQpPuMsZqWVUUj/zpsVF7esbWDedPiVjPTPnVRIrqa4bVlum1dyxSO5muJiZd0GllxZ6bTa0ylHzEonQh0+7zRZuupZvmcl+V52V8c/jLr/bvU9Lp2+ZwWzUlDYjGalan2T37Hie1jnCovlzTBIs+IgZ/meFf+9KF6U//r5zFkXbzjS3+PS7ntW/GrKDb8yU/fVf545xF/Tv35eWfFI65if/bzBmZViF3Zo99/kFl3Xs37apltMKZPa90iaeX1VBf+ymBWXRvo7Vnxq6W1g3Rywd6sXfhuYP/DearWk1bmZdisW6TeB+Xx9+ZtuusnsgH2rsztpDp1Wf3x+mJUKLvqF3ITlw2wd2wwWsnZZ+m6pby1mJUsnF3CZXjcrC1i6TF23HL/Mz5mQV1rIUt9KEw+gsaxmpZVhST6AF3l1sd9qlTQj7R7uk2U6ba1qZViS27o6vZq40+ftzr2kz/a0e4NaK/kxKwEMin5OwXKy5GYY3pViqS9mJTx9MSvhaWKZkeX4ZX62VMYmlqW+Nhn1TpQ8ZmW+XiXNSrs3dPUOlfoyxazUx35BtGw5WXIzDO+SsdQXsxKevpiV8DSxzMhy/DI/WypjE8tSX5uMeicKZiUsrTArYenRd9lYTpbcDMO7PCz1xayEpy9mJTxNLDOyHL/Mz5bK2MSy1Ncmo96JglkJSyvMSlh69F02lpMlN8PwLg9LfTEr4emLWQlPE8uMLMcv87OlMjaxLPW1yah3oliZld7pcdiZYlbC1qfns7OcLLkZhnc5WOqLWQlPX8xKeJpYZmQ5fpmfLZWxiWWpr01GvRMFsxKWVpiVsPTou2wsJ0tuhuFdHpb6YlbC0xezEp4mlhlZjl/mZ0tlbGJZ6muTUe9EwayEpRVmJSw9+i4by8mSm2F4l4elvpiV8PTFrISniWVGluOX+dlSGZtYlvraZNQ7UTArYWmFWQlLj77LxnKy5GYY3uVhqS9mJTx9MSvhaWKZkeX4ZX62VMYmlqW+Nhn1ThTMSlhaYVbC0qPvsrGcLLkZhnd5WOqLWQlPX8xKeJpYZmQ5fpmfLZWxiWWpr01GvRMFsxKWVv1mVi5IGggL8YLOpnnqVHSDFYFVq2L0tYJpE8dU37gh9LXRxSpKM2qI8WtFM7w4puOX+Tk4gU31Da53JSe0bdu2C7t37x5YtmxZyS0RvhOB8+fPa9euXc39+/eb3Y86tVnm59HgYHw8irSmzEaInZ1AHOvE6dPR3dlrzF8Sfa1I2sSx1jdu6LjE+LVRxyTKiaghxq8JyvCCWI9f5uewNLbWN6zelZ/Njh07jm/YsGHN0NBQ+Y3RwrwEJiYmdPjw4RN79+41ux/ViTy64454bRzrkKSldSZC29MEpqJIG0+ejI5Z8UBfK5Imccz1jRtaKzF+TdQpHmRK0saoIcZvcZYhRjAfv8zPQclsrm9QvasgmeHh4bXLly8/tGfPHp4nK+A9XxM7d+6cOnfu3MaxsTGz+1GdXYpc44OD8XgUaT2GpU4pNBXHOnL6dLTJOgv0tSbaVbzS9I0bGpcYv12pYlfJGZUjUUOMXzumIUUqbfwyPwchc2n6BtG7CpPYvn37+IoVK9Zv3boVw1Ih92RTBw4cmDp79uyRffv2md+PauqSps0KhqUu/FfbLX2i5IZYq8al64thqVffsowK83OtuvrGSx+/zM+16ly6vrX2robGnWFZsmTJ+nXr1i1duXKlOMNSvgjujMqZM2d09OjRqYsXL/aVUXH0rpoV94Nbkn7jDY1EkVZz6L78i0tSM441ed11GrXc+tUuc/StRNNkI5Xqe2VL2IjE+K1I6aakSUmjllu/GL8Vqde5mUrHL/NzZ0GMS1Sqr3HuwYdzW8IGBgZGLl26tPry5cu8xKlkxRYtWtRcvHjxZLPZHO2XrV9JZLPMSsksCQ8BCEAAAhCAAAQgAAEIQCAzAcxKZlQUhAAEIAABCEAAAhCAAASqJIBZqZI2bUEAAhCAAAQgAAEIQAACmQlgVjKjoiAEIAABCEAAAhCAAAQgUCUBzEqVtGkLAhCAAAQgAAEIQAACEMhMALOSGRUFIQABCEAAAhCAAAQgAIEqCWBWqqRNWxCAAAQgAAEIQAACEIBAZgKYlcyoKAgBCEAAAhCAAAQgAAEIVEkAs1IlbdqCAAQgAAEIQAACEIAABDITwKxkRkVBCEAAAhCAAAQgAAEIQKBKApiVKmnTFgQgAAEIQAACEIAABCCQmQBmJTMqCkIAAhCAAAQgAAEIQAACVRLArFRJm7YgAAEIQAACEIAABCAAgcwEMCuZUVEQAhCAAAQgAAEIQAACEKiSAGalStq0BQEIQAACEIAABCAAAQhkJoBZyYyKghCAAAQgAAEIQAACEIBAlQQwK1XSpi0IQAACEIAABCAAAQhAIDMBzEpmVBSEAAQgAAEIQAACEIAABKokgFmpkjZtQQACEIAABCAAAQhAAAKZCcwyK3fcEa994w2NRJFWSxrIHIWC3RJoxrEmr7tOoydPRse6DZK1HvpmJWVWDn3NUAYZqFJ944bWShqRmJ8ruhqakiYljUYNMT9XBL3CZiodvxX2K4imhoeH1w4MDIxcunRp9eXLl3meLFmVRYsWNRcvXjzZbDZHx8bGSp+vSu7OnPBXzcrgYDweRVovaWnVSdCepuJYR06fjjaVxQJ9yyKbKS76ZsLUs4VK1zduaFxifq7pCpmSdCRqiPm5JgFKbrb08Vty/sGF3759+/iSJUvWr1u3bunKlSu1bNmy4HLst4TOnz+vM2fO6OjRo1MXL148sm/fvtLmqzrYTZsVHmTrQD+nzdImTPRF3yAI9HcSpY1fjEoQF05phoX5OQx9y/6DYRC9rCAJZ1RWrFixfuvWrfzhuwLerZo4cODA1NmzZ/vKsERua1Ac6xArKjVdVbObnYoibbTcEoa+Qejqk0DfoOQwT8Zc3ytbv5ifzaXqKqAzLBstt4QxP3elQ1mVzMdvWYmGGtdt/Vq+fPmhPXv2YFRqFmnnzp1T586d29gvW8KiwcH4eBRpTc1caf4KgTjWidOno7utgKCvFUmbOOhrwzHUKNb6xg0dl5ifA9L7RNQQ83NAglimYj1+LXPrhVg7duw4vmHDhjVDQ0O9kG5f5zgxMaHDhw+f2Lt3r9l8VSewaNWq+AKH6euUYE7bzVOnohusMkJfK5JmcdDXDGWQgUz1jRtifg5L5mbUEPNzWJpYZmM6fi0T64VY27Ztu7B79+4BzqjUr5Y7w7Jr167m/v37zearOnvlzEpcZwK0PZfAqVOR2Sul0Te8Kwx9w9PEMiNLfeOGmJ8txTGIFTXE/GzAMdQQluM31D6WldeWLVvisbGxssITNyeB4eFhHTx40Gy+ytm8aXHMiilOm2CWkyVmxUYTyyjoa0kzvFiW+mJWwtMXsxKeJpYZWY5fy7x6IRZmJSyVMCth6dF32VhOlpiV8C4P9A1PE8uMLPXFrFgqYxMLs2LDMdQoluM31D6WlRdmpSyy3cXFrHTHjVoZCVhOlpiVjNArLIa+FcKuoSlLfTErNQjYoUnMSniaWGZkOX4t8+qFWJiVsFTCrISlR99lYzlZYlbCuzzQNzxNLDOy1BezYqmMTSzMig3HUKNYjt9Q+1hWXpiVssh2Fxez0h03amUkYDlZYlYyQq+wGPpWCLuGpiz1xazUICArK+FBrzAjy/FbYdpBNIVZCUKGq0lgVsLSo++ysZwsMSvhXR7oG54mlhlZ6otZsVTGJhYrKzYcQ41iOX5D7WNZeWFWyiLbXVzMSnfcqJWRgOVkiVnJCL3CYuhbIewamrLUF7NSg4CsrIQHvcKMLMdvhWkH0RRmJQgZWFkJS4b+zcZyssSshHedoG94mlhmZKkvZsVSGZtYrKzYcAw1iuX4DbWPZeWFWSmLbHdxWVnpjhu1MhKwnCwxKxmhV1gMfSuEXUNTlvpiVmoQkJWV8KBXmJHl+K0w7SCawqwEIQMrK1YyfPrT0ubN0qJFsyM+95y0devM7w4ckO6889rnr7wiPfKI9O1vz/zuySeld71L+vznpWPHZsdpF//IEemxx9r3Yu1a6bOflX78Y+nee616mz+O5WRZh1kJUV93vdx664wWP/tZ6+smv1Ld1UBf+/Gb1Dc9V3SnUve1LPWtxaz8zqPS0GekN715NoQXn5HG18z8btMJ6ZYPXfv8wo+kw5ukF78187ut/yQtu1E6uk36xz+fHadd/Oe/JH3j9+cH7+Iuf4808UfSXz/cvUgFavb6ykro87OT5oUX6rsHW47fApeZVdVDkr4k6YRVwPni5DErjz32mB5++NoYfvbZZzU0NJQ5TV/f10v/fPHiRT3yyCO6//779d73vnfeuBMTE7rrrrvkViJGR0e1ZMmSzHmEXJCVlYLq+Mny+eevmZNkSPfgceON0le+In3xi9L73y997nPSwMC1h8wsZiUZ35ufdoYlOYHXOVE6DpaTZZ1mJRR9H3pIWr9ectp/85sz11Kz2R83Q/SVkvq++urMH0LaXXsFp65M1S3Hb61m5eW/u2ZOkj1PG4ZbPihtGJfesvSaOcliVpLxvfmZz7B4k+NywaxkuhZbFQrt/uvv73XOyUlOluO3a5HsKv5I0lslPSdpd9mmJatZeeKJJ/SpT31qTi/zGJa0OUkGc0ZlZGREk5OT+trXvjavWXn99df1yU9+Uk899RRmxe66M48Uhfaw024iTf8+r1nxE6IjmFyhcT+n/9KEWSl2nc13M6xD33Rv5rt2ivU8W23LmyHjdzbzTg9i2RQqVspS3+DMijcMaSOT/n1es+INj0OfXKHxUvjPb/gV6b9+jlkpcImGNj/7HQ1nzrT+42WBrnZV1XL8dpWAbaWPX1lZWSrpvKTnyzQtWcxKKyPhzcujjz6qhx56SN///vf1iU98QqtXr9bSpUv1+OOPT1P56le/Om0s3L92KyvPPPOMnnzySY2NjV0lmayXxptc4ZlvZSVpalyM2267bZYR8v3y7aZjpT+/55575Pr99re/fTolz+DBBx/U008/Pf07Z7TcP8fiO9/5zhwGnS4VVlY6Eerw+XyTZbsVkPQWrbxmxaXUro7L5667pGefnfmr7A9/WN9f3V2elpNlaA+zdeibvBz9HfTJsgAAIABJREFUtfeTn8w1rQUv68zV0TfbNrD06kgnk5lcYZlvu2dmobosaKlvcGal3QrIb/6etG6/dP6H0oFfz7YNLG145jM4rt1fuVN6/az0zpWYlS6vTVctxPtvclt4P23TlfSBAlJZVX1C0o2JYD+V9A+S/ljSX1o14uJkMStJo9HOHHiz4h/Qkzm22/blTUces+INgjMYBw4cmDZHrbaBpY2Gz8cbjuuvv356JSdpkFwZ3z/3360+Txqe9GqTq/vAAw9o8+bNV42KbzfrChRmpeDV3WrPrJ+gPvIR6fbbr20B802lV0YefLDzmZW8Dzs+L8xKMYFD1dcb3uuvl5Lno4r1Nn9ty4fZOs1o8sxZCOPXKRHCuTNLfWs1K8kzKz+/MLPF67c2Szd9YK5ZSK+MfPhPO59ZyWpWvBH6kdvJotbt5x+GXdfoxzMrdY5f9wcsf89/+eWZc6NuS1h6B0TXguWsaDl+JTUkfTBnCtbFV0p6Wyrof0g64v5ob9lYVrPiz4gk206ufniz4j7327jSqy/znVkZHBzsuA3Mt/Gxj31M995779WVnPnMyksvvTRrNcTnnz7z4s2J34b22muvzTkTk+6P/zlp4PzvvDnxqzs333xzprM1mJWCV3dof9nx3cGsFBT2SvUQ9fVm953vlPrpAHadZqXVuZC6V87cJdhpBcbmKm8fxfJhp1az0urMSh0rK27FZfGyme1hH9iJWSl4AYc4Pye71E/jt6BUFtXfJelfJUVXgv27pO9J+kNJ37RoIBkjq1lxdVqtnqS3gTkj4baFuX/pB/UvfOEL0wf0W620dDIrfqXEmw9nJvy2s3YH7FutfPiy/rN2281ana9J9+frX//69DmeVlvd0jqlt5C10xGzUvAKD23PLGaloKCp6iHq698WVfcWA4fK8mE2NLNS95mk+c6m2V7lC9SsVH1mxa+qvPmG2cBrPLfSLysrrf7YUPf47bc/NlQ158zTzp9IekCSW0lxJsU9+f9VWXnlMSvJHPzDvn8Ib2UeLM1Kq5Udn08nI5A84+K3cZ08eXKO0WjVv+T2rSJmJX1eBrNS0hXd6RCsf7D0b+7yWztcOv5VxXnPrGTZz87Kio3goenrtb98ee72Qpse54vSz2bFP2y410RXNX6T20hc+7wNLN/1OKd0O0PiC7qVjnf8muTf3OUNhfvcv6o47wH7j/6ZdPv912K264Jb2Wm1Da1gl/NU72ezUvf49dvA6vz6AMv5Oc91VUJZt6ryA/cmaEmfKdOk+NyzmBX/kO7q+APm6d95s+LKlLENrIhZ8X1Nrqa4bVnu1cdJo5NcTXF10q9GbrcNLLmykt4GlvcaYWUlL7FU+U4Ps654lu9Z8d+b4cP7h1H/wJL+HpdO37OCWSko7JXqoemb/A4O38M6V1gsb4ahrax4vlWO3+QWP9d+P73NL7htYF7gLN+z4gxN8p9fDXG/a/U9Llm+ZwWzUniSDm1+To/fftqmW1is4gHukfRU8TDZImQxKy5S+jtWfPT0NrBuDti71Qu/DcwfePdx2/Ui+faxVtvA0m8C83H8CsdNN91kdsC+1dmdNIdO/fH5YVayXbeU6pJArz/MdtntBVMNfftbakt9azEr/S1P4d71+spKYQB9HsBy/PY5qjndy2pWWhmW5AN4kVcX+61WydWTTg/3ncyKy7eVYUlu6+r0auJOn7c795I+25PniysxKwttBFbcX8vJso6/vFeMq+eaQ9+ekyxXwpb6YlZyoa+kMGalEsy1NWI5fmvrRE0N5zEr86WYxTzU1MWeahaz0lNy9V6ylpMlZiU8/dE3PE0sM7LUF7NiqYxNLMyKDcdQo1iO31D7WFZemJWyyHYXF7PSHTdqZSRgOVliVjJCr7AY+lYIu4amLPXFrNQgYIcmMSvhaWKZkeX4tcyrF2JhVsJSCbMSlh59l43lZIlZCe/yQN/wNLHMyFJfzIqlMjaxMCs2HEONYjl+Q+1jWXlZmZWy8ltocTErC03xivtrOVliVioWL0Nz6JsBUg8XsdQXsxLehYBZCU8Ty4wsx69lXr0QC7MSlkqYlbD06LtsLCdLzEp4lwf6hqeJZUaW+mJWLJWxiYVZseEYahTL8RtqH8vKC7NSFtnu4mJWuuNGrYwELCdLzEpG6BUWQ98KYdfQlKW+mJUaBOzQJGYlPE0sM7Icv5Z59UIszEpYKmFWwtKj77KxnCwxK+FdHugbniaWGVnqi1mxVMYmFmbFhmOoUSzHb6h9LCsvzEpZZLuLi1npjhu1MhKwnCwxKxmhV1gMfSuEXUNTlvpiVmoQkJWV8KBXmJHl+K0w7SCawqwEIcPVJPrNrFyQNBAW4gWdTfPUqegGKwKrVsXoawXTJg762nAMNYqpvnFDjN+wlG5GDTE/h6WJZTam49cysV6ItW3btgu7d+8eWLZsWS+k29c5nj9/Xrt27Wru37/fbL6qE1g0OBgfjyKtqTMJ2r5GII514vTp6G4rJuhrRdImDvracAw1irW+cUPHJebngPQ+ETXE/ByQIJapWI9fy9x6IdaOHTuOb9iwYc3Q0FAvpNvXOU5MTOjw4cMn9u7dazZf1QksuuOOeG0c65CkpXUmQtvTBKaiSBtPnoyOWfFAXyuSJnHQ1wRjsEHM9Y0bWisxPwei+JSkjVFDzM+BCGKchvn4Nc4v+HDDw8Nrly9ffmjPnj08T9as1s6dO6fOnTu3cWxszGy+qrNLkWt8cDAejyKtx7DUKYWm4lhHTp+ONllngb7WRLuKh75dYeuZSqXpGzc0LjE/13wlOKNyJGqI+blmIUpqvrTxW1K+wYbdvn37+IoVK9Zv3boVw1KTSgcOHJg6e/bskX379pnPVzV1SdNmBcNSF/6r7ZY+UWJYatUYfWvFX3rjpeuLYSldw/kaKM2ocP+tVVffeOnjN4heVpiEMyxLlixZv27duqUrV64UZ1jKh+/OqJw5c0ZHjx6dunjxYl8ZFUfvqllxP7gtQ2+8oZEo0moO3Zd/cUlqxrEmr7tOo5Zbv9pljr6VaJpsBH0rR15pg5Xqe2VL2IjE/FyRyk1Jk5JGLbd+MT9XpF7nZiodv53T6a8SbkvYwMDAyKVLl1ZfvnyZlziVLO+iRYuaixcvnmw2m6P9svUriWyWWSmZJeEhAAEIQAACEIAABCAAAQhkJoBZyYyKghCAAAQgAAEIQAACEIBAlQQwK1XSpi0IQAACEIAABCAAAQhAIDMBzEpmVBSEAAQgAAEIQAACEIAABKokgFmpkjZtQQACEIAABCAAAQhAAAKZCWBWMqOiIAQgAAEIQAACEIAABCBQJQHMSpW0aQsCEIAABCAAAQhAAAIQyEwAs5IZFQUhAAEIQAACEIAABCAAgSoJYFaqpE1bEIAABCAAAQhAAAIQgEBmApiVzKgoCAEIQAACEIAABCAAAQhUSQCzUiVt2oIABCAAAQhAAAIQgAAEMhPArGRGRUEIQAACEIAABCAAAQhAoEoCmJUqadMWBCAAAQhAAAIQgAAEIJCZAGYlMyoKQgACEIAABCAAAQhAAAJVEsCsVEmbtiAAAQhAAAIQgAAEIACBzAQwK5lRURACEIAABCAAAQhAAAIQqJIAZqVK2rQFAQhAAAIQgAAEIAABCGQmgFnJjIqCEIAABCAAAQhAAAIQgECVBDArVdKmLQhAAAIQgAAEIAABCEAgM4FZZuWOO+K1b7yhkSjSakkDmaNQsFsCzTjW5HXXafTkyehYt0Gy1kPfrKTMyqGvGcogA6FvkLKYJVWpvnFDayWNSNx/zRScP1BT0qSk0aih0u+/FfUpmGaGh4fXDgwMjFy6dGn15cuXeZ4sWZlFixY1Fy9ePNlsNkfHxsb67nq+alYGB+PxKNJ6SUtLZkr4uQSm4lhHTp+ONpUFB33LIpspLvpmwtSzhdC3Z6XLlHjp+sYNjUvcfzOpYV9oStKRqKHS7r/2KYcdcfv27eNLlixZv27duqUrV67UsmXLwk64D7I7f/68zpw5o6NHj05dvHjxyL59+/rqep42KzzIBnGllnZDRF/0DYJAfyfB+EXfrghgVLrCZl0Jw2JE1BmVFStWrN+6dSt/+DZimjfMgQMHps6ePdtXhiVyW4PiWIdYUcl7OZRSfiqKtNFySxj6lqJTt0HRt1tyvVEPfXtDp26zNNf3ytYv7r/dKmJbzxmWjWwJ6x6q2/q1fPnyQ3v27MGodI/RpObOnTunzp07t7FftoRFg4Px8SjSGhM6BClMII514vTp6O7Cga4EQF8rkjZx0NeGY6hR0DdUZWzystY3bui4xP3XRh2TKCeihszuvyYZ9VCQHTt2HN+wYcOaoaGhHsq6P1OdmJjQ4cOHT+zdu7cvrudo1ar4Aofpg7pYm6dORTdYZYS+ViTN4qCvGcogA6FvkLKYJWWqb9wQ918zaUwCNaOGzO6/Jhn1UJBt27Zd2L179wBnVOoXzZ1h2bVrV3P//v19cT07sxLXj5UMkgROnYrMXimNvuFdW+gbniaWGaGvJc3wYlnqGzfE/TcwiaOGzO6/gXWt9HS2bNkSj42Nld4ODWQjMDw8rIMHD/bF9YxZyaZ5paUsb4aYlUqly9QY+mbC1LOF0LdnpcuUuKW+mJVMyCsthFnpHjdmpXt2ZdTErJRBlZhXCVjeDDEr4V1Y6BueJpYZoa8lzfBiWeqLWQlPX8xK95pgVrpnV0ZNzEoZVImJWVkg14Dlww5m9P9v73xgrKryO/5729g6gEBluoE0wuxSg7akVNbdkMCS1KosuOlEaSQGKi40QTEmEiUYKCM7BCJBxdRIlqRrsixEIREzbZQ/ok0oJMR1sTS2kVjcAWMx6+Ayw+C4a7rTnDec4bwz97577r3n/pn3PpMYmXnn/M7vfL7nvne+95xzX/kGDfqWTxOfGfnUF7PiUxk/sTAryTliVpKzy6ImZiULqsTErDTJGPA52cGslG/QoG/5NPGZkU99MSs+lfETC7OSnCNmJTm7LGpiVrKgSkzMSpOMAZ+THcxK+QYN+pZPE58Z+dQXs+JTGT+xMCvJOWJWkrPLoiZmJQuqxMSsNMkY8DnZwayUb9Cgb/k08ZmRT30xKz6V8RMLs5KcI2YlObssamJWsqBKTMxKk4wBn5MdzEr5Bg36lk8Tnxn51Bez4lMZP7EwK8k5YlaSs8uiJmYlC6rExKw0yRjwOdnBrJRv0KBv+TTxmZFPfTErPpXxEwuzkpwjZiU5uyxqYlayoEpMzEqTjAGfkx3MSvkGDfqWTxOfGfnUF7PiUxk/sTAryTliVpKzy6ImZiUl1YcfFlm+XOS662oDvfuuyOrVQ3/buVPke9+79vqvfy3y9NMiv/jF0N/27xeZPFnkmWdE3nyzNk5Y/K4ukc2bw5NftEjkqadEPvtM5P77U3YyRXWfH4ZFTGbLqK8aL9/+9pAoX34ZPG5SSBarKvr6v35Nfe33iljieCiMvv711bIonW+6SeRnPxP5yU88iJUghE99CzErf90pMnedyB/8YW3vf/W2yO47h/724FGRb/3Ntdcvfyry+oMiv3pn6G+r/0tkwk0ibzwq8p8/r40TFv/9n4r8yz8EE1fx/uTPr732+X+L7PyLBOqkr9JgZuUVEfmpiBxNTyY6QhyzsnnzZuno6BgOevz4cZk7d250I1dL6Pq6nv37wMCAPP3007Jy5UqZMWNGYFw7B1Uobh7OCRdQELOSErqezL7//jVzYoa0P5C++12RH/9YZNy4a5NMF7NixtfmJ8ywmBPsjz/GrKSRuGz6btwo0t4uorQ/dGhoLPX3F6exz8lOkWa0LNevqe/nnw/dCAnLLc24dq2Lvm5mJc77s2Kv31fUvzErrqMxoJw2E+f//Zo5MYsp43Djn4mc2Cbybx0i37pD5N7dIn80/po5cTErZnxtfoIMi47/VW9hBsXsfoOZlU9FZKKIvCsiW7I2La5mZe/evbJs2bIRgzOOUbDNiRlMGZU1a9bIyZMnZd++fYFm5eLFi7J06VI5fPhwTR5xckhxFeZSFbOSEnO9yWzYa/bf45oVbXhU6uYKjfkhqFd6MCvpBC6bvnZv6o2ddD13q93Ik9kirl+TepRRdlMoXSn0jW9W6r0/KzX069/8psjXX2NWUo3QemYl7DX773HNijYkKnFzhUb9/pd/L3LPSyKfvhtsnlJ1Nn7lBjMrf3d1ZWW8iPSKyPtZmhYXsxJkJLR56ezslI0bN8qZM2dkyZIlMmfOHBk/frxs3769KuSePXuqBkP9hK2svP3227J//37ZtWvXsPhmPf1H3cbixYurbUb92OZm1qxZNUZI90u3q4zCjh07pKWlpRrafn3BggWi+j1p0qTq65rB2rVr5ciRI9W/KaOlfhSL06dPj2AQlTNmJYpQxOv1JhRhKyD2Fq24ZkWlFFZH5TNvnlr+G7or+8knxd11V3k28mSnCH2DJrO/+c1I05pyWDtXR9/4k9l6168Gb66w1Nvu6SxUwoLo619f9b4xc6bI+fMi06djVhIOzaFq9cxK2AqINhS9nwytfsQ1K6rdsDr2trHfXQ7eXpaq0+6VPZuV77u3nFnJvSJykxH9koj8h4g8LyL/6rNVF7Oi2tNGw57Q61y0kdATdDPHsG1fOqarWTlx4oTMUxM/4ydsVcU2GrqKNhxjxoypruSYBkmV0f1T/w563TQ89mqTqvvII4/I8uXLh42Kbtd19QezknJ0B51p0OcIfvhDkdtuG/lhZN95W7s2+syKvRUk6o66zguzkk7gsuqrDe+YMSLm+ah0vY1fu1Ems+aZszJcv0qJMpw7Q18Rn+/PWtMPPhi61oI+H+Jfhclr+NS3NGdWtEH4q+UiU79/bQuYxmSvjCx8MfrMir3NLMysKIOk27z40dAqy2/7Rq7AJJcsVk3PZmWTiNwRKwH/hWeKyB9bYX8rIl3qpr3P5lzNSpBRMFc/tFlRueltXPbqS70zK7Nnz47cBhZnK5o2K93d3TWrIZqd7o9tTvQ2tJ6enqoxMs2Z3R/9e1AZbU706k5bW1vNqk2YhpiVlKO7bCsrujuYlZTCXq1eRn3NbSQcwE6ncxn1NXsUdVMiXe+ja/uczJbtTFIRK6NKT3VeUW3f/dGPMCvRIzCiRNlWVux0663apO58dADPZiW6wWxLTBaR/xWRytVmrojIhyLyjyJyyHfTrmZFtRu0emJvAzO3aNkT9WeffbZ6QD9opcXFrNhmRxsOnYPNJmjlQ2/z0q8FbTdTcYLO19j9OXDgQPUcT9BWNzsXewsZZsX3SHaYzBa55x2z4kfwMp5Z0U+LKvpJYIpwI09mi7x+Fduosw9+Rnj9KOgbfxtYmG7maqhJvchzKz71LXRlJeiAfRFnVjArWb4t/ZOIPCIiaiVFmRR1OONgVg3GMStmDnqyryfhaiVCn1nRhsC3WbEZmOdkzLMmdjnzCWJ6G9d77703wmgE9c/cvpXGrNjnZTArGY3oqEOwemKpn9ylP7BUOvpRxXHPrLjsZ8es+BG8bPpq7Yuc4JhkfU52ynbnXfUz7+tX3e3XW4NU+zwNLN11XLbr1+yNqTWPLk6os8vTwNRjhPWTu/R5FdWcflRx3DMrf/vPIretvBbTTD1oG5g+G5Owi2mqNdDKilpV+R8R+VhE1mVpUjRvF7OiJ+mqjj5gbv9NmxVVJottYC6H/KPGkLmaorZlqW1e5oqHuZqiYrluAzNXVnQbrmdU7JzZBhalYsTrUR+GqrrL96zo783QzenJqJ6w2N/jEvU9K5iVlMJerV42fc3v4NA9LHKFpdHNSt7Xr7nFT7XN0/zSXcdlu34xK+n0HFE7yqyoCi7fs2J+L4qq83+/Gzrron6Cvscl7HtW9HmYG/50qK79nS6eux8VroHMiurqAhGpfTZvFIAUr7uYFRU+6PtN1N/tbWBJDtirib3eBqYPvAdt7Qo6sxK2YhH2mGNdfurUqd4O2Aed3bE5hG1Vw6ykGLxUjU9gtE9m4/e4uWqgb2Prjb7o60qgkG1grsk1abkGMyu5quhqVoIMizkBT/PoYr0KYR7idzmHErW1KsiwmCseUY8mjno97NyLfbYn7AlqQUKzspLr8G++xpjsNLbm6Iu+rgSK2ObnmluzlvN5/WJWyjeKMCvJNYljVuq14np+JHmmzVETs9IcOhfWS58fhkx2CpMxtGH0LZ8mPjNCX580yxfLp76YlfLpi1lJrglmJTm7LGpiVrKgSsxhAj4/DDEr5RtY6Fs+TXxmhL4+aZYvlk99MSvl0xezklwTzEpydlnUxKxkQZWYmJUmGQM+JzuY0fINGvQtnyY+M/KpL2bFpzJ+YmFWknP0ZVaSZ0BNkwBmhfGQKQGfH4ZMZjOVKlFw9E2EbdRUQt9RI1WiRH3qi1lJJEGmlTAryfFiVpKzy6ImZiULqsRkZaVJxoDPyQ5mtHyDBn3Lp4nPjHzqi1nxqYyfWJiV5BwxK8nZZVETs5IFVWJiVppkDPic7GBWyjdo0Ld8mvjMyKe+mBWfyviJhVlJzhGzkpxdFjUxK1lQJSZmpUnGgM/JDmalfIMGfcunic+MfOqLWfGpjJ9YmJXkHDErydllUROzkgVVYmJWmmQM+JzsYFbKN2jQt3ya+MzIp76YFZ/K+ImFWUnOEbOSnF0WNRvNrFwWkXFZgCJmIgL9v/xl5YZENQMqfec7g+jrC6afOOjrh2NZo6BvWZXxk5dXfQc3Ce/PfnTxFaW/skm8ff76Smq0xHn00Ucvb9myZdyECRNGS8oNm2dvb69s2LCh/6WXXmqI8VyZPXvwrUpF7mxYxUZZxwYH5eipU5W7fKWNvr5I+omDvn44ljUK+pZVGT95+dZ3cJO8JcLnrx91vEQ5Wtkk3j5/vWQ0ioI88cQTb9177713zp07dxRl3ZipnjhxQl5//fWjzz33XEOM58rttw8uGhyUV0RkfGNKNqp61VepyAPvvVd501fW6OuLpJc46OsFY2mDoG9ppfGSmHd9BzfJIhE+f72okz5In4g8UNkk3j5/06c0uiKsWrVq0Y033vjK1q1bmU8WLN369ev7vvjiiwd27drVEOO5onjOnj24u1KRdgxLoaOrb3BQuk6dqjzoOwv09U00UTz0TYRt1FRC31EjVaJEM9N3cJPsFuHzN5Eq/iopo9JV2STeP3/9pTg6Ij3++OO7b7755vbVq1djWAqSbOfOnX0fffRR1wsvvNAw47lqVjAsBY2oa81m9kGIvoVrqxJA31LIkFkS6JsZ2lIEzlxfDEuhOmNUPONXhqWlpaX9nnvuGT9z5kzhDItnwAHh1BmVDz74QN54442+gYGBhjIqqrvDZkX9orYM/f73sqZSkTkcus9+cIlI/+CgnPzGN2SHz61fYZmjby6amo2gb+7Ic20QfXPFnXtjuep7dUvYGhE+f3NSul9ETorIDrZ++SeutoSNGzduzVdffTXn66+/5iFO/hHXRLzuuuv6r7/++pP9/f07GmXrl9nBGrOSMUvCQwACEIAABCAAAQhAAAIQcCaAWXFGRUEIQAACEIAABCAAAQhAIE8CmJU8adMWBCAAAQhAAAIQgAAEIOBMALPijIqCEIAABCAAAQhAAAIQgECeBDAredKmLQhAAAIQgAAEIAABCEDAmQBmxRkVBSEAAQhAAAIQgAAEIACBPAlgVvKkTVsQgAAEIAABCEAAAhCAgDMBzIozKgpCAAIQgAAEIAABCEAAAnkSwKzkSZu2IAABCEAAAhCAAAQgAAFnApgVZ1QUhAAEIAABCEAAAhCAAATyJIBZyZM2bUEAAhCAAAQgAAEIQAACzgQwK86oKAgBCEAAAhCAAAQgAAEI5EkAs5InbdqCAAQgAAEIQAACEIAABJwJYFacUVEQAhCAAAQgAAEIQAACEMiTAGYlT9q0BQEIQAACEIAABCAAAQg4E8CsOKOiIAQgAAEIQAACEIAABCCQJwHMSp60aQsCEIAABCAAAQhAAAIQcCaAWXFGRUEIQAACEIAABCAAAQhAIE8CmJU8adMWBCAAAQhAAAIQgAAEIOBMALPijIqCEIAABCAAAQhAAAIQgECeBDAredKmLQhAAAIQgAAEIAABCEDAmQBmxRkVBSEAAQhAAAIQgAAEIACBPAlgVvKkTVsQgAAEIAABCEAAAhCAgDMBzIozKgpCAAIQgAAEIAABCEAAAnkSwKzkSZu2IAABCEAAAhCAAAQgAAFnApgVZ1QUhAAEIAABCEAAAhCAAATyJIBZyZM2bUEAAhCAAAQgAAEIQAACzgQwK86oKAgBCEAAAhDIjMCi1tbWNVeuXJkzMDAwLrNWCFwl0NLS0j927NiTPT09O0TkzRRY0C0FPKpCwCQQdl1iVhgnEIAABCAAgQIJTJw4cfeECRPaOzo6xi9cuFCmTJlSYDbN0fSFCxfk4MGD0tnZ2dfb29t16dKlB+P2HN3iEqM8BOoTCLsuMSuMHAhAAAIQgEBBBNSEd/78+e1dXV3jC0qh6Zttb2/vO3bsWCzDgm5NP2wAkDEB87rErGQMm/AQgAAEIACBEAKLpk2b9kp3dzdGpeAh0tbW1nfu3LkHHLeEoVvBetF8cxDQ1yVmpTn0ppcQgAAEIFAyAq2trW9t27btzhUrVpQss+ZL5+WXX5Z169Yd7enpuSuq9+gWRYjXIeCHgL4uMSt+eBIFAhCAAAQgEItAS0vL5bNnz47jjEosbJkUVnvlp0+f3j8wMHBDVAPoFkWI1yHgh4C+LjErfngSBQIQgAAEIBCXwODg4GDcOpTPiEClUp0SucyL0C0jDQgLAZuAui5dLkrIQQACEIAABCDgnwCTXv9ME0fErCRGR0UIZEYAs5IZWgJDAAIQgAAEIglgViIR5VcAs5Ifa1qCgCsBzIorKcpBAAIQgAAE/BPArPhnmjgiZiUxOipCIDMCmJXM0BIYAhCAAAQgEEkAsxKJKL8CmJX8WNMSBFwJYFYgDmSiAAAKD0lEQVRcSVEOAhCAAAQg4J8AZsU/08QRMSuJ0VERApkRwKxkhpbAEIAABCAAgUgCmJVIRPkVwKzkx5qWIOBKALPiSopyEIAABCAAAf8EMCv+mSaOiFlJjI6KEMiMAGYlM7QEhgAEIAABCEQSwKxEIsqvAGYlP9a0BAFXApgVV1KUgwAEIAABCPgn4GxW9u7dK8uWLQvMYMGCBaJeP3ToULXMnj17ZOnSpd6y3bx5s3R0dMjx48dl7ty53uKWLRBmpWyKkA8ERDArjAIIQAACEIBAcQQwK8WxH9Fy2czKxYsXq6bz8OHDsmrVKtmxY4e0tLSUiFg+qZhGPS4HzVBlquKoH23k1e+TJk3y2gmX9lSZDRs2yJYtW7y377UzJQmGWSmJEKQBAQhAAAJNSSC2WfG9auJCnZWVEZScdXPhG1bmxIkTMm/evOrLs2bNkn379smMGTPShBx1dQcGBmTNmjXS3d1dNRtxzYWLefAJxW7PzjfqdZ+5NEoszEqjKEk/IAABCEBgNBJwnvTqu8v1zIpd5syZM7JkyRKZM2eOLF68WO6+++7Aia8ud/r06WGGZjsuZkWX0QGC7oDbZextZXYeenubnvDp/j3//PPV1Qb1n87T3iaXZMtamVZW9CT95MmTVd22b99es71PsXzttddqDIytk7kyo3Tp7OyUjRs3ViXSrG+99dbq76+++mo1fltb27BBUn+3NbBXe/S4MseLqYWLyTJNmWpTx7LzN18zL/agclr/JGbFHksmt6AxaPaxXnsvvviiPPbYY9Vxq3+CxqndnyCGUYzNa82ur+uuXbtWjhw5Uk1FGeHW1tbhlTx7vKjf63HJ8s0Xs5IlXWJDAAIQgAAE6hOIbVaCwukJT5hZMU2IbSa+/PLLmgmKft2c4ESZFduE6BjmJC+sjM7dnrAG5RF0bkfVV3fdg87zxDUsZTIrptF8+OGH5aGHHqqaTr0VTPOyJ/Z6Uqn+r7eQmWNGl7eNodL7mWeekaeeekrs8aJ11AZq165dwyGVGVYT3TDTGGR4zHzCdFdtrl69ekQfbLMelJPZpuZgc9G/2ysfYfnU659rey5mJao/Kt+g6yDoerXfK+z3CfO9QJnYlStX1hgp9brudxSXLN/oMStZ0iU2BCAAAQhAoCRmxTYF9h1znaY5WdJ1XM1KmDnQE2PVht7KpCc/alL65JNPVrf6qElwkMHRf9OTNDN3fRf6s88+G45tTvTjnPMok1kxjed9991X5aNWWTQ/3W+1EqL6eOrUqeqKiGZlmxl7O1VPT0911c3UxB6qNkfdhuY/ZsyYYd3UpFbnaW7ZsvMw2wgaa7ae+m5/mLmwczZXpMzVgrhmJWwFU+uiVw5VXD121fi/5ZZbas7ExDVLUdvegsa7OVZuv/32qq6TJ08e3janNdA5HzhwoGruzdXPqPHy4YcfVsdXEdtQMSt8jEIAAhCAAASKIxB7ZSXJNjBz4hK2Zz7ojq6rWQm662oaF9OY6G1IJvKwnPRkWeevn3YWtJ0paPUozJCFyV0Ws2JPuNU5laBtgOZWsP3799dsCwt7epy+A68Y6C2CtqGztyHZk1xzDJqT3B/84AeBqzmqLVMzzT/MVOrcgyb/9c6sBG19ss2ObR7CzpSEbdUyc9NPxgtiEGaOotrX9cyVQtNURBnxoHFiG6CgpwZGjRd7i5jKM+7KZdK3WcxKUnLUgwAEIAABCKQnkItZMbcPRe3hN++Wu5oVjcE2LXqSZd/1t7HFNSvmZDnovI2OP1rNimufNG99hkevsqgnhtV71LXSVU0+bbNiT4TPnz9fU0bfkU9iVoLOMNmrQ/pJZ3HMim3spk6dWrMKFdes2EZKm2B7dS+KQRqzonMIMl/1TKZ6LWglK41ZsU2JPTaDTGj6t8XaCJgV30SJBwEIQAACEHAnULhZsVcrzLvqcc2K7ra9VUVPsNT/7W1gahK7detWWb9+vfM2MHOiGLQtxh3/yEmRiFQc6jvr5hBrRJGw8z26oH14XK8ChE2gg75zJ+gOvX1X3t4+lGQbWL3++9gGZvdDn8HS2wKTmhV7LGvzoa+XrLaBBfEydTFXr+ytnco43H///c7bwOKMF9cbDEnGe1QdzEoUIV6HAAQgAAEIZEfAedKb9mlgequPvYqh96IHddHFrIQdCFbxzLvpYRPwqAO85sHhMAZhqwhx7/qWYRtYPfOl+xn0dCr7iU9BT8gyNbFXTeqtxgRNzPV4cTlgr8qGbRmqd8BebRmMetRv2CqU5hHXrESNpbDX9Sqe6qv5PS5hvwcZTFU2TLeg68C8ZpMcsA8y/eb2N3O86FU1+30i7jWW5K0Us5KEGnUgAAEIQAACfggUblbUnn3TSKjJxx133FFzWDvqgL1CYZuRoC1Ydhn7/I3ro4uDzu34eKxqGcyKvZphfgmkfYZHaVfvDIM98TU1CapnG09lMN55552aszBmTHOshD26WI2NqEPZYY8uNifv6t9K46AzK6b2dk56JULXt81DVDzbdKd5dLHO38w3iE29RzHrtx17vNtm0OXRxXbb9caL5hd2lsbP22FwFMxKlnSJDQEIQAACEKhPwNmsADJ7AmUwK9n3MnkLQU91c1nxS95i+Wo2W3/LoABmpQwqkAMEIAABCDQrAcxKiZTHrNQXw2WLUonkzCQVzEomWOsGxazkz5wWIQABCEAAApoAZqVEYwGzEi1G0BmRvB5hG51d9iUwK9kztlvArOTPnBYhAAEIQAACmJUSjgHMSglFIaWmJ4BZafohAAAIQAACECiQACsrBcIPuoNbhkcXlwgJqUCgcAKYlcIlIAEIQAACEGhiApiVEonPykqJxCAVCFwlgFlhKEAAAhCAAASKI4BZKY79iJYxKyUSg1QggFlhDEAAAhCAAAQKJ4BZKVyCawlgVkokBqlAALPCGIAABCAAAQgUTgCzUrgEmJUSSUAqEAhc8azABQIQgAAEIACB/Am0tLRcPnv27LgpU6bk3zgt1hC4cOGCTJ8+vX9gYOCGKDToFkWI1yHgh4C+LjErfngSBQIQgAAEIBCLQGtr61vbtm27c8WKFbHqUdg/gZdfflnWrVt3tKen566o6OgWRYjXIeCHgL4uMSt+eBIFAhCAAAQgEJfAomnTpr3S3d09Pm5Fyvsl0NbW1nfu3LkHRORNh8jo5gCJIhBIS0Bfl5iVtCSpDwEIQAACEEhIYOLEibvnz5/f3tXVhWFJyDBttfb29r5jx451Xbp06UHXWOjmSopyEEhGwLwuMSvJGFILAhCAAAQg4IWAmvhOmDChvaOjY/zChQuFMyxesNYNovbCHzx4UDo7O/t6e3tjGRUdGN2y14kWmotA2HWJWWmucUBvIQABCECgnAQWtba2rrly5cqcgYGBceVMsXGyamlp6R87duzJnp6eHY5bv8I6j26NMyzoScEEwq7L/wfI3gAR0qZynAAAAABJRU5ErkJggg==)\n"
      ]
    },
    {
      "cell_type": "markdown",
      "metadata": {
        "id": "70NBhocPguHD"
      },
      "source": [
        "'''Why to calculate RMSE?\n",
        "ANS: Classification accuracy is reward function, means something you want to maximize. Mean Square Error is loss function, \n",
        "means something you want to minimize. Now if we use 'cross_val_score' function then best score(high value) will give worst \n",
        "model in case of loss function! There are other sklearn functions which also depends on 'cross_val_score' to select best model by\n",
        "looking for highest scores, so a design decision was made for 'cross_val_score' to negate the output of all loss function. \n",
        "So that when other sklearn function calls 'cross_val_score' those function can always assume that highest score indicate better model.\n",
        "In short ignore the negative sign and rate the error based on its absolute value.\"\"\""
      ]
    },
    {
      "cell_type": "markdown",
      "metadata": {
        "id": "XeW3cp8kg1Pc"
      },
      "source": [
        "Root mean square error is high thus we can reduce it by using cross validation technique for model to perfom more good."
      ]
    },
    {
      "cell_type": "markdown",
      "metadata": {
        "id": "P6oPuVfHh56G"
      },
      "source": [
        "*Model Score Using KFold*\n",
        "\n",
        "---\n",
        "\n",
        "\n",
        "Let's use cross_val_score() to evaluate a score by cross-validation. We are going to use two different models for analysis. We will find the score for every split and then take average to get the overall score. We will analyze the model performance based on Root Mean Square Error (RMSE). Since RMSE is not directly available from scoring parameter, first we find the Mean Square Error and then take the square root of it."
      ]
    },
    {
      "cell_type": "code",
      "metadata": {
        "colab": {
          "base_uri": "https://localhost:8080/"
        },
        "id": "-YMDjAsWhCrB",
        "outputId": "4aee9d81-2616-45a0-e8f8-9572ed1f9bc1"
      },
      "source": [
        "kf =KFold(n_splits=5, shuffle=True, random_state=42)\n",
        "\n",
        "cnt = 1\n",
        "# split()  method generate indices to split data into training and test set.\n",
        "for train_index, test_index in kf.split(X, y):\n",
        "    print(f'Fold:{cnt}, Train set: {len(train_index)}, Test set:{len(test_index)}')\n",
        "    cnt += 1"
      ],
      "execution_count": null,
      "outputs": [
        {
          "output_type": "stream",
          "text": [
            "Fold:1, Train set: 6820, Test set:1706\n",
            "Fold:2, Train set: 6821, Test set:1705\n",
            "Fold:3, Train set: 6821, Test set:1705\n",
            "Fold:4, Train set: 6821, Test set:1705\n",
            "Fold:5, Train set: 6821, Test set:1705\n"
          ],
          "name": "stdout"
        }
      ]
    },
    {
      "cell_type": "code",
      "metadata": {
        "id": "gIlomcqghq4R"
      },
      "source": [
        "def rmse(score):\n",
        "    rmse = np.sqrt(-score)\n",
        "    print(f'rmse= {\"{:.2f}\".format(rmse)}')"
      ],
      "execution_count": null,
      "outputs": []
    },
    {
      "cell_type": "code",
      "metadata": {
        "id": "Xw8bKZ7lhrCL"
      },
      "source": [
        "def mse(score_mse):\n",
        "    mse = np.square(score_mse)\n",
        "    print(f'mse= {\"{:.2f}\".format(mse)}')"
      ],
      "execution_count": null,
      "outputs": []
    },
    {
      "cell_type": "code",
      "metadata": {
        "colab": {
          "base_uri": "https://localhost:8080/"
        },
        "id": "5cJlSk9zhrLl",
        "outputId": "500fd11a-ae1f-4d25-c84d-ce3f72796498"
      },
      "source": [
        "score = cross_val_score(DecisionTreeRegressor(random_state= 42), X, y, cv=kf, scoring=\"neg_mean_squared_error\")\n",
        "print(f'Scores for each fold: {score}')\n",
        "rmse(score.mean())"
      ],
      "execution_count": null,
      "outputs": [
        {
          "output_type": "stream",
          "text": [
            "Scores for each fold: [  -32567.03972837 -3929732.58945752 -5449793.89008347 -1241432.79910334\n",
            "  -437792.01195186]\n",
            "rmse= 1489.38\n"
          ],
          "name": "stdout"
        }
      ]
    },
    {
      "cell_type": "code",
      "metadata": {
        "colab": {
          "base_uri": "https://localhost:8080/"
        },
        "id": "JWLePdTOhrRf",
        "outputId": "0a3ef092-ee68-4128-b79e-78c9701c8b05"
      },
      "source": [
        "score = cross_val_score(RandomForestRegressor(random_state= 42), X, y, cv= kf, scoring=\"neg_mean_squared_error\")\n",
        "print(f'Scores for each fold are: {score}')\n",
        "rmse(score.mean())"
      ],
      "execution_count": null,
      "outputs": [
        {
          "output_type": "stream",
          "text": [
            "Scores for each fold are: [  -772517.24250967   -223028.43922209  -4969588.0803285\n",
            "  -7466844.25476405 -12722391.83672881]\n",
            "rmse= 2287.11\n"
          ],
          "name": "stdout"
        }
      ]
    },
    {
      "cell_type": "code",
      "metadata": {
        "colab": {
          "base_uri": "https://localhost:8080/"
        },
        "id": "heCr1GclijXV",
        "outputId": "48281fb2-ae5b-43b9-bb3b-976e9dcff134"
      },
      "source": [
        "max_depth = [1,2,3,4,5,6,7,8,9,10]\n",
        "\n",
        "for val in max_depth:\n",
        "    score = cross_val_score(DecisionTreeRegressor(max_depth= val, random_state= 42), X, y, cv= kf, scoring=\"neg_mean_squared_error\")\n",
        "    print(f'For max depth: {val}')\n",
        "    rmse(score.mean())"
      ],
      "execution_count": null,
      "outputs": [
        {
          "output_type": "stream",
          "text": [
            "For max depth: 1\n",
            "rmse= 14781.17\n",
            "For max depth: 2\n",
            "rmse= 10757.54\n",
            "For max depth: 3\n",
            "rmse= 5429.63\n",
            "For max depth: 4\n",
            "rmse= 3125.05\n",
            "For max depth: 5\n",
            "rmse= 2974.38\n",
            "For max depth: 6\n",
            "rmse= 2735.89\n",
            "For max depth: 7\n",
            "rmse= 1564.30\n",
            "For max depth: 8\n",
            "rmse= 1520.82\n",
            "For max depth: 9\n",
            "rmse= 2298.11\n",
            "For max depth: 10\n",
            "rmse= 1783.93\n"
          ],
          "name": "stdout"
        }
      ]
    },
    {
      "cell_type": "markdown",
      "metadata": {
        "id": "APYj9Ikdi1xB"
      },
      "source": [
        "Decision Tree Regressor Tuning \n",
        "There are multiple hyperparameters like max_depth, min_samples_split, min_samples_leaf etc which affect the model performance. Here we are going to do tuning based on 'max_depth'. We will try with max depth starting from 1 to 10 and depending on the final 'rmse' score choose the value of max_depth."
      ]
    },
    {
      "cell_type": "code",
      "metadata": {
        "colab": {
          "base_uri": "https://localhost:8080/"
        },
        "id": "0hNFrosRiqSc",
        "outputId": "bf5e1def-ac5f-439b-e78c-140207fca659"
      },
      "source": [
        "estimators = [50, 100, 150, 200, 250, 300, 350]\n",
        "\n",
        "for count in estimators:\n",
        "    score = cross_val_score(RandomForestRegressor(n_estimators= count, random_state= 42), X, y, cv= kf, scoring=\"neg_mean_squared_error\")\n",
        "    print(f'For estimators: {count}')\n",
        "    rmse(score.mean())"
      ],
      "execution_count": null,
      "outputs": [
        {
          "output_type": "stream",
          "text": [
            "For estimators: 50\n",
            "rmse= 2295.23\n",
            "For estimators: 100\n",
            "rmse= 2287.11\n",
            "For estimators: 150\n",
            "rmse= 2230.48\n",
            "For estimators: 200\n",
            "rmse= 2186.36\n",
            "For estimators: 250\n",
            "rmse= 2179.14\n",
            "For estimators: 300\n",
            "rmse= 2204.50\n",
            "For estimators: 350\n",
            "rmse= 2227.23\n"
          ],
          "name": "stdout"
        }
      ]
    },
    {
      "cell_type": "markdown",
      "metadata": {
        "id": "zmGVN5mMix9L"
      },
      "source": [
        "Random Forest Regressor Tuning \n",
        "There are multiple hyperparameters like n_estimators, max_depth, min_samples_split etc which affect the model performance. Here we are going to do tuning based on 'n_estimators'. We will try with estimators starting from 50 to 350 and depending on the final 'rmse' score choose the value of estimator."
      ]
    },
    {
      "cell_type": "markdown",
      "metadata": {
        "id": "JMoxybmplPKZ"
      },
      "source": [
        "**CONCLUSION:**\n",
        "\n",
        "\n",
        "*   We could see better accuracy by using feature selection tehcinuqe as mutual information which was giving us 96%.\n",
        "*   Model was giving high root mean square error which was could be reduced with the cross validation,kFolds algorithm.\n",
        "\n",
        "*   Model predicted price for medication for coming 6months-1year for the patients,who diagnosed as prediabtes,obesity,hypertension etc.\n",
        "\n",
        "\n",
        "\n"
      ]
    }
  ]
}